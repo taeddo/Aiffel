{
 "cells": [
  {
   "cell_type": "code",
   "execution_count": 18,
   "id": "d0d47e39",
   "metadata": {},
   "outputs": [
    {
     "name": "stdout",
     "output_type": "stream",
     "text": [
      "=3\n"
     ]
    },
    {
     "name": "stderr",
     "output_type": "stream",
     "text": [
      "[nltk_data] Downloading package stopwords to /aiffel/nltk_data...\n",
      "[nltk_data]   Package stopwords is already up-to-date!\n"
     ]
    }
   ],
   "source": [
    "# 데이터 전처리를 위한 패키지 불러오기\n",
    "\n",
    "import nltk\n",
    "nltk.download('stopwords')\n",
    "\n",
    "import numpy as np\n",
    "import pandas as pd\n",
    "import os\n",
    "import re\n",
    "import matplotlib.pyplot as plt\n",
    "from nltk.corpus import stopwords\n",
    "from bs4 import BeautifulSoup \n",
    "from tensorflow.keras.preprocessing.text import Tokenizer \n",
    "from tensorflow.keras.preprocessing.sequence import pad_sequences\n",
    "import urllib.request\n",
    "import warnings\n",
    "warnings.filterwarnings(\"ignore\", category=UserWarning, module='bs4')\n",
    "\n",
    "print('=3')"
   ]
  },
  {
   "cell_type": "code",
   "execution_count": 19,
   "id": "c736444a",
   "metadata": {},
   "outputs": [],
   "source": [
    "# Srep 1. 데이터 수집하기\n",
    "\n",
    "import urllib.request\n",
    "urllib.request.urlretrieve(\"https://raw.githubusercontent.com/sunnysai12345/News_Summary/master/news_summary_more.csv\", filename=\"news_summary_more.csv\")\n",
    "data = pd.read_csv('news_summary_more.csv', encoding='iso-8859-1')"
   ]
  },
  {
   "cell_type": "code",
   "execution_count": 20,
   "id": "4ed6dca8",
   "metadata": {},
   "outputs": [
    {
     "data": {
      "text/html": [
       "<div>\n",
       "<style scoped>\n",
       "    .dataframe tbody tr th:only-of-type {\n",
       "        vertical-align: middle;\n",
       "    }\n",
       "\n",
       "    .dataframe tbody tr th {\n",
       "        vertical-align: top;\n",
       "    }\n",
       "\n",
       "    .dataframe thead th {\n",
       "        text-align: right;\n",
       "    }\n",
       "</style>\n",
       "<table border=\"1\" class=\"dataframe\">\n",
       "  <thead>\n",
       "    <tr style=\"text-align: right;\">\n",
       "      <th></th>\n",
       "      <th>headlines</th>\n",
       "      <th>text</th>\n",
       "    </tr>\n",
       "  </thead>\n",
       "  <tbody>\n",
       "    <tr>\n",
       "      <th>43837</th>\n",
       "      <td>How did Hawking communicate despite motor neur...</td>\n",
       "      <td>World-renowned physicist Stephen Hawking gradu...</td>\n",
       "    </tr>\n",
       "    <tr>\n",
       "      <th>45128</th>\n",
       "      <td>Assam government extends AFSPA by six months</td>\n",
       "      <td>The Assam government has extended the Armed Fo...</td>\n",
       "    </tr>\n",
       "    <tr>\n",
       "      <th>88875</th>\n",
       "      <td>Baahubali 2 becomes first film in Hindi to ear...</td>\n",
       "      <td>The Hindi version of SS Rajamouli's 'Baahubali...</td>\n",
       "    </tr>\n",
       "    <tr>\n",
       "      <th>87183</th>\n",
       "      <td>SRK thanks Shabana for saying Suhana will be a...</td>\n",
       "      <td>Actor Shah Rukh Khan took to Twitter to thank ...</td>\n",
       "    </tr>\n",
       "    <tr>\n",
       "      <th>64898</th>\n",
       "      <td>Jharkhand CM seen riding scooter without helme...</td>\n",
       "      <td>Jharkhand Chief Minister Raghubar Das was spot...</td>\n",
       "    </tr>\n",
       "    <tr>\n",
       "      <th>37944</th>\n",
       "      <td>Paes' dad is Olympic medalist, mom ex-basketba...</td>\n",
       "      <td>Indian tennis player Leander Paes, who is cele...</td>\n",
       "    </tr>\n",
       "    <tr>\n",
       "      <th>45879</th>\n",
       "      <td>Mantras coded laws of motion before Newton: Mo...</td>\n",
       "      <td>Minister of State for Human Resource Developme...</td>\n",
       "    </tr>\n",
       "    <tr>\n",
       "      <th>11212</th>\n",
       "      <td>Asia Bibi's lawyer flees Pakistan citing threa...</td>\n",
       "      <td>Saif-ul-Mulook, the lawyer of Christian woman ...</td>\n",
       "    </tr>\n",
       "    <tr>\n",
       "      <th>48666</th>\n",
       "      <td>Every family of a village in Arunachal becomes...</td>\n",
       "      <td>Every family in Arunachal Pradesh's Bomja vill...</td>\n",
       "    </tr>\n",
       "    <tr>\n",
       "      <th>38465</th>\n",
       "      <td>Kim Kardashian asks for 'edit' button, Twitter...</td>\n",
       "      <td>Reality television personality Kim Kardashian ...</td>\n",
       "    </tr>\n",
       "  </tbody>\n",
       "</table>\n",
       "</div>"
      ],
      "text/plain": [
       "                                               headlines  \\\n",
       "43837  How did Hawking communicate despite motor neur...   \n",
       "45128       Assam government extends AFSPA by six months   \n",
       "88875  Baahubali 2 becomes first film in Hindi to ear...   \n",
       "87183  SRK thanks Shabana for saying Suhana will be a...   \n",
       "64898  Jharkhand CM seen riding scooter without helme...   \n",
       "37944  Paes' dad is Olympic medalist, mom ex-basketba...   \n",
       "45879  Mantras coded laws of motion before Newton: Mo...   \n",
       "11212  Asia Bibi's lawyer flees Pakistan citing threa...   \n",
       "48666  Every family of a village in Arunachal becomes...   \n",
       "38465  Kim Kardashian asks for 'edit' button, Twitter...   \n",
       "\n",
       "                                                    text  \n",
       "43837  World-renowned physicist Stephen Hawking gradu...  \n",
       "45128  The Assam government has extended the Armed Fo...  \n",
       "88875  The Hindi version of SS Rajamouli's 'Baahubali...  \n",
       "87183  Actor Shah Rukh Khan took to Twitter to thank ...  \n",
       "64898  Jharkhand Chief Minister Raghubar Das was spot...  \n",
       "37944  Indian tennis player Leander Paes, who is cele...  \n",
       "45879  Minister of State for Human Resource Developme...  \n",
       "11212  Saif-ul-Mulook, the lawyer of Christian woman ...  \n",
       "48666  Every family in Arunachal Pradesh's Bomja vill...  \n",
       "38465  Reality television personality Kim Kardashian ...  "
      ]
     },
     "execution_count": 20,
     "metadata": {},
     "output_type": "execute_result"
    }
   ],
   "source": [
    "data.sample(10)"
   ]
  },
  {
   "cell_type": "code",
   "execution_count": 21,
   "id": "4ad132d1",
   "metadata": {},
   "outputs": [
    {
     "name": "stdout",
     "output_type": "stream",
     "text": [
      "전체 샘플수 : 98401\n"
     ]
    }
   ],
   "source": [
    "# Step 2. 데이터 전처리하기 (추상적 요약)\n",
    "   \n",
    "data = pd.read_csv('news_summary_more.csv', encoding='iso-8859-1')\n",
    "print('전체 샘플수 :', (len(data)))\n"
   ]
  },
  {
   "cell_type": "code",
   "execution_count": 22,
   "id": "264c9913",
   "metadata": {},
   "outputs": [
    {
     "data": {
      "text/html": [
       "<div>\n",
       "<style scoped>\n",
       "    .dataframe tbody tr th:only-of-type {\n",
       "        vertical-align: middle;\n",
       "    }\n",
       "\n",
       "    .dataframe tbody tr th {\n",
       "        vertical-align: top;\n",
       "    }\n",
       "\n",
       "    .dataframe thead th {\n",
       "        text-align: right;\n",
       "    }\n",
       "</style>\n",
       "<table border=\"1\" class=\"dataframe\">\n",
       "  <thead>\n",
       "    <tr style=\"text-align: right;\">\n",
       "      <th></th>\n",
       "      <th>headlines</th>\n",
       "      <th>text</th>\n",
       "    </tr>\n",
       "  </thead>\n",
       "  <tbody>\n",
       "    <tr>\n",
       "      <th>0</th>\n",
       "      <td>upGrad learner switches to career in ML &amp; Al w...</td>\n",
       "      <td>Saurav Kant, an alumnus of upGrad and IIIT-B's...</td>\n",
       "    </tr>\n",
       "    <tr>\n",
       "      <th>1</th>\n",
       "      <td>Delhi techie wins free food from Swiggy for on...</td>\n",
       "      <td>Kunal Shah's credit card bill payment platform...</td>\n",
       "    </tr>\n",
       "    <tr>\n",
       "      <th>2</th>\n",
       "      <td>New Zealand end Rohit Sharma-led India's 12-ma...</td>\n",
       "      <td>New Zealand defeated India by 8 wickets in the...</td>\n",
       "    </tr>\n",
       "    <tr>\n",
       "      <th>3</th>\n",
       "      <td>Aegon life iTerm insurance plan helps customer...</td>\n",
       "      <td>With Aegon Life iTerm Insurance plan, customer...</td>\n",
       "    </tr>\n",
       "    <tr>\n",
       "      <th>4</th>\n",
       "      <td>Have known Hirani for yrs, what if MeToo claim...</td>\n",
       "      <td>Speaking about the sexual harassment allegatio...</td>\n",
       "    </tr>\n",
       "  </tbody>\n",
       "</table>\n",
       "</div>"
      ],
      "text/plain": [
       "                                           headlines  \\\n",
       "0  upGrad learner switches to career in ML & Al w...   \n",
       "1  Delhi techie wins free food from Swiggy for on...   \n",
       "2  New Zealand end Rohit Sharma-led India's 12-ma...   \n",
       "3  Aegon life iTerm insurance plan helps customer...   \n",
       "4  Have known Hirani for yrs, what if MeToo claim...   \n",
       "\n",
       "                                                text  \n",
       "0  Saurav Kant, an alumnus of upGrad and IIIT-B's...  \n",
       "1  Kunal Shah's credit card bill payment platform...  \n",
       "2  New Zealand defeated India by 8 wickets in the...  \n",
       "3  With Aegon Life iTerm Insurance plan, customer...  \n",
       "4  Speaking about the sexual harassment allegatio...  "
      ]
     },
     "execution_count": 22,
     "metadata": {},
     "output_type": "execute_result"
    }
   ],
   "source": [
    "data.head()"
   ]
  },
  {
   "cell_type": "code",
   "execution_count": 23,
   "id": "99172568",
   "metadata": {},
   "outputs": [
    {
     "data": {
      "text/html": [
       "<div>\n",
       "<style scoped>\n",
       "    .dataframe tbody tr th:only-of-type {\n",
       "        vertical-align: middle;\n",
       "    }\n",
       "\n",
       "    .dataframe tbody tr th {\n",
       "        vertical-align: top;\n",
       "    }\n",
       "\n",
       "    .dataframe thead th {\n",
       "        text-align: right;\n",
       "    }\n",
       "</style>\n",
       "<table border=\"1\" class=\"dataframe\">\n",
       "  <thead>\n",
       "    <tr style=\"text-align: right;\">\n",
       "      <th></th>\n",
       "      <th>text</th>\n",
       "      <th>headlines</th>\n",
       "    </tr>\n",
       "  </thead>\n",
       "  <tbody>\n",
       "    <tr>\n",
       "      <th>74600</th>\n",
       "      <td>The driver of a van that ploughed into crowds ...</td>\n",
       "      <td>Barcelona van attacker may still be alive, on ...</td>\n",
       "    </tr>\n",
       "    <tr>\n",
       "      <th>55504</th>\n",
       "      <td>China is using three satellite phones to gathe...</td>\n",
       "      <td>China using satellite phones to spy on Indian ...</td>\n",
       "    </tr>\n",
       "    <tr>\n",
       "      <th>30450</th>\n",
       "      <td>Twenty-three-year-old Suhani Jalota, the found...</td>\n",
       "      <td>23-yr-old Mumbai girl to attend Prince Harry, ...</td>\n",
       "    </tr>\n",
       "    <tr>\n",
       "      <th>69136</th>\n",
       "      <td>Delhi to Noida carriageway of Kalindi Kunj bri...</td>\n",
       "      <td>Delhi's Kalindi Kunj bridge to be shut at nigh...</td>\n",
       "    </tr>\n",
       "    <tr>\n",
       "      <th>49362</th>\n",
       "      <td>In a first, University of Oklahoma researchers...</td>\n",
       "      <td>Astronomers spot planets beyond Milky Way for ...</td>\n",
       "    </tr>\n",
       "    <tr>\n",
       "      <th>98159</th>\n",
       "      <td>Singer Selena Gomez has featured on the cover ...</td>\n",
       "      <td>Selena Gomez features on cover of Vogue Americ...</td>\n",
       "    </tr>\n",
       "    <tr>\n",
       "      <th>12705</th>\n",
       "      <td>Scientists with NASA's Fermi space telescope h...</td>\n",
       "      <td>Godzilla, Hulk among 21 unofficial constellati...</td>\n",
       "    </tr>\n",
       "    <tr>\n",
       "      <th>54082</th>\n",
       "      <td>No large commercial plane witnessed a fatal cr...</td>\n",
       "      <td>2017 safest year on record for commercial air ...</td>\n",
       "    </tr>\n",
       "    <tr>\n",
       "      <th>7373</th>\n",
       "      <td>Gautam Gambhir, who announced his retirement o...</td>\n",
       "      <td>I want to open both batting and bowling in my ...</td>\n",
       "    </tr>\n",
       "    <tr>\n",
       "      <th>80634</th>\n",
       "      <td>Kamal Haasan has been criticised for naming th...</td>\n",
       "      <td>Kamal Haasan criticised for naming actress in ...</td>\n",
       "    </tr>\n",
       "    <tr>\n",
       "      <th>58173</th>\n",
       "      <td>The Indian Statistical Institute's question pa...</td>\n",
       "      <td>Indian institute exam asks question on Trump's...</td>\n",
       "    </tr>\n",
       "    <tr>\n",
       "      <th>21572</th>\n",
       "      <td>India's national carrier Air India on Tuesday ...</td>\n",
       "      <td>Air India pays July salary to employees after ...</td>\n",
       "    </tr>\n",
       "    <tr>\n",
       "      <th>61080</th>\n",
       "      <td>Akshay Kumar and Isha Koppikar were among the ...</td>\n",
       "      <td>Akshay, Isha Koppikar share pic with kids on C...</td>\n",
       "    </tr>\n",
       "    <tr>\n",
       "      <th>79937</th>\n",
       "      <td>Union Sports Minister Vijay Goel has written t...</td>\n",
       "      <td>Sports Minister complains about Chandni Chowk'...</td>\n",
       "    </tr>\n",
       "    <tr>\n",
       "      <th>34433</th>\n",
       "      <td>Guests can sleep on a canvas dangling from the...</td>\n",
       "      <td>Guests can sleep on a canvas dangling from a c...</td>\n",
       "    </tr>\n",
       "  </tbody>\n",
       "</table>\n",
       "</div>"
      ],
      "text/plain": [
       "                                                    text  \\\n",
       "74600  The driver of a van that ploughed into crowds ...   \n",
       "55504  China is using three satellite phones to gathe...   \n",
       "30450  Twenty-three-year-old Suhani Jalota, the found...   \n",
       "69136  Delhi to Noida carriageway of Kalindi Kunj bri...   \n",
       "49362  In a first, University of Oklahoma researchers...   \n",
       "98159  Singer Selena Gomez has featured on the cover ...   \n",
       "12705  Scientists with NASA's Fermi space telescope h...   \n",
       "54082  No large commercial plane witnessed a fatal cr...   \n",
       "7373   Gautam Gambhir, who announced his retirement o...   \n",
       "80634  Kamal Haasan has been criticised for naming th...   \n",
       "58173  The Indian Statistical Institute's question pa...   \n",
       "21572  India's national carrier Air India on Tuesday ...   \n",
       "61080  Akshay Kumar and Isha Koppikar were among the ...   \n",
       "79937  Union Sports Minister Vijay Goel has written t...   \n",
       "34433  Guests can sleep on a canvas dangling from the...   \n",
       "\n",
       "                                               headlines  \n",
       "74600  Barcelona van attacker may still be alive, on ...  \n",
       "55504  China using satellite phones to spy on Indian ...  \n",
       "30450  23-yr-old Mumbai girl to attend Prince Harry, ...  \n",
       "69136  Delhi's Kalindi Kunj bridge to be shut at nigh...  \n",
       "49362  Astronomers spot planets beyond Milky Way for ...  \n",
       "98159  Selena Gomez features on cover of Vogue Americ...  \n",
       "12705  Godzilla, Hulk among 21 unofficial constellati...  \n",
       "54082  2017 safest year on record for commercial air ...  \n",
       "7373   I want to open both batting and bowling in my ...  \n",
       "80634  Kamal Haasan criticised for naming actress in ...  \n",
       "58173  Indian institute exam asks question on Trump's...  \n",
       "21572  Air India pays July salary to employees after ...  \n",
       "61080  Akshay, Isha Koppikar share pic with kids on C...  \n",
       "79937  Sports Minister complains about Chandni Chowk'...  \n",
       "34433  Guests can sleep on a canvas dangling from a c...  "
      ]
     },
     "execution_count": 23,
     "metadata": {},
     "output_type": "execute_result"
    }
   ],
   "source": [
    "# Summary 열과 Text 열만 훈련에 사용 2개의 열만 별도 저장하고 다시 출력\n",
    "data = data[['text','headlines']]\n",
    "data.head()\n",
    "\n",
    "#랜덤한 15개 샘플 출력\n",
    "data.sample(15)"
   ]
  },
  {
   "cell_type": "code",
   "execution_count": 24,
   "id": "0dc1cca2",
   "metadata": {},
   "outputs": [
    {
     "name": "stdout",
     "output_type": "stream",
     "text": [
      "text         0\n",
      "headlines    0\n",
      "dtype: int64\n"
     ]
    }
   ],
   "source": [
    "#.isnull().sum()을 사용하여 Null 값의 유무 확인\n",
    "print(data.isnull().sum())"
   ]
  },
  {
   "cell_type": "code",
   "execution_count": 25,
   "id": "50a5b3d1",
   "metadata": {},
   "outputs": [
    {
     "name": "stdout",
     "output_type": "stream",
     "text": [
      "전체 샘플수 : 98401\n"
     ]
    }
   ],
   "source": [
    "# dropna() 함수를 사용하여 Null 제거\n",
    "data.dropna(axis=0, inplace=True)\n",
    "print('전체 샘플수 :', (len(data)))"
   ]
  },
  {
   "cell_type": "code",
   "execution_count": 26,
   "id": "2ccef436",
   "metadata": {},
   "outputs": [
    {
     "name": "stdout",
     "output_type": "stream",
     "text": [
      "정규화 사전의 수:  120\n"
     ]
    }
   ],
   "source": [
    "#텍스트 정규화와 불용어 제거\n",
    "\n",
    "#정규화\n",
    "contractions = {\"ain't\": \"is not\", \"aren't\": \"are not\",\"can't\": \"cannot\", \"'cause\": \"because\", \"could've\": \"could have\", \"couldn't\": \"could not\",\n",
    "                           \"didn't\": \"did not\",  \"doesn't\": \"does not\", \"don't\": \"do not\", \"hadn't\": \"had not\", \"hasn't\": \"has not\", \"haven't\": \"have not\",\n",
    "                           \"he'd\": \"he would\",\"he'll\": \"he will\", \"he's\": \"he is\", \"how'd\": \"how did\", \"how'd'y\": \"how do you\", \"how'll\": \"how will\", \"how's\": \"how is\",\n",
    "                           \"I'd\": \"I would\", \"I'd've\": \"I would have\", \"I'll\": \"I will\", \"I'll've\": \"I will have\",\"I'm\": \"I am\", \"I've\": \"I have\", \"i'd\": \"i would\",\n",
    "                           \"i'd've\": \"i would have\", \"i'll\": \"i will\",  \"i'll've\": \"i will have\",\"i'm\": \"i am\", \"i've\": \"i have\", \"isn't\": \"is not\", \"it'd\": \"it would\",\n",
    "                           \"it'd've\": \"it would have\", \"it'll\": \"it will\", \"it'll've\": \"it will have\",\"it's\": \"it is\", \"let's\": \"let us\", \"ma'am\": \"madam\",\n",
    "                           \"mayn't\": \"may not\", \"might've\": \"might have\",\"mightn't\": \"might not\",\"mightn't've\": \"might not have\", \"must've\": \"must have\",\n",
    "                           \"mustn't\": \"must not\", \"mustn't've\": \"must not have\", \"needn't\": \"need not\", \"needn't've\": \"need not have\",\"o'clock\": \"of the clock\",\n",
    "                           \"oughtn't\": \"ought not\", \"oughtn't've\": \"ought not have\", \"shan't\": \"shall not\", \"sha'n't\": \"shall not\", \"shan't've\": \"shall not have\",\n",
    "                           \"she'd\": \"she would\", \"she'd've\": \"she would have\", \"she'll\": \"she will\", \"she'll've\": \"she will have\", \"she's\": \"she is\",\n",
    "                           \"should've\": \"should have\", \"shouldn't\": \"should not\", \"shouldn't've\": \"should not have\", \"so've\": \"so have\",\"so's\": \"so as\",\n",
    "                           \"this's\": \"this is\",\"that'd\": \"that would\", \"that'd've\": \"that would have\", \"that's\": \"that is\", \"there'd\": \"there would\",\n",
    "                           \"there'd've\": \"there would have\", \"there's\": \"there is\", \"here's\": \"here is\",\"they'd\": \"they would\", \"they'd've\": \"they would have\",\n",
    "                           \"they'll\": \"they will\", \"they'll've\": \"they will have\", \"they're\": \"they are\", \"they've\": \"they have\", \"to've\": \"to have\",\n",
    "                           \"wasn't\": \"was not\", \"we'd\": \"we would\", \"we'd've\": \"we would have\", \"we'll\": \"we will\", \"we'll've\": \"we will have\", \"we're\": \"we are\",\n",
    "                           \"we've\": \"we have\", \"weren't\": \"were not\", \"what'll\": \"what will\", \"what'll've\": \"what will have\", \"what're\": \"what are\",\n",
    "                           \"what's\": \"what is\", \"what've\": \"what have\", \"when's\": \"when is\", \"when've\": \"when have\", \"where'd\": \"where did\", \"where's\": \"where is\",\n",
    "                           \"where've\": \"where have\", \"who'll\": \"who will\", \"who'll've\": \"who will have\", \"who's\": \"who is\", \"who've\": \"who have\",\n",
    "                           \"why's\": \"why is\", \"why've\": \"why have\", \"will've\": \"will have\", \"won't\": \"will not\", \"won't've\": \"will not have\",\n",
    "                           \"would've\": \"would have\", \"wouldn't\": \"would not\", \"wouldn't've\": \"would not have\", \"y'all\": \"you all\",\n",
    "                           \"y'all'd\": \"you all would\",\"y'all'd've\": \"you all would have\",\"y'all're\": \"you all are\",\"y'all've\": \"you all have\",\n",
    "                           \"you'd\": \"you would\", \"you'd've\": \"you would have\", \"you'll\": \"you will\", \"you'll've\": \"you will have\",\n",
    "                           \"you're\": \"you are\", \"you've\": \"you have\"}\n",
    "\n",
    "print(\"정규화 사전의 수: \", len(contractions))"
   ]
  },
  {
   "cell_type": "code",
   "execution_count": 27,
   "id": "24ab201f",
   "metadata": {},
   "outputs": [
    {
     "name": "stdout",
     "output_type": "stream",
     "text": [
      "불용어 개수 : 179\n",
      "['i', 'me', 'my', 'myself', 'we', 'our', 'ours', 'ourselves', 'you', \"you're\", \"you've\", \"you'll\", \"you'd\", 'your', 'yours', 'yourself', 'yourselves', 'he', 'him', 'his', 'himself', 'she', \"she's\", 'her', 'hers', 'herself', 'it', \"it's\", 'its', 'itself', 'they', 'them', 'their', 'theirs', 'themselves', 'what', 'which', 'who', 'whom', 'this', 'that', \"that'll\", 'these', 'those', 'am', 'is', 'are', 'was', 'were', 'be', 'been', 'being', 'have', 'has', 'had', 'having', 'do', 'does', 'did', 'doing', 'a', 'an', 'the', 'and', 'but', 'if', 'or', 'because', 'as', 'until', 'while', 'of', 'at', 'by', 'for', 'with', 'about', 'against', 'between', 'into', 'through', 'during', 'before', 'after', 'above', 'below', 'to', 'from', 'up', 'down', 'in', 'out', 'on', 'off', 'over', 'under', 'again', 'further', 'then', 'once', 'here', 'there', 'when', 'where', 'why', 'how', 'all', 'any', 'both', 'each', 'few', 'more', 'most', 'other', 'some', 'such', 'no', 'nor', 'not', 'only', 'own', 'same', 'so', 'than', 'too', 'very', 's', 't', 'can', 'will', 'just', 'don', \"don't\", 'should', \"should've\", 'now', 'd', 'll', 'm', 'o', 're', 've', 'y', 'ain', 'aren', \"aren't\", 'couldn', \"couldn't\", 'didn', \"didn't\", 'doesn', \"doesn't\", 'hadn', \"hadn't\", 'hasn', \"hasn't\", 'haven', \"haven't\", 'isn', \"isn't\", 'ma', 'mightn', \"mightn't\", 'mustn', \"mustn't\", 'needn', \"needn't\", 'shan', \"shan't\", 'shouldn', \"shouldn't\", 'wasn', \"wasn't\", 'weren', \"weren't\", 'won', \"won't\", 'wouldn', \"wouldn't\"]\n"
     ]
    }
   ],
   "source": [
    "#불용어 제거\n",
    "print('불용어 개수 :', len(stopwords.words('english') ))\n",
    "print(stopwords.words('english'))"
   ]
  },
  {
   "cell_type": "code",
   "execution_count": 28,
   "id": "8490e007",
   "metadata": {},
   "outputs": [
    {
     "name": "stdout",
     "output_type": "stream",
     "text": [
      "=3\n"
     ]
    }
   ],
   "source": [
    "# 데이터 전처리 함수\n",
    "def preprocess_sentence(sentence, remove_stopwords=True):\n",
    "    sentence = sentence.lower() # 텍스트 소문자화\n",
    "    sentence = BeautifulSoup(sentence, \"lxml\").text # <br />, <a href = ...> 등의 html 태그 제거\n",
    "    sentence = re.sub(r'\\([^)]*\\)', '', sentence) # 괄호로 닫힌 문자열 (...) 제거 Ex) my husband (and myself!) for => my husband for\n",
    "    sentence = re.sub('\"','', sentence) # 쌍따옴표 \" 제거\n",
    "    sentence = ' '.join([contractions[t] if t in contractions else t for t in sentence.split(\" \")]) # 약어 정규화\n",
    "    sentence = re.sub(r\"'s\\b\",\"\", sentence) # 소유격 제거. Ex) roland's -> roland\n",
    "    sentence = re.sub(\"[^a-zA-Z]\", \" \", sentence) # 영어 외 문자(숫자, 특수문자 등) 공백으로 변환\n",
    "    sentence = re.sub('[m]{2,}', 'mm', sentence) # m이 3개 이상이면 2개로 변경. Ex) ummmmmmm yeah -> umm yeah\n",
    "    \n",
    "    # 불용어 제거 (Text)\n",
    "    if remove_stopwords:\n",
    "        tokens = ' '.join(word for word in sentence.split() if not word in stopwords.words('english') if len(word) > 1)\n",
    "    # 불용어 미제거 (headilines)\n",
    "    else:\n",
    "        tokens = ' '.join(word for word in sentence.split() if len(word) > 1)\n",
    "    return tokens\n",
    "print('=3')"
   ]
  },
  {
   "cell_type": "code",
   "execution_count": 29,
   "id": "f209baca",
   "metadata": {},
   "outputs": [
    {
     "name": "stdout",
     "output_type": "stream",
     "text": [
      "text:  everything bought great infact ordered twice third ordered wasfor mother father\n",
      "headlines: great way to start the day\n"
     ]
    }
   ],
   "source": [
    "# 전처리 전,후의 결과를 확인하기 위해 임의의 text와 headilines를 만들어 함수를 호출\n",
    "temp_text = 'Everything I bought was great, infact I ordered twice and the third ordered was<br />for my mother and father.'\n",
    "temp_headilines = 'Great way to start (or finish) the day!!!'\n",
    "\n",
    "print(\"text: \", preprocess_sentence(temp_text))\n",
    "print(\"headlines:\", preprocess_sentence(temp_headilines, False))  # 불용어를 제거하지 않습니다."
   ]
  },
  {
   "cell_type": "code",
   "execution_count": null,
   "id": "aff9b060",
   "metadata": {},
   "outputs": [],
   "source": [
    "#훈련 데이터 전처리\n",
    "#Text의 경우에는 불용어를 제거하고, headilines의 경우에는 불용어를 제거하지 않을 것이므로 따로 호출해서 진행\n",
    "\n",
    "clean_text = []\n",
    "# 전체 Text 데이터에 대한 전처리 : 10분 이상 시간이 걸릴 수 있습니다. \n",
    "for s in data['text']:\n",
    "    clean_text.append(preprocess_sentence(s))\n",
    "\n",
    "# 전처리 후 출력\n",
    "print(\"text 전처리 후 결과: \", clean_text[:5])"
   ]
  },
  {
   "cell_type": "code",
   "execution_count": 31,
   "id": "dbd79b32",
   "metadata": {},
   "outputs": [
    {
     "name": "stdout",
     "output_type": "stream",
     "text": [
      "headlines 전처리 후 결과:  ['upgrad learner switches to career in ml al with salary hike', 'delhi techie wins free food from swiggy for one year on cred', 'new zealand end rohit sharma led india match winning streak', 'aegon life iterm insurance plan helps customers save tax', 'have known hirani for yrs what if metoo claims are not true sonam']\n"
     ]
    }
   ],
   "source": [
    "#headilines에 대해서 전처리 함수를 호출해 줄 때는, 불용어 제거를 수행하지 않는다는 의미에서 두 번째 인자로 False\n",
    "\n",
    "clean_headilines = []\n",
    "# 전체 headilines 데이터에 대한 전처리 : 5분 이상 시간이 걸릴 수 있습니다. \n",
    "for s in data['headlines']:\n",
    "    clean_headilines.append(preprocess_sentence(s, False))\n",
    "\n",
    "print(\"headlines 전처리 후 결과: \", clean_headilines[:5])"
   ]
  },
  {
   "cell_type": "code",
   "execution_count": 35,
   "id": "e9c2255f",
   "metadata": {},
   "outputs": [
    {
     "name": "stdout",
     "output_type": "stream",
     "text": [
      "=3\n"
     ]
    }
   ],
   "source": [
    "data['text'] = clean_text\n",
    "data['headlines'] = clean_headilines\n",
    "\n",
    "# 빈 값을 Null 값으로 변환\n",
    "data.replace('', np.nan, inplace=True)\n",
    "print('=3')"
   ]
  },
  {
   "cell_type": "code",
   "execution_count": 36,
   "id": "32d05547",
   "metadata": {},
   "outputs": [
    {
     "data": {
      "text/plain": [
       "text         0\n",
       "headlines    0\n",
       "dtype: int64"
      ]
     },
     "execution_count": 36,
     "metadata": {},
     "output_type": "execute_result"
    }
   ],
   "source": [
    "# .isnull().sum()을 사용해서 Null 값이 생겼는지 확인\n",
    "data.isnull().sum()"
   ]
  },
  {
   "cell_type": "code",
   "execution_count": 37,
   "id": "a28d6a7f",
   "metadata": {},
   "outputs": [
    {
     "name": "stdout",
     "output_type": "stream",
     "text": [
      "전체 샘플수 : 98401\n"
     ]
    }
   ],
   "source": [
    "data.dropna(axis=0, inplace=True)\n",
    "print('전체 샘플수 :', (len(data)))"
   ]
  },
  {
   "cell_type": "code",
   "execution_count": 38,
   "id": "01715ec6",
   "metadata": {},
   "outputs": [
    {
     "name": "stdout",
     "output_type": "stream",
     "text": [
      "텍스트의 최소 길이 : 1\n",
      "텍스트의 최대 길이 : 60\n",
      "텍스트의 평균 길이 : 35.09983638377659\n",
      "요약의 최소 길이 : 1\n",
      "요약의 최대 길이 : 16\n",
      "요약의 평균 길이 : 9.299651426306644\n"
     ]
    },
    {
     "data": {
      "image/png": "[encoded data removed]",
      "text/plain": [
       "<Figure size 432x288 with 2 Axes>"
      ]
     },
     "metadata": {
      "needs_background": "light"
     },
     "output_type": "display_data"
    },
    {
     "data": {
      "image/png": "[encoded data removed]",
      "text/plain": [
       "<Figure size 432x288 with 1 Axes>"
      ]
     },
     "metadata": {
      "needs_background": "light"
     },
     "output_type": "display_data"
    },
    {
     "data": {
      "image/png": "[encoded data removed]",
      "text/plain": [
       "<Figure size 432x288 with 1 Axes>"
      ]
     },
     "metadata": {
      "needs_background": "light"
     },
     "output_type": "display_data"
    }
   ],
   "source": [
    "#샘플의 최대 길이 정하기\n",
    "#Text와 headilines의 최소, 최대, 평균 길이를 구하고 또한 길이 분포를 시각화\n",
    "\n",
    "# 길이 분포 출력\n",
    "import matplotlib.pyplot as plt\n",
    "\n",
    "text_len = [len(s.split()) for s in data['text']]\n",
    "headilines_len = [len(s.split()) for s in data['headlines']]\n",
    "\n",
    "print('텍스트의 최소 길이 : {}'.format(np.min(text_len)))\n",
    "print('텍스트의 최대 길이 : {}'.format(np.max(text_len)))\n",
    "print('텍스트의 평균 길이 : {}'.format(np.mean(text_len)))\n",
    "print('요약의 최소 길이 : {}'.format(np.min(headilines_len)))\n",
    "print('요약의 최대 길이 : {}'.format(np.max(headilines_len)))\n",
    "print('요약의 평균 길이 : {}'.format(np.mean(headilines_len)))\n",
    "\n",
    "plt.subplot(1,2,1)\n",
    "plt.boxplot(text_len)\n",
    "plt.title('text')\n",
    "plt.subplot(1,2,2)\n",
    "plt.boxplot(headilines_len)\n",
    "plt.title('headlines')\n",
    "plt.tight_layout()\n",
    "plt.show()\n",
    "\n",
    "plt.title('text')\n",
    "plt.hist(text_len, bins = 40)\n",
    "plt.xlabel('length of samples')\n",
    "plt.ylabel('number of samples')\n",
    "plt.show()\n",
    "\n",
    "plt.title('headlines')\n",
    "plt.hist(headilines_len, bins = 40)\n",
    "plt.xlabel('length of samples')\n",
    "plt.ylabel('number of samples')\n",
    "plt.show()"
   ]
  },
  {
   "cell_type": "code",
   "execution_count": 39,
   "id": "a0842041",
   "metadata": {},
   "outputs": [
    {
     "name": "stdout",
     "output_type": "stream",
     "text": [
      "=3\n"
     ]
    }
   ],
   "source": [
    "#Text의 최대 길이와 headilines의 적절한 최대 길이를 임의지정\n",
    "text_max_len = 50\n",
    "headilines_max_len = 8\n",
    "print('=3')"
   ]
  },
  {
   "cell_type": "code",
   "execution_count": 40,
   "id": "4f668008",
   "metadata": {},
   "outputs": [
    {
     "name": "stdout",
     "output_type": "stream",
     "text": [
      "=3\n"
     ]
    }
   ],
   "source": [
    "def below_threshold_len(max_len, nested_list):\n",
    "  cnt = 0\n",
    "  for s in nested_list:\n",
    "    if(len(s.split()) <= max_len):\n",
    "        cnt = cnt + 1\n",
    "  print('전체 샘플 중 길이가 %s 이하인 샘플의 비율: %s'%(max_len, (cnt / len(nested_list))))\n",
    "print('=3')"
   ]
  },
  {
   "cell_type": "code",
   "execution_count": 41,
   "id": "8d9a8ecc",
   "metadata": {},
   "outputs": [
    {
     "name": "stdout",
     "output_type": "stream",
     "text": [
      "전체 샘플 중 길이가 50 이하인 샘플의 비율: 0.9998577250231196\n",
      "전체 샘플 중 길이가 8 이하인 샘플의 비율: 0.2755358177254296\n"
     ]
    }
   ],
   "source": [
    "below_threshold_len(text_max_len, data['text'])\n",
    "below_threshold_len(headilines_max_len,  data['headlines'])"
   ]
  },
  {
   "cell_type": "code",
   "execution_count": 42,
   "id": "ba4ea896",
   "metadata": {},
   "outputs": [
    {
     "name": "stdout",
     "output_type": "stream",
     "text": [
      "전체 샘플수 : 27113\n"
     ]
    }
   ],
   "source": [
    "# 정해진 길이 보다 길면 제외\n",
    "data = data[data['text'].apply(lambda x: len(x.split()) <= text_max_len)]\n",
    "data = data[data['headlines'].apply(lambda x: len(x.split()) <= headilines_max_len)]\n",
    "print('전체 샘플수 :', (len(data)))"
   ]
  },
  {
   "cell_type": "code",
   "execution_count": 43,
   "id": "a3b37f6d",
   "metadata": {},
   "outputs": [
    {
     "data": {
      "text/html": [
       "<div>\n",
       "<style scoped>\n",
       "    .dataframe tbody tr th:only-of-type {\n",
       "        vertical-align: middle;\n",
       "    }\n",
       "\n",
       "    .dataframe tbody tr th {\n",
       "        vertical-align: top;\n",
       "    }\n",
       "\n",
       "    .dataframe thead th {\n",
       "        text-align: right;\n",
       "    }\n",
       "</style>\n",
       "<table border=\"1\" class=\"dataframe\">\n",
       "  <thead>\n",
       "    <tr style=\"text-align: right;\">\n",
       "      <th></th>\n",
       "      <th>text</th>\n",
       "      <th>headlines</th>\n",
       "      <th>decoder_input</th>\n",
       "      <th>decoder_target</th>\n",
       "    </tr>\n",
       "  </thead>\n",
       "  <tbody>\n",
       "    <tr>\n",
       "      <th>19</th>\n",
       "      <td>union minister dharmendra pradhan wednesday cl...</td>\n",
       "      <td>odisha cm patnaik controls mining mafia union ...</td>\n",
       "      <td>sostoken odisha cm patnaik controls mining maf...</td>\n",
       "      <td>odisha cm patnaik controls mining mafia union ...</td>\n",
       "    </tr>\n",
       "    <tr>\n",
       "      <th>21</th>\n",
       "      <td>indian space research organisation wednesday u...</td>\n",
       "      <td>isro unveils bengaluru centre for manned space...</td>\n",
       "      <td>sostoken isro unveils bengaluru centre for man...</td>\n",
       "      <td>isro unveils bengaluru centre for manned space...</td>\n",
       "    </tr>\n",
       "    <tr>\n",
       "      <th>22</th>\n",
       "      <td>least people killed others injured saudi arabi...</td>\n",
       "      <td>killed injured in saudi arabia floods</td>\n",
       "      <td>sostoken killed injured in saudi arabia floods</td>\n",
       "      <td>killed injured in saudi arabia floods eostoken</td>\n",
       "    </tr>\n",
       "    <tr>\n",
       "      <th>29</th>\n",
       "      <td>investigators searching lost plane carrying ar...</td>\n",
       "      <td>seat cushions from missing plane carrying foot...</td>\n",
       "      <td>sostoken seat cushions from missing plane carr...</td>\n",
       "      <td>seat cushions from missing plane carrying foot...</td>\n",
       "    </tr>\n",
       "    <tr>\n",
       "      <th>36</th>\n",
       "      <td>agustawestland chopper scam co accused rajiv s...</td>\n",
       "      <td>agustawestland scam accused rajiv saxena extra...</td>\n",
       "      <td>sostoken agustawestland scam accused rajiv sax...</td>\n",
       "      <td>agustawestland scam accused rajiv saxena extra...</td>\n",
       "    </tr>\n",
       "  </tbody>\n",
       "</table>\n",
       "</div>"
      ],
      "text/plain": [
       "                                                 text  \\\n",
       "19  union minister dharmendra pradhan wednesday cl...   \n",
       "21  indian space research organisation wednesday u...   \n",
       "22  least people killed others injured saudi arabi...   \n",
       "29  investigators searching lost plane carrying ar...   \n",
       "36  agustawestland chopper scam co accused rajiv s...   \n",
       "\n",
       "                                            headlines  \\\n",
       "19  odisha cm patnaik controls mining mafia union ...   \n",
       "21  isro unveils bengaluru centre for manned space...   \n",
       "22              killed injured in saudi arabia floods   \n",
       "29  seat cushions from missing plane carrying foot...   \n",
       "36  agustawestland scam accused rajiv saxena extra...   \n",
       "\n",
       "                                        decoder_input  \\\n",
       "19  sostoken odisha cm patnaik controls mining maf...   \n",
       "21  sostoken isro unveils bengaluru centre for man...   \n",
       "22     sostoken killed injured in saudi arabia floods   \n",
       "29  sostoken seat cushions from missing plane carr...   \n",
       "36  sostoken agustawestland scam accused rajiv sax...   \n",
       "\n",
       "                                       decoder_target  \n",
       "19  odisha cm patnaik controls mining mafia union ...  \n",
       "21  isro unveils bengaluru centre for manned space...  \n",
       "22     killed injured in saudi arabia floods eostoken  \n",
       "29  seat cushions from missing plane carrying foot...  \n",
       "36  agustawestland scam accused rajiv saxena extra...  "
      ]
     },
     "execution_count": 43,
     "metadata": {},
     "output_type": "execute_result"
    }
   ],
   "source": [
    "# 요약 데이터에는 시작 토큰과 종료 토큰을 추가한다.\n",
    "data['decoder_input'] = data['headlines'].apply(lambda x : 'sostoken '+ x)\n",
    "data['decoder_target'] = data['headlines'].apply(lambda x : x + ' eostoken')\n",
    "data.head()"
   ]
  },
  {
   "cell_type": "code",
   "execution_count": 44,
   "id": "4972dd9b",
   "metadata": {},
   "outputs": [
    {
     "name": "stdout",
     "output_type": "stream",
     "text": [
      "=3\n"
     ]
    }
   ],
   "source": [
    "#디코더의 입력과 레이블을 각각 다시 Numpy 타입으로 저장\n",
    "encoder_input = np.array(data['text']) # 인코더의 입력\n",
    "decoder_input = np.array(data['decoder_input']) # 디코더의 입력\n",
    "decoder_target = np.array(data['decoder_target']) # 디코더의 레이블\n",
    "print('=3')"
   ]
  },
  {
   "cell_type": "code",
   "execution_count": 45,
   "id": "481e2028",
   "metadata": {},
   "outputs": [
    {
     "name": "stdout",
     "output_type": "stream",
     "text": [
      "[13519  5817 24393 ... 22648 24465  8286]\n"
     ]
    }
   ],
   "source": [
    "#훈련 데이터와 테스트 데이터를 분리\n",
    "indices = np.arange(encoder_input.shape[0])\n",
    "np.random.shuffle(indices)\n",
    "print(indices)"
   ]
  },
  {
   "cell_type": "code",
   "execution_count": 46,
   "id": "a879197a",
   "metadata": {},
   "outputs": [
    {
     "name": "stdout",
     "output_type": "stream",
     "text": [
      "=3\n"
     ]
    }
   ],
   "source": [
    "#다시 데이터의 샘플 순서를 정의\n",
    "encoder_input = encoder_input[indices]\n",
    "decoder_input = decoder_input[indices]\n",
    "decoder_target = decoder_target[indices]\n",
    "print('=3')"
   ]
  },
  {
   "cell_type": "code",
   "execution_count": 47,
   "id": "7ea446d2",
   "metadata": {},
   "outputs": [
    {
     "name": "stdout",
     "output_type": "stream",
     "text": [
      "테스트 데이터의 수 : 5422\n"
     ]
    }
   ],
   "source": [
    "#8:2의 비율로 훈련 데이터와 테스트 데이터로 분리\n",
    "n_of_val = int(len(encoder_input)*0.2)\n",
    "print('테스트 데이터의 수 :', n_of_val)"
   ]
  },
  {
   "cell_type": "code",
   "execution_count": 48,
   "id": "0ab3d8d9",
   "metadata": {},
   "outputs": [
    {
     "name": "stdout",
     "output_type": "stream",
     "text": [
      "훈련 데이터의 개수 : 21691\n",
      "훈련 레이블의 개수 : 21691\n",
      "테스트 데이터의 개수 : 5422\n",
      "테스트 레이블의 개수 : 5422\n"
     ]
    }
   ],
   "source": [
    "#테스트 데이터의 개수를 이용해 전체 데이터를 양분할게요. :표시의 위치에 주의\n",
    "encoder_input_train = encoder_input[:-n_of_val]\n",
    "decoder_input_train = decoder_input[:-n_of_val]\n",
    "decoder_target_train = decoder_target[:-n_of_val]\n",
    "\n",
    "encoder_input_test = encoder_input[-n_of_val:]\n",
    "decoder_input_test = decoder_input[-n_of_val:]\n",
    "decoder_target_test = decoder_target[-n_of_val:]\n",
    "\n",
    "print('훈련 데이터의 개수 :', len(encoder_input_train))\n",
    "print('훈련 레이블의 개수 :', len(decoder_input_train))\n",
    "print('테스트 데이터의 개수 :', len(encoder_input_test))\n",
    "print('테스트 레이블의 개수 :', len(decoder_input_test))"
   ]
  },
  {
   "cell_type": "code",
   "execution_count": 49,
   "id": "86339b21",
   "metadata": {},
   "outputs": [
    {
     "name": "stdout",
     "output_type": "stream",
     "text": [
      "=3\n"
     ]
    }
   ],
   "source": [
    "#encoder_input_train에 대해서 단어 집합 만들기\n",
    "src_tokenizer = Tokenizer() # 토크나이저 정의\n",
    "src_tokenizer.fit_on_texts(encoder_input_train) # 입력된 데이터로부터 단어 집합 생성\n",
    "print('=3')"
   ]
  },
  {
   "cell_type": "code",
   "execution_count": 50,
   "id": "992e4368",
   "metadata": {},
   "outputs": [
    {
     "name": "stdout",
     "output_type": "stream",
     "text": [
      "단어 집합(vocabulary)의 크기 : 42417\n",
      "등장 빈도가 6번 이하인 희귀 단어의 수: 30707\n",
      "단어 집합에서 희귀 단어를 제외시킬 경우의 단어 집합의 크기 11710\n",
      "단어 집합에서 희귀 단어의 비율: 72.39314425819836\n",
      "전체 등장 빈도에서 희귀 단어 등장 빈도 비율: 8.27578226497862\n"
     ]
    }
   ],
   "source": [
    "threshold = 7\n",
    "total_cnt = len(src_tokenizer.word_index) # 단어의 수\n",
    "rare_cnt = 0 # 등장 빈도수가 threshold보다 작은 단어의 개수를 카운트\n",
    "total_freq = 0 # 훈련 데이터의 전체 단어 빈도수 총 합\n",
    "rare_freq = 0 # 등장 빈도수가 threshold보다 작은 단어의 등장 빈도수의 총 합\n",
    "\n",
    "# 단어와 빈도수의 쌍(pair)을 key와 value로 받는다.\n",
    "for key, value in src_tokenizer.word_counts.items():\n",
    "    total_freq = total_freq + value\n",
    "\n",
    "    # 단어의 등장 빈도수가 threshold보다 작으면\n",
    "    if(value < threshold):\n",
    "        rare_cnt = rare_cnt + 1\n",
    "        rare_freq = rare_freq + value\n",
    "\n",
    "print('단어 집합(vocabulary)의 크기 :', total_cnt)\n",
    "print('등장 빈도가 %s번 이하인 희귀 단어의 수: %s'%(threshold - 1, rare_cnt))\n",
    "print('단어 집합에서 희귀 단어를 제외시킬 경우의 단어 집합의 크기 %s'%(total_cnt - rare_cnt))\n",
    "print(\"단어 집합에서 희귀 단어의 비율:\", (rare_cnt / total_cnt)*100)\n",
    "print(\"전체 등장 빈도에서 희귀 단어 등장 빈도 비율:\", (rare_freq / total_freq)*100)"
   ]
  },
  {
   "cell_type": "code",
   "execution_count": 51,
   "id": "374a93ac",
   "metadata": {},
   "outputs": [
    {
     "name": "stdout",
     "output_type": "stream",
     "text": [
      "=3\n"
     ]
    }
   ],
   "source": [
    "#토크나이저를 정의할 때 num_words의 값을 정해주면, 단어 집합의 크기를 제한할 수 있다.\n",
    "src_vocab = 8000\n",
    "src_tokenizer = Tokenizer(num_words=src_vocab) # 단어 집합의 크기를 8,000으로 제한\n",
    "src_tokenizer.fit_on_texts(encoder_input_train) # 단어 집합 재생성\n",
    "print('=3')"
   ]
  },
  {
   "cell_type": "code",
   "execution_count": 52,
   "id": "9ae5aa3e",
   "metadata": {},
   "outputs": [
    {
     "name": "stdout",
     "output_type": "stream",
     "text": [
      "[[285, 1100, 459, 473, 407, 12, 303, 51, 547, 3396, 171, 52, 459, 3145, 1869, 2044, 285, 407, 89, 11, 1912, 30, 1370, 1312, 2769, 3396, 178, 88, 196, 12, 1370, 903], [105, 166, 364, 1183, 6206, 2111, 408, 120, 1939, 39, 152, 106, 329, 569, 2349, 49, 23, 1, 50, 6206, 264, 3254, 5962, 41, 33, 90, 120, 27, 105, 70, 5757, 2112, 5, 216], [7057, 57, 67, 6453, 2923, 3519, 6453, 57, 78, 2923, 2198, 219, 6453, 1457, 21, 5225, 644, 1172, 6453, 2923]]\n"
     ]
    }
   ],
   "source": [
    "# 텍스트 시퀀스를 정수 시퀀스로 변환\n",
    "encoder_input_train = src_tokenizer.texts_to_sequences(encoder_input_train) \n",
    "encoder_input_test = src_tokenizer.texts_to_sequences(encoder_input_test)\n",
    "\n",
    "# 잘 진행되었는지 샘플 출력\n",
    "print(encoder_input_train[:3])"
   ]
  },
  {
   "cell_type": "code",
   "execution_count": 53,
   "id": "04b17f19",
   "metadata": {},
   "outputs": [
    {
     "name": "stdout",
     "output_type": "stream",
     "text": [
      "=3\n"
     ]
    }
   ],
   "source": [
    "#decoder_input_train을 입력으로 전체 단어 집합과 각 단어에 대한 빈도수를 계산\n",
    "tar_tokenizer = Tokenizer()\n",
    "tar_tokenizer.fit_on_texts(decoder_input_train)\n",
    "print('=3')"
   ]
  },
  {
   "cell_type": "code",
   "execution_count": 54,
   "id": "2fa93ce6",
   "metadata": {},
   "outputs": [
    {
     "name": "stdout",
     "output_type": "stream",
     "text": [
      "단어 집합(vocabulary)의 크기 : 18909\n",
      "등장 빈도가 5번 이하인 희귀 단어의 수: 14244\n",
      "단어 집합에서 희귀 단어를 제외시킬 경우의 단어 집합의 크기 4665\n",
      "단어 집합에서 희귀 단어의 비율: 75.32920831350151\n",
      "전체 등장 빈도에서 희귀 단어 등장 빈도 비율: 14.070551143949428\n"
     ]
    }
   ],
   "source": [
    "#등장 빈도수가 6회 미만인 단어들이 이 데이터에서 얼만큼의 비중을 차지하는지 확인\n",
    "\n",
    "threshold = 6\n",
    "total_cnt = len(tar_tokenizer.word_index) # 단어의 수\n",
    "rare_cnt = 0 # 등장 빈도수가 threshold보다 작은 단어의 개수를 카운트\n",
    "total_freq = 0 # 훈련 데이터의 전체 단어 빈도수 총 합\n",
    "rare_freq = 0 # 등장 빈도수가 threshold보다 작은 단어의 등장 빈도수의 총 합\n",
    "\n",
    "# 단어와 빈도수의 쌍(pair)을 key와 value로 받는다.\n",
    "for key, value in tar_tokenizer.word_counts.items():\n",
    "    total_freq = total_freq + value\n",
    "\n",
    "    # 단어의 등장 빈도수가 threshold보다 작으면\n",
    "    if(value < threshold):\n",
    "        rare_cnt = rare_cnt + 1\n",
    "        rare_freq = rare_freq + value\n",
    "\n",
    "print('단어 집합(vocabulary)의 크기 :', total_cnt)\n",
    "print('등장 빈도가 %s번 이하인 희귀 단어의 수: %s'%(threshold - 1, rare_cnt))\n",
    "print('단어 집합에서 희귀 단어를 제외시킬 경우의 단어 집합의 크기 %s'%(total_cnt - rare_cnt))\n",
    "print(\"단어 집합에서 희귀 단어의 비율:\", (rare_cnt / total_cnt)*100)\n",
    "print(\"전체 등장 빈도에서 희귀 단어 등장 빈도 비율:\", (rare_freq / total_freq)*100)"
   ]
  },
  {
   "cell_type": "code",
   "execution_count": 55,
   "id": "fc7d18d3",
   "metadata": {},
   "outputs": [
    {
     "name": "stdout",
     "output_type": "stream",
     "text": [
      "input\n",
      "input  [[1, 184, 293, 29, 244, 65, 1720, 161], [1, 642, 4, 1264, 273, 4, 71], [1, 182, 6, 1386, 84, 41], [1, 289, 1058, 14], [1, 274, 6, 339, 557, 1059]]\n",
      "target\n",
      "decoder  [[184, 293, 29, 244, 65, 1720, 161, 2], [642, 4, 1264, 273, 4, 71, 2], [182, 6, 1386, 84, 41, 2], [289, 1058, 14, 2], [274, 6, 339, 557, 1059, 2]]\n"
     ]
    }
   ],
   "source": [
    "#어림잡아 2,000을 단어 집합의 크기로 제한\n",
    "tar_vocab = 2000\n",
    "tar_tokenizer = Tokenizer(num_words=tar_vocab) \n",
    "tar_tokenizer.fit_on_texts(decoder_input_train)\n",
    "tar_tokenizer.fit_on_texts(decoder_target_train)\n",
    "\n",
    "# 텍스트 시퀀스를 정수 시퀀스로 변환\n",
    "decoder_input_train = tar_tokenizer.texts_to_sequences(decoder_input_train) \n",
    "decoder_target_train = tar_tokenizer.texts_to_sequences(decoder_target_train)\n",
    "decoder_input_test = tar_tokenizer.texts_to_sequences(decoder_input_test)\n",
    "decoder_target_test = tar_tokenizer.texts_to_sequences(decoder_target_test)\n",
    "\n",
    "# 잘 변환되었는지 확인\n",
    "print('input')\n",
    "print('input ',decoder_input_train[:5])\n",
    "print('target')\n",
    "print('decoder ',decoder_target_train[:5])"
   ]
  },
  {
   "cell_type": "code",
   "execution_count": 56,
   "id": "21ed50a3",
   "metadata": {},
   "outputs": [
    {
     "name": "stdout",
     "output_type": "stream",
     "text": [
      "삭제할 훈련 데이터의 개수 : 10\n",
      "삭제할 테스트 데이터의 개수 : 2\n",
      "훈련 데이터의 개수 : 21681\n",
      "훈련 레이블의 개수 : 21681\n",
      "테스트 데이터의 개수 : 5420\n",
      "테스트 레이블의 개수 : 5420\n"
     ]
    }
   ],
   "source": [
    "#훈련 데이터와 테스트 데이터에 대해서 요약문의 길이가 1인 경우의 인덱스를 각각 drop_train과 drop_test에 라는 변수에 저장\n",
    "drop_train = [index for index, sentence in enumerate(decoder_input_train) if len(sentence) == 1]\n",
    "drop_test = [index for index, sentence in enumerate(decoder_input_test) if len(sentence) == 1]\n",
    "\n",
    "print('삭제할 훈련 데이터의 개수 :', len(drop_train))\n",
    "print('삭제할 테스트 데이터의 개수 :', len(drop_test))\n",
    "\n",
    "encoder_input_train = [sentence for index, sentence in enumerate(encoder_input_train) if index not in drop_train]\n",
    "decoder_input_train = [sentence for index, sentence in enumerate(decoder_input_train) if index not in drop_train]\n",
    "decoder_target_train = [sentence for index, sentence in enumerate(decoder_target_train) if index not in drop_train]\n",
    "\n",
    "encoder_input_test = [sentence for index, sentence in enumerate(encoder_input_test) if index not in drop_test]\n",
    "decoder_input_test = [sentence for index, sentence in enumerate(decoder_input_test) if index not in drop_test]\n",
    "decoder_target_test = [sentence for index, sentence in enumerate(decoder_target_test) if index not in drop_test]\n",
    "\n",
    "print('훈련 데이터의 개수 :', len(encoder_input_train))\n",
    "print('훈련 레이블의 개수 :', len(decoder_input_train))\n",
    "print('테스트 데이터의 개수 :', len(encoder_input_test))\n",
    "print('테스트 레이블의 개수 :', len(decoder_input_test))"
   ]
  },
  {
   "cell_type": "code",
   "execution_count": 57,
   "id": "31adeae7",
   "metadata": {},
   "outputs": [
    {
     "name": "stdout",
     "output_type": "stream",
     "text": [
      "=3\n"
     ]
    }
   ],
   "source": [
    "#패딩하기\n",
    "#최대 길이보다 짧은 데이터들은 뒤의 공간에 숫자 0을 넣어 최대 길이로 길이를 맞춰주기\n",
    "encoder_input_train = pad_sequences(encoder_input_train, maxlen=text_max_len, padding='post')\n",
    "encoder_input_test = pad_sequences(encoder_input_test, maxlen=text_max_len, padding='post')\n",
    "decoder_input_train = pad_sequences(decoder_input_train, maxlen=headilines_max_len, padding='post')\n",
    "decoder_target_train = pad_sequences(decoder_target_train, maxlen=headilines_max_len, padding='post')\n",
    "decoder_input_test = pad_sequences(decoder_input_test, maxlen=headilines_max_len, padding='post')\n",
    "decoder_target_test = pad_sequences(decoder_target_test, maxlen=headilines_max_len, padding='post')\n",
    "print('=3')"
   ]
  },
  {
   "cell_type": "code",
   "execution_count": 58,
   "id": "33728e1c",
   "metadata": {},
   "outputs": [
    {
     "name": "stdout",
     "output_type": "stream",
     "text": [
      "WARNING:tensorflow:Layer lstm will not use cuDNN kernels since it doesn't meet the criteria. It will use a generic GPU kernel as fallback when running on GPU.\n",
      "WARNING:tensorflow:Layer lstm_1 will not use cuDNN kernels since it doesn't meet the criteria. It will use a generic GPU kernel as fallback when running on GPU.\n",
      "WARNING:tensorflow:Layer lstm_2 will not use cuDNN kernels since it doesn't meet the criteria. It will use a generic GPU kernel as fallback when running on GPU.\n"
     ]
    }
   ],
   "source": [
    "# 모델 설계하기\n",
    "#함수형 API를 이용해서 인코더를 설계\n",
    "from tensorflow.keras.layers import Input, LSTM, Embedding, Dense, Concatenate, TimeDistributed\n",
    "from tensorflow.keras.models import Model\n",
    "from tensorflow.keras.callbacks import EarlyStopping, ModelCheckpoint\n",
    "\n",
    "\n",
    "# 인코더 설계 시작\n",
    "embedding_dim = 128\n",
    "hidden_size = 256\n",
    "\n",
    "# 인코더\n",
    "encoder_inputs = Input(shape=(text_max_len,))\n",
    "\n",
    "# 인코더의 임베딩 층\n",
    "enc_emb = Embedding(src_vocab, embedding_dim)(encoder_inputs)\n",
    "\n",
    "# 인코더의 LSTM 1\n",
    "encoder_lstm1 = LSTM(hidden_size, return_sequences=True, return_state=True ,dropout = 0.4, recurrent_dropout = 0.4)\n",
    "encoder_output1, state_h1, state_c1 = encoder_lstm1(enc_emb)\n",
    "\n",
    "# 인코더의 LSTM 2\n",
    "encoder_lstm2 = LSTM(hidden_size, return_sequences=True, return_state=True, dropout=0.4, recurrent_dropout=0.4)\n",
    "encoder_output2, state_h2, state_c2 = encoder_lstm2(encoder_output1)\n",
    "\n",
    "# 인코더의 LSTM 3\n",
    "encoder_lstm3 = LSTM(hidden_size, return_state=True, return_sequences=True, dropout=0.4, recurrent_dropout=0.4)\n",
    "encoder_outputs, state_h, state_c= encoder_lstm3(encoder_output2)"
   ]
  },
  {
   "cell_type": "code",
   "execution_count": 59,
   "id": "4d757b4e",
   "metadata": {},
   "outputs": [
    {
     "name": "stdout",
     "output_type": "stream",
     "text": [
      "WARNING:tensorflow:Layer lstm_3 will not use cuDNN kernels since it doesn't meet the criteria. It will use a generic GPU kernel as fallback when running on GPU.\n"
     ]
    }
   ],
   "source": [
    "# 디코더 설계\n",
    "decoder_inputs = Input(shape=(None,))\n",
    "\n",
    "# 디코더의 임베딩 층\n",
    "dec_emb_layer = Embedding(tar_vocab, embedding_dim)\n",
    "dec_emb = dec_emb_layer(decoder_inputs)\n",
    "\n",
    "# 디코더의 LSTM\n",
    "decoder_lstm = LSTM(hidden_size, return_sequences=True, return_state=True, dropout=0.4, recurrent_dropout=0.2)\n",
    "decoder_outputs, _, _ = decoder_lstm(dec_emb, initial_state=[state_h, state_c])"
   ]
  },
  {
   "cell_type": "code",
   "execution_count": 62,
   "id": "d2971d28",
   "metadata": {},
   "outputs": [
    {
     "name": "stdout",
     "output_type": "stream",
     "text": [
      "Model: \"model_2\"\n",
      "__________________________________________________________________________________________________\n",
      "Layer (type)                    Output Shape         Param #     Connected to                     \n",
      "==================================================================================================\n",
      "input_1 (InputLayer)            [(None, 50)]         0                                            \n",
      "__________________________________________________________________________________________________\n",
      "embedding (Embedding)           (None, 50, 128)      1024000     input_1[0][0]                    \n",
      "__________________________________________________________________________________________________\n",
      "lstm (LSTM)                     [(None, 50, 256), (N 394240      embedding[0][0]                  \n",
      "__________________________________________________________________________________________________\n",
      "input_2 (InputLayer)            [(None, None)]       0                                            \n",
      "__________________________________________________________________________________________________\n",
      "lstm_1 (LSTM)                   [(None, 50, 256), (N 525312      lstm[0][0]                       \n",
      "__________________________________________________________________________________________________\n",
      "embedding_1 (Embedding)         (None, None, 128)    256000      input_2[0][0]                    \n",
      "__________________________________________________________________________________________________\n",
      "lstm_2 (LSTM)                   [(None, 50, 256), (N 525312      lstm_1[0][0]                     \n",
      "__________________________________________________________________________________________________\n",
      "lstm_3 (LSTM)                   [(None, None, 256),  394240      embedding_1[0][0]                \n",
      "                                                                 lstm_2[0][1]                     \n",
      "                                                                 lstm_2[0][2]                     \n",
      "__________________________________________________________________________________________________\n",
      "dense_2 (Dense)                 (None, None, 2000)   514000      lstm_3[0][0]                     \n",
      "==================================================================================================\n",
      "Total params: 3,633,104\n",
      "Trainable params: 3,633,104\n",
      "Non-trainable params: 0\n",
      "__________________________________________________________________________________________________\n"
     ]
    }
   ],
   "source": [
    "#디코더의 출력층을 설계\n",
    "# 디코더의 출력층\n",
    "decoder_softmax_layer = Dense(tar_vocab, activation='softmax')\n",
    "decoder_softmax_outputs = decoder_softmax_layer(decoder_outputs) \n",
    "\n",
    "# 모델 정의\n",
    "model = Model([encoder_inputs, decoder_inputs], decoder_softmax_outputs)\n",
    "model.summary()"
   ]
  },
  {
   "cell_type": "code",
   "execution_count": 64,
   "id": "0d53e72c",
   "metadata": {},
   "outputs": [
    {
     "name": "stdout",
     "output_type": "stream",
     "text": [
      "Model: \"model_4\"\n",
      "__________________________________________________________________________________________________\n",
      "Layer (type)                    Output Shape         Param #     Connected to                     \n",
      "==================================================================================================\n",
      "input_1 (InputLayer)            [(None, 50)]         0                                            \n",
      "__________________________________________________________________________________________________\n",
      "embedding (Embedding)           (None, 50, 128)      1024000     input_1[0][0]                    \n",
      "__________________________________________________________________________________________________\n",
      "lstm (LSTM)                     [(None, 50, 256), (N 394240      embedding[0][0]                  \n",
      "__________________________________________________________________________________________________\n",
      "input_2 (InputLayer)            [(None, None)]       0                                            \n",
      "__________________________________________________________________________________________________\n",
      "lstm_1 (LSTM)                   [(None, 50, 256), (N 525312      lstm[0][0]                       \n",
      "__________________________________________________________________________________________________\n",
      "embedding_1 (Embedding)         (None, None, 128)    256000      input_2[0][0]                    \n",
      "__________________________________________________________________________________________________\n",
      "lstm_2 (LSTM)                   [(None, 50, 256), (N 525312      lstm_1[0][0]                     \n",
      "__________________________________________________________________________________________________\n",
      "lstm_3 (LSTM)                   [(None, None, 256),  394240      embedding_1[0][0]                \n",
      "                                                                 lstm_2[0][1]                     \n",
      "                                                                 lstm_2[0][2]                     \n",
      "__________________________________________________________________________________________________\n",
      "attention_layer (AdditiveAttent (None, None, 256)    256         lstm_3[0][0]                     \n",
      "                                                                 lstm_2[0][0]                     \n",
      "__________________________________________________________________________________________________\n",
      "concat_layer (Concatenate)      (None, None, 512)    0           lstm_3[0][0]                     \n",
      "                                                                 attention_layer[0][0]            \n",
      "__________________________________________________________________________________________________\n",
      "dense_4 (Dense)                 (None, None, 2000)   1026000     concat_layer[0][0]               \n",
      "==================================================================================================\n",
      "Total params: 4,145,360\n",
      "Trainable params: 4,145,360\n",
      "Non-trainable params: 0\n",
      "__________________________________________________________________________________________________\n"
     ]
    }
   ],
   "source": [
    "#어텐션 층을 만들고, 위에서 설계한 디코더의 출력층을 수정\n",
    "from tensorflow.keras.layers import AdditiveAttention\n",
    "\n",
    "# 어텐션 층(어텐션 함수)\n",
    "attn_layer = AdditiveAttention(name='attention_layer')\n",
    "\n",
    "# 인코더와 디코더의 모든 time step의 hidden state를 어텐션 층에 전달하고 결과를 리턴\n",
    "attn_out = attn_layer([decoder_outputs, encoder_outputs])\n",
    "\n",
    "\n",
    "# 어텐션의 결과와 디코더의 hidden state들을 연결\n",
    "decoder_concat_input = Concatenate(axis=-1, name='concat_layer')([decoder_outputs, attn_out])\n",
    "\n",
    "# 디코더의 출력층\n",
    "decoder_softmax_layer = Dense(tar_vocab, activation='softmax')\n",
    "decoder_softmax_outputs = decoder_softmax_layer(decoder_concat_input)\n",
    "\n",
    "# 모델 정의\n",
    "model = Model([encoder_inputs, decoder_inputs], decoder_softmax_outputs)\n",
    "model.summary()"
   ]
  },
  {
   "cell_type": "code",
   "execution_count": 65,
   "id": "6352bd93",
   "metadata": {},
   "outputs": [
    {
     "name": "stdout",
     "output_type": "stream",
     "text": [
      "Epoch 1/50\n",
      "85/85 [==============================] - 74s 684ms/step - loss: 4.9315 - val_loss: 4.5242\n",
      "Epoch 2/50\n",
      "85/85 [==============================] - 57s 667ms/step - loss: 4.5491 - val_loss: 4.3649\n",
      "Epoch 3/50\n",
      "85/85 [==============================] - 57s 666ms/step - loss: 4.3662 - val_loss: 4.2337\n",
      "Epoch 4/50\n",
      "85/85 [==============================] - 57s 669ms/step - loss: 4.2058 - val_loss: 4.0680\n",
      "Epoch 5/50\n",
      "85/85 [==============================] - 57s 674ms/step - loss: 4.0491 - val_loss: 3.9590\n",
      "Epoch 6/50\n",
      "85/85 [==============================] - 58s 678ms/step - loss: 3.9205 - val_loss: 3.8660\n",
      "Epoch 7/50\n",
      "85/85 [==============================] - 57s 674ms/step - loss: 3.8044 - val_loss: 3.7841\n",
      "Epoch 8/50\n",
      "85/85 [==============================] - 58s 677ms/step - loss: 3.6863 - val_loss: 3.7229\n",
      "Epoch 9/50\n",
      "85/85 [==============================] - 57s 674ms/step - loss: 3.5758 - val_loss: 3.6516\n",
      "Epoch 10/50\n",
      "85/85 [==============================] - 57s 673ms/step - loss: 3.4709 - val_loss: 3.5727\n",
      "Epoch 11/50\n",
      "85/85 [==============================] - 57s 675ms/step - loss: 3.3701 - val_loss: 3.5152\n",
      "Epoch 12/50\n",
      "85/85 [==============================] - 57s 675ms/step - loss: 3.2783 - val_loss: 3.4885\n",
      "Epoch 13/50\n",
      "85/85 [==============================] - 57s 674ms/step - loss: 3.1939 - val_loss: 3.4380\n",
      "Epoch 14/50\n",
      "85/85 [==============================] - 57s 672ms/step - loss: 3.1151 - val_loss: 3.4074\n",
      "Epoch 15/50\n",
      "85/85 [==============================] - 57s 675ms/step - loss: 3.0408 - val_loss: 3.4005\n",
      "Epoch 16/50\n",
      "85/85 [==============================] - 57s 674ms/step - loss: 2.9737 - val_loss: 3.3804\n",
      "Epoch 17/50\n",
      "85/85 [==============================] - 57s 676ms/step - loss: 2.9107 - val_loss: 3.3586\n",
      "Epoch 18/50\n",
      "85/85 [==============================] - 57s 674ms/step - loss: 2.8467 - val_loss: 3.3415\n",
      "Epoch 19/50\n",
      "85/85 [==============================] - 57s 675ms/step - loss: 2.7874 - val_loss: 3.3356\n",
      "Epoch 20/50\n",
      "85/85 [==============================] - 57s 673ms/step - loss: 2.7304 - val_loss: 3.3358\n",
      "Epoch 21/50\n",
      "85/85 [==============================] - 57s 671ms/step - loss: 2.6743 - val_loss: 3.3186\n",
      "Epoch 22/50\n",
      "85/85 [==============================] - 57s 673ms/step - loss: 2.6245 - val_loss: 3.3129\n",
      "Epoch 23/50\n",
      "85/85 [==============================] - 57s 675ms/step - loss: 2.5727 - val_loss: 3.3160\n",
      "Epoch 24/50\n",
      "85/85 [==============================] - 57s 674ms/step - loss: 2.5186 - val_loss: 3.3152\n",
      "Epoch 00024: early stopping\n"
     ]
    }
   ],
   "source": [
    "# 모델 훈련하기\n",
    "model.compile(optimizer='rmsprop', loss='sparse_categorical_crossentropy')\n",
    "es = EarlyStopping(monitor='val_loss', patience=2, verbose=1)\n",
    "history = model.fit(x=[encoder_input_train, decoder_input_train], y=decoder_target_train, \\\n",
    "          validation_data=([encoder_input_test, decoder_input_test], decoder_target_test), \\\n",
    "          batch_size=256, callbacks=[es], epochs=50)"
   ]
  },
  {
   "cell_type": "code",
   "execution_count": 66,
   "id": "35ddc03f",
   "metadata": {},
   "outputs": [],
   "source": [
    "es = EarlyStopping(monitor='val_loss', patience=2, verbose=1)"
   ]
  },
  {
   "cell_type": "code",
   "execution_count": 67,
   "id": "e60ec437",
   "metadata": {},
   "outputs": [
    {
     "data": {
      "image/png": "[encoded data removed]",
      "text/plain": [
       "<Figure size 432x288 with 1 Axes>"
      ]
     },
     "metadata": {
      "needs_background": "light"
     },
     "output_type": "display_data"
    }
   ],
   "source": [
    "plt.plot(history.history['loss'], label='train')\n",
    "plt.plot(history.history['val_loss'], label='test')\n",
    "plt.legend()\n",
    "plt.show()"
   ]
  },
  {
   "cell_type": "code",
   "execution_count": 68,
   "id": "e3886017",
   "metadata": {},
   "outputs": [
    {
     "name": "stdout",
     "output_type": "stream",
     "text": [
      "=3\n"
     ]
    }
   ],
   "source": [
    "src_index_to_word = src_tokenizer.index_word # 원문 단어 집합에서 정수 -> 단어를 얻음\n",
    "tar_word_to_index = tar_tokenizer.word_index # 요약 단어 집합에서 단어 -> 정수를 얻음\n",
    "tar_index_to_word = tar_tokenizer.index_word # 요약 단어 집합에서 정수 -> 단어를 얻음\n",
    "\n",
    "print('=3')"
   ]
  },
  {
   "cell_type": "code",
   "execution_count": 69,
   "id": "cb025641",
   "metadata": {},
   "outputs": [
    {
     "name": "stdout",
     "output_type": "stream",
     "text": [
      "=3\n"
     ]
    }
   ],
   "source": [
    "#인코더 모델과 디코더 모델을 분리해서 설계\n",
    "# 인코더 설계\n",
    "encoder_model = Model(inputs=encoder_inputs, outputs=[encoder_outputs, state_h, state_c])\n",
    "\n",
    "# 이전 시점의 상태들을 저장하는 텐서\n",
    "decoder_state_input_h = Input(shape=(hidden_size,))\n",
    "decoder_state_input_c = Input(shape=(hidden_size,))\n",
    "\n",
    "dec_emb2 = dec_emb_layer(decoder_inputs)\n",
    "\n",
    "# 문장의 다음 단어를 예측하기 위해서 초기 상태(initial_state)를 이전 시점의 상태로 사용. 이는 뒤의 함수 decode_sequence()에 구현\n",
    "# 훈련 과정에서와 달리 LSTM의 리턴하는 은닉 상태와 셀 상태인 state_h와 state_c를 버리지 않음.\n",
    "decoder_outputs2, state_h2, state_c2 = decoder_lstm(dec_emb2, initial_state=[decoder_state_input_h, decoder_state_input_c])\n",
    "\n",
    "print('=3')"
   ]
  },
  {
   "cell_type": "code",
   "execution_count": 70,
   "id": "fa0fe961",
   "metadata": {},
   "outputs": [
    {
     "name": "stdout",
     "output_type": "stream",
     "text": [
      "=3\n"
     ]
    }
   ],
   "source": [
    "#어텐션 메커니즘을 사용하는 출력층을 설계\n",
    "# 어텐션 함수\n",
    "decoder_hidden_state_input = Input(shape=(text_max_len, hidden_size))\n",
    "attn_out_inf = attn_layer([decoder_outputs2, decoder_hidden_state_input])\n",
    "decoder_inf_concat = Concatenate(axis=-1, name='concat')([decoder_outputs2, attn_out_inf])\n",
    "\n",
    "# 디코더의 출력층\n",
    "decoder_outputs2 = decoder_softmax_layer(decoder_inf_concat) \n",
    "\n",
    "# 최종 디코더 모델\n",
    "decoder_model = Model(\n",
    "    [decoder_inputs] + [decoder_hidden_state_input,decoder_state_input_h, decoder_state_input_c],\n",
    "    [decoder_outputs2] + [state_h2, state_c2])\n",
    "\n",
    "print('=3')"
   ]
  },
  {
   "cell_type": "code",
   "execution_count": 71,
   "id": "2f6f40a7",
   "metadata": {},
   "outputs": [
    {
     "name": "stdout",
     "output_type": "stream",
     "text": [
      "=3\n"
     ]
    }
   ],
   "source": [
    "#인퍼런스 단계에서 단어 시퀀스를 완성하는 함수를 만들기\n",
    "def decode_sequence(input_seq):\n",
    "    # 입력으로부터 인코더의 상태를 얻음\n",
    "    e_out, e_h, e_c = encoder_model.predict(input_seq)\n",
    "\n",
    "     # <SOS>에 해당하는 토큰 생성\n",
    "    target_seq = np.zeros((1,1))\n",
    "    target_seq[0, 0] = tar_word_to_index['sostoken']\n",
    "\n",
    "    stop_condition = False\n",
    "    decoded_sentence = ''\n",
    "    while not stop_condition: # stop_condition이 True가 될 때까지 루프 반복\n",
    "\n",
    "        output_tokens, h, c = decoder_model.predict([target_seq] + [e_out, e_h, e_c])\n",
    "        sampled_token_index = np.argmax(output_tokens[0, -1, :])\n",
    "        sampled_token = tar_index_to_word[sampled_token_index]\n",
    "\n",
    "        if (sampled_token!='eostoken'):\n",
    "            decoded_sentence += ' '+sampled_token\n",
    "\n",
    "        #  <eos>에 도달하거나 최대 길이를 넘으면 중단.\n",
    "        if (sampled_token == 'eostoken'  or len(decoded_sentence.split()) >= (headilines_max_len-1)):\n",
    "            stop_condition = True\n",
    "\n",
    "        # 길이가 1인 타겟 시퀀스를 업데이트\n",
    "        target_seq = np.zeros((1,1))\n",
    "        target_seq[0, 0] = sampled_token_index\n",
    "\n",
    "        # 상태를 업데이트 합니다.\n",
    "        e_h, e_c = h, c\n",
    "\n",
    "    return decoded_sentence\n",
    "print('=3')"
   ]
  },
  {
   "cell_type": "code",
   "execution_count": 72,
   "id": "29c48cef",
   "metadata": {},
   "outputs": [
    {
     "name": "stdout",
     "output_type": "stream",
     "text": [
      "=3\n"
     ]
    }
   ],
   "source": [
    "# 원문의 정수 시퀀스를 텍스트 시퀀스로 변환\n",
    "def seq2text(input_seq):\n",
    "    temp=''\n",
    "    for i in input_seq:\n",
    "        if (i!=0):\n",
    "            temp = temp + src_index_to_word[i]+' '\n",
    "    return temp\n",
    "\n",
    "# 요약문의 정수 시퀀스를 텍스트 시퀀스로 변환\n",
    "def seq2summary(input_seq):\n",
    "    temp=''\n",
    "    for i in input_seq:\n",
    "        if ((i!=0 and i!=tar_word_to_index['sostoken']) and i!=tar_word_to_index['eostoken']):\n",
    "            temp = temp + tar_index_to_word[i] + ' '\n",
    "    return temp\n",
    "\n",
    "print('=3')"
   ]
  },
  {
   "cell_type": "code",
   "execution_count": 73,
   "id": "6c749e75",
   "metadata": {},
   "outputs": [
    {
     "name": "stdout",
     "output_type": "stream",
     "text": [
      "원문 : hosted secret jails operated us intelligence agency cia european court human rights said thursday ruled countries violated rights two al qaeda terror suspects tortured detention ruling came cases filed behalf detainees currently held cuba bay prison \n",
      "실제 요약 : secret eu court \n",
      "예측 요약 :  uk parliament rejects anti law\n",
      "\n",
      "\n",
      "원문 : proposal cisf approved delhi airport may become first india get fleet vehicles cisf said vehicles needed round clock help suspects case terror attack mumbai chennai sensitive airports may also get vehicles coming days \n",
      "실제 요약 : proposes vehicles for delhi airport \n",
      "예측 요약 :  delhi to start electric by\n",
      "\n",
      "\n",
      "원문 : petition website speak launched complaints receiving continuous aadhaar linking calls portal allows users select recipient like banks mobile operators directly send petition form email service providers consumer send complaint mail members parliament well \n",
      "실제 요약 : petition website for aadhaar complaints launched \n",
      "예측 요약 :  aadhaar not mandatory for aadhaar\n",
      "\n",
      "\n",
      "원문 : school maharashtra pune issued leaving certificates students non payment fees meanwhile parents students claimed school stating paid fee deposit earlier asked deposit fee school ready talk us \n",
      "실제 요약 : pune school students for not \n",
      "예측 요약 :  students fined for in school\n",
      "\n",
      "\n",
      "원문 : singapore headquartered fintech startup active ai raised million series funding round led ventures dream incubator existing investors kalaari capital ventures also participated round founded active ai ai enabled platform provides financial services connecting users banking partners micro conversations \n",
      "실제 요약 : startup ai raises million in series \n",
      "예측 요약 :  raises mn from softbank\n",
      "\n",
      "\n",
      "원문 : kumar congress led opposition presidential candidate country first woman speaker lok sabha serving five term mp union minister twice kumar completed english literature qualified indian foreign services served indian mauritius spain united kingdom \n",
      "실제 요약 : who is opposition presidential candidate kumar \n",
      "예측 요약 :  bjp leader is bjp leader\n",
      "\n",
      "\n",
      "원문 : uttar pradesh recorded highest number divorce cases pending family courts lakh cases according government data kerala accounts less country population second highest pending divorce cases lakh divorce cases pending courts across country december \n",
      "실제 요약 : up has highest divorce cases in \n",
      "예측 요약 :  andhra pradesh to get new\n",
      "\n",
      "\n",
      "원문 : pakistan president hussain signed ordinance country anti terrorism act list groups sanctioned united nations security council terrorist organisations move mumbai terror attack mastermind hafiz saeed led groups jamaat ud foundation terror outfits earlier banned pakistan \n",
      "실제 요약 : pak mastermind hafiz saeed terror \n",
      "예측 요약 :  us to the us president\n",
      "\n",
      "\n",
      "원문 : uk based claimed developed fully functional ice made ice solid ice said interestingly also holds guinness world records smallest largest \n",
      "실제 요약 : man creates from ice \n",
      "예측 요약 :  scientists make into\n",
      "\n",
      "\n",
      "원문 : uk supreme court called ban civil couples discriminatory granted couple right partnership said ban human rights ruled favour charles marriage civil uk allowed sex couples \n",
      "실제 요약 : ban on uk sc \n",
      "예측 요약 :  cbse declares ban to ban\n",
      "\n",
      "\n",
      "원문 : thousands people saturday attended pro government iran cities including protesters iranian flags death america death israel iran state media reported protests staged response anti government alleged corruption poor economic conditions \n",
      "실제 요약 : thousands attend government in iran \n",
      "예측 요약 :  maldives to\n",
      "\n",
      "\n",
      "원문 : certain portion india union budget leaked printing used take place rashtrapati bhavan later venue moved government press road delhi leak north block capital secretariat building become permanent place printing budget papers since \n",
      "실제 요약 : india union budget was leaked in \n",
      "예측 요약 :  india to allow to\n",
      "\n",
      "\n",
      "원문 : host second cherry festival november known india international cherry festival hosted meghalaya government feature bicycle beauty pageant also live music dance performances region \n",
      "실제 요약 : to host festival \n",
      "예측 요약 :  to open\n",
      "\n",
      "\n",
      "원문 : world largest efficient programme inaugurated union minister state power coal new renewable energy piyush goyal london sunday programme aims increase led uk goyal announced lights indian high commission india house country \n",
      "실제 요약 : over largest event \n",
      "예측 요약 :  india first ever in\n",
      "\n",
      "\n",
      "원문 : uk high commissioner india said extradition economic offenders india london judicial matter courts address india cooperation uk extradition offenders including liquor baron vijay mallya former bcci vice president modi cricket \n",
      "실제 요약 : economic to india uk \n",
      "예측 요약 :  government to introduce new media\n",
      "\n",
      "\n",
      "원문 : south korean mps demanded public hanging north korean general visited country attend closing ceremony winter olympics kim accused carrying several attacks south korea including claimed lives previously served chief inter korean talks \n",
      "실제 요약 : korean demand public of korean general \n",
      "예측 요약 :  us releases for kim\n",
      "\n",
      "\n",
      "원문 : external affairs ministry said government trying find convicted terrorist given indian visa convicted attempt punjab minister photographed canada pm justin trudeau wife ongoing india visit canada part ministry said \n",
      "실제 요약 : india how terrorist got visa govt \n",
      "예측 요약 :  pakistan to death in bangladesh\n",
      "\n",
      "\n",
      "원문 : kim kardashian took twitter announce name third child would chicago west kim two kids husband kanye west named north west saint west also revealed newborn baby born via surrogacy kim earlier suffered pregnancy related \n",
      "실제 요약 : kim names newborn daughter west \n",
      "예측 요약 :  canada to\n",
      "\n",
      "\n",
      "원문 : mumbai crime branch saturday arrested six accused jail officials death prison convict accused already suspended jail department planning get bail arrested notably died june following alleged assault prison staff missing food \n",
      "실제 요약 : officials arrested over death of prison \n",
      "예측 요약 :  arrested for molesting minor in mumbai\n",
      "\n",
      "\n",
      "원문 : china uk based scientists developed intelligent nanoparticles heat temperature high enough kill cells self regulate lose heat get hot enough harm healthy tissue self method could game cancer treatment prevent serious side effects said study author professor ravi \n",
      "실제 요약 : self for cancer \n",
      "예측 요약 :  startup develops self driving\n",
      "\n",
      "\n",
      "원문 : former indian cricketer virender sehwag took twitter nigerian footballer emmanuel marriage crowned beautiful girl nigeria wife like phone emmanuel please annual sehwag wrote alongside picture claimed divorced miss nigeria get married \n",
      "실제 요약 : wife like phone sehwag mocks footballer \n",
      "예측 요약 :  dhoni wife wife wife\n",
      "\n",
      "\n",
      "원문 : polish defender saved television reporter injury falling kick interview reporter falling came crashing due conditions reporter later shared clip incident twitter called hero caption \n",
      "실제 요약 : from \n",
      "예측 요약 :  woman dies after heart\n",
      "\n",
      "\n",
      "원문 : stanford researchers proposed creating artificial solar two spacecraft look earth like planets outside solar system spacecraft called would position like moon solar eclipse blocking distant star light second spacecraft telescope could view planets within shadow cast \n",
      "실제 요약 : artificial proposed for \n",
      "예측 요약 :  nasa to\n",
      "\n",
      "\n",
      "원문 : mahesh manjrekar appeared cameo rajkumar hirani sanju directed sanjay dutt several films said seen sanju film biopic little disappointed manjrekar added would directed film different approach film left lot filmmaker said \n",
      "실제 요약 : as biopic was with \n",
      "예측 요약 :  was not makers on padmavati director\n",
      "\n",
      "\n",
      "원문 : underworld dawood ibrahim aide mumbai serial blasts accused farooq deported india thursday arrested dubai questioned cbi presented mumbai court farooq interpol notice issued fled india blasts killed people \n",
      "실제 요약 : mumbai blasts accused and dawood arrested \n",
      "예측 요약 :  dawood arrested for in mumbai\n",
      "\n",
      "\n",
      "원문 : england rounder ben stokes cook strike appearing behind test pakistan friday stokes playing due injury briefly halted play due cook line vision england first innings stokes seen trying hide behind screen \n",
      "실제 요약 : behind batsman \n",
      "예측 요약 :  indian fishermen to\n",
      "\n",
      "\n",
      "원문 : ferrari german driver sebastian season opening grand prix overall third australian grand prix title melbourne sunday defending champion mercedes british driver lewis hamilton begun race pole position came second ahead ferrari force india driver managed finish inside top \n",
      "실제 요약 : wins season first \n",
      "예측 요약 :  united united season\n",
      "\n",
      "\n",
      "원문 : indian hacker anand prakash revealed awarded lakh twitter last year bug let tweet account microblogging platform bug also allowed post videos photos delete ones already posted twitter account also let access private files uploaded twitter \n",
      "실제 요약 : indian with lakh for twitter \n",
      "예측 요약 :  instagram to users on instagram\n",
      "\n",
      "\n",
      "원문 : billionaire co founder bloomberg michael bloomberg said brexit single thing country ever done apart donald trump us president adding brexit smart thing bloomberg said really hard understand country well wanted \n",
      "실제 요약 : brexit trump us billionaire \n",
      "예측 요약 :  billionaire billionaire billionaire billionaire billionaire\n",
      "\n",
      "\n",
      "원문 : charity kolkata saturday celebrated founder mother th birth anniversary grave conducting special prayers notably mother awarded nobel peace prize work undertaken struggle overcome poverty distress bharat ratna \n",
      "실제 요약 : mother th birth anniversary \n",
      "예측 요약 :  fans its first female\n",
      "\n",
      "\n",
      "원문 : commerce giant amazon india laid around employees recruitment team may ask employees leave across teams amazon confirmed india saying part company global earlier february us based firm laid hundreds employees globally \n",
      "실제 요약 : amazon india off employees from team \n",
      "예측 요약 :  google to launch its own cryptocurrency\n",
      "\n",
      "\n",
      "원문 : islamic state militant group claimed responsibility attack kabul afghanistan killed least people injured others thursday attack targeted news agency office neighbouring cultural centre president ashraf ghani spokesman called attack crime humanity pledged destroy terrorist groups \n",
      "실제 요약 : islamic state claims afghanistan attack that killed \n",
      "예측 요약 :  taliban claims responsibility for attack\n",
      "\n",
      "\n",
      "원문 : united airlines tuesday false imprisonment lawsuit frequent arrested london police refusing leave united said staff demanded leave despite missed flight court said united falsely duty help club \n",
      "실제 요약 : united airlines wins false lawsuit \n",
      "예측 요약 :  man arrested for molesting woman\n",
      "\n",
      "\n",
      "원문 : bearing largest colour diamond ever auctioned fetched million tuesday auction house announced carat diamond cut carat rock discovered mine suspended art de took hours make \n",
      "실제 요약 : auctioned for crore \n",
      "예측 요약 :  auctioned for crore in\n",
      "\n",
      "\n",
      "원문 : delivering sentence kulbhushan jadhav case rejected pakistan argument asserted case pakistan argued access india pakistan decided basis bilateral agreement court ruled nations convention rights provide assistance nationals \n",
      "실제 요약 : rejects pak says it has \n",
      "예측 요약 :  pakistan pm court accused of independence\n",
      "\n",
      "\n",
      "원문 : bengaluru based vehicle sharing marketplace raised million series funding round led das capital million asset financing handled existing investor motor partners farm also participated funding round founded lets vehicle owners list vehicles rent customers \n",
      "실제 요약 : vehicle sharing raises mn \n",
      "예측 요약 :  startup raises mn in series\n",
      "\n",
      "\n",
      "원문 : video showing female opposition male colleague ruling left democratic front budget municipal corporation kerala surfaced online incident took place opposition municipal chairperson refused reply query land acquisition deal corporation \n",
      "실제 요약 : video woman in kerala \n",
      "예측 요약 :  muslim woman for\n",
      "\n",
      "\n",
      "원문 : prasad third highest ranking officer defence ministry suspended allegedly accompanying posing official central commissioner kumar requested ensure prasad got responsibilities within organisation kumar arrested background check \n",
      "실제 요약 : defence ministry official suspended for working with \n",
      "예측 요약 :  former is not\n",
      "\n",
      "\n",
      "원문 : couple applied passports lucknow allegedly passport officer put applications hold tweeting external affairs minister sushma swaraj couple said officer even told man convert take wedding valid \n",
      "실제 요약 : passport officer couple asks to \n",
      "예측 요약 :  students at indian women in rajasthan\n",
      "\n",
      "\n",
      "원문 : year old student kolkata presidency university found hanging ceiling fan room house west bengal found police mother informed upon room locked police said suicide note found post mortem examination report yet reach \n",
      "실제 요약 : university student found at his house \n",
      "예측 요약 :  year old girl commits suicide in\n",
      "\n",
      "\n",
      "원문 : nearly million cash stolen former zimbabwe president mugabe house allegedly relatives employees court papers released friday showed three suspects arrested earlier month initial allegations stole mugabe rural house allegedly spent money cars houses among others \n",
      "실제 요약 : million stolen from ex zimbabwe president house \n",
      "예측 요약 :  trump sued for sexual harassment\n",
      "\n",
      "\n",
      "원문 : teaser actress kangana ranaut upcoming film simran released teaser shows kangana different looks directed hansal mehta film reportedly inspired life nurse sent prison banks pay gambling \n",
      "실제 요약 : teaser of kangana released \n",
      "예측 요약 :  teaser of irrfan khan starrer released\n",
      "\n",
      "\n",
      "원문 : according reports divorce proceedings quit drinking resolve things done anything move forward several months one thinks ever going source quoted saying announced split september \n",
      "실제 요약 : divorce between reports \n",
      "예측 요약 :  infosys to be\n",
      "\n",
      "\n",
      "원문 : rajasthan police tuesday detained man suspected involvement customer data leak mukesh ambani led reliance jio local internet service provider confirmed customer named imran detained adding received query police data leaked breach included details including names email \n",
      "실제 요약 : man detained over reliance jio data leak \n",
      "예측 요약 :  reliance jio arrested for reliance jio\n",
      "\n",
      "\n",
      "원문 : uttar pradesh pollution control board sunday directed pollution causing located ghaziabad meerut road site iv stop production till orders comes national green tribunal ordered emission releasing industrial activities delhi ncr suspended till november wake air quality \n",
      "실제 요약 : to stop production in ghaziabad \n",
      "예측 요약 :  maharashtra to get new of\n",
      "\n",
      "\n",
      "원문 : french footballer apologised facing criticism twitter posted picture dressed african american basketball player deleted tweet later painted black part dress outfit recognise part hurt anyone apologise later tweeted \n",
      "실제 요약 : french footballer apologises for racist photo \n",
      "예측 요약 :  footballer tweets racist racist\n",
      "\n",
      "\n",
      "원문 : congress tuesday filed complaint maharashtra cm devendra fadnavis election commission alleging violated model code conduct recently held lok sabha alleged fadnavis announced loan waiver scheme ahead elections urged bjp workers use dam win polls \n",
      "실제 요약 : maharashtra cm election congress to ec \n",
      "예측 요약 :  congress mlas to mlas in karnataka\n",
      "\n",
      "\n",
      "원문 : ahead india pakistan asia cup tie wednesday indian wheelchair cricket team thrashed pakistani counterparts friendship cup match played uae indian wheelchair team scored pakistan got dismissed runs indian men cricket team set face pakistan first time period months \n",
      "실제 요약 : indian cricket team beats pakistan by runs \n",
      "예측 요약 :  india pakistan series series\n",
      "\n",
      "\n",
      "원문 : three empty goods train derailed west bengal district sunday reason derailment yet ascertained one reported injured incident notably fifth rail accident piyush goyal appointed railway minister following cabinet september \n",
      "실제 요약 : of train in west bengal \n",
      "예측 요약 :  railways to train\n",
      "\n",
      "\n",
      "원문 : iit bombay researchers designed training system help master badminton shots using record movements provide feedback system point difference one shot expected shot played experts band also contains motors provide real time feedback based effort \n",
      "실제 요약 : design training system using tech \n",
      "예측 요약 :  world oldest boy with\n",
      "\n",
      "\n"
     ]
    }
   ],
   "source": [
    "for i in range(50, 100):\n",
    "    print(\"원문 :\", seq2text(encoder_input_test[i]))\n",
    "    print(\"실제 요약 :\", seq2summary(decoder_input_test[i]))\n",
    "    print(\"예측 요약 :\", decode_sequence(encoder_input_test[i].reshape(1, text_max_len)))\n",
    "    print(\"\\n\")"
   ]
  },
  {
   "cell_type": "code",
   "execution_count": 74,
   "id": "ac54d425",
   "metadata": {},
   "outputs": [
    {
     "name": "stdout",
     "output_type": "stream",
     "text": [
      "summa                         1.2.0\r\n"
     ]
    }
   ],
   "source": [
    "# 추출적 요약하기\n",
    "\n",
    "#패키지 설치\n",
    "!pip list | grep summa"
   ]
  },
  {
   "cell_type": "code",
   "execution_count": 75,
   "id": "9d3b04a0",
   "metadata": {},
   "outputs": [],
   "source": [
    "#데이터 다운로드\n",
    "import requests\n",
    "from summa.summarizer import summarize"
   ]
  },
  {
   "cell_type": "code",
   "execution_count": null,
   "id": "51e99a8d",
   "metadata": {},
   "outputs": [],
   "source": [
    "#매트릭스 시놉시스 다운로드\n",
    "text = requests.get('http://rare-technologies.com/the_matrix_synopsis.txt').text"
   ]
  },
  {
   "cell_type": "code",
   "execution_count": null,
   "id": "604aae07",
   "metadata": {},
   "outputs": [],
   "source": [
    "#데이터 다운롣드 확인하기\n",
    "print(text[:1500])"
   ]
  },
  {
   "cell_type": "code",
   "execution_count": null,
   "id": "6a51b5ae",
   "metadata": {},
   "outputs": [],
   "source": [
    "# summarize 사용하기\n",
    "#  원문의 0.005%만을 출력하도록 설정\n",
    "print('headliens:')\n",
    "print(summarize(text, ratio=0.005))"
   ]
  },
  {
   "cell_type": "code",
   "execution_count": null,
   "id": "646b6e3d",
   "metadata": {},
   "outputs": [],
   "source": [
    "print('headliens:')\n",
    "print(summarize(text, ratio=0.005, split=True))"
   ]
  },
  {
   "cell_type": "code",
   "execution_count": null,
   "id": "828d4e7b",
   "metadata": {},
   "outputs": [],
   "source": [
    "print('headliens:')\n",
    "print(summarize(text, words=50))"
   ]
  },
  {
   "cell_type": "code",
   "execution_count": null,
   "id": "c4dd04a0",
   "metadata": {},
   "outputs": [],
   "source": []
  }
 ],
 "metadata": {
  "kernelspec": {
   "display_name": "Python 3 (ipykernel)",
   "language": "python",
   "name": "python3"
  },
  "language_info": {
   "codemirror_mode": {
    "name": "ipython",
    "version": 3
   },
   "file_extension": ".py",
   "mimetype": "text/x-python",
   "name": "python",
   "nbconvert_exporter": "python",
   "pygments_lexer": "ipython3",
   "version": "3.9.7"
  }
 },
 "nbformat": 4,
 "nbformat_minor": 5
}
