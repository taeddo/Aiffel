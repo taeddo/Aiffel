{
 "cells": [
  {
   "cell_type": "code",
   "execution_count": 2,
   "id": "34f78571",
   "metadata": {},
   "outputs": [
    {
     "name": "stdout",
     "output_type": "stream",
     "text": [
      "데이터 크기: 187088\n",
      "Examples:\n",
      " [\"Now I've heard there was a secret chord\", 'That David played, and it pleased the Lord', \"But you don't really care for music, do you?\"]\n"
     ]
    }
   ],
   "source": [
    "\n",
    "import glob\n",
    "import os\n",
    "\n",
    "txt_file_path = os.getenv('HOME')+'/aiffel/lyricist/data/lyrics/*'\n",
    "\n",
    "txt_list = glob.glob(txt_file_path)\n",
    "\n",
    "raw_corpus = []\n",
    "\n",
    "# 여러개의 txt 파일을 모두 읽어서 raw_corpus 에 담습니다.\n",
    "for txt_file in txt_list:\n",
    "    with open(txt_file, \"r\") as f:\n",
    "        raw = f.read().splitlines()\n",
    "        raw_corpus.extend(raw)\n",
    "\n",
    "print(\"데이터 크기:\", len(raw_corpus))\n",
    "print(\"Examples:\\n\", raw_corpus[:3])"
   ]
  },
  {
   "cell_type": "code",
   "execution_count": 3,
   "id": "bcd429a1",
   "metadata": {},
   "outputs": [],
   "source": [
    "#데이터 정제\n",
    "import re\n",
    "# 입력된 문장을\n",
    "#     1. 소문자로 바꾸고, 양쪽 공백을 지웁니다\n",
    "#     2. 특수문자 양쪽에 공백을 넣고\n",
    "#     3. 여러개의 공백은 하나의 공백으로 바꿉니다\n",
    "#     4. a-zA-Z?.!,¿가 아닌 모든 문자를 하나의 공백으로 바꿉니다\n",
    "#     5. 다시 양쪽 공백을 지웁니다\n",
    "#     6. 문장 시작에는 <start>, 끝에는 <end>를 추가합니다\n",
    "# 이 순서로 처리해주면 문제가 되는 상황을 방지할 수 있겠네요!\n",
    "def preprocess_sentence(sentence):\n",
    "    sentence = sentence.lower().strip() # 1 # strip()은 문자열 양쪽 끝에 있는 공백을 제거\n",
    "    sentence = re.sub(r\"([?.!,¿])\", r\" \\1 \", sentence) # 2 # \\1은 첫번째 그룹을 뜻한다.\n",
    "    sentence = re.sub(r'[\" \"]+', \" \", sentence) # 3\n",
    "    sentence = re.sub(r\"[^a-zA-Z?.!,¿]+\", \" \", sentence) # 4\n",
    "    sentence = sentence.strip() # 5 \n",
    "    sentence = '<start> ' + sentence + ' <end>' # 6\n",
    "    return sentence"
   ]
  },
  {
   "cell_type": "code",
   "execution_count": 4,
   "id": "9e6ef3d0",
   "metadata": {},
   "outputs": [
    {
     "data": {
      "text/plain": [
       "['<start> now i ve heard there was a secret chord <end>',\n",
       " '<start> that david played , and it pleased the lord <end>',\n",
       " '<start> but you don t really care for music , do you ? <end>',\n",
       " '<start> it goes like this <end>',\n",
       " '<start> the fourth , the fifth <end>',\n",
       " '<start> the minor fall , the major lift <end>',\n",
       " '<start> the baffled king composing hallelujah hallelujah <end>',\n",
       " '<start> hallelujah <end>',\n",
       " '<start> hallelujah <end>',\n",
       " '<start> hallelujah your faith was strong but you needed proof <end>']"
      ]
     },
     "execution_count": 4,
     "metadata": {},
     "output_type": "execute_result"
    }
   ],
   "source": [
    "# corpus 정제된 문장을 담을 리스트\n",
    "corpus = []\n",
    "\n",
    "# preprocess_sentence 함수를 이용해서 정제된 문장을 담아준다.\n",
    "# 토큰의 개수가 15개를 넘어가는 문장을 제외\n",
    "# split 합수로 공백을 기준으로 단어를 나누어 준다.\n",
    "for sentence in raw_corpus:\n",
    "    if len(sentence) == 0:\n",
    "        continue\n",
    "    if len(sentence.split()) >= 13:  # 토큰 15개 이상이면 삭제하라고 되어있는데, 그 뒤에 학습데이터수가 124960개 이상이면 안된다고 해서 다시 줄임\n",
    "        continue\n",
    "    corpus.append(preprocess_sentence(sentence))\n",
    "        \n",
    "# 정제된 결과를 10개 확인\n",
    "corpus[:10]"
   ]
  },
  {
   "cell_type": "code",
   "execution_count": 5,
   "id": "0da2e931",
   "metadata": {},
   "outputs": [
    {
     "name": "stdout",
     "output_type": "stream",
     "text": [
      "[[   2   50    5 ...    0    0    0]\n",
      " [   2   17 3125 ...    0    0    0]\n",
      " [   2   34    7 ...    0    0    0]\n",
      " ...\n",
      " [   2  263  192 ...    0    0    0]\n",
      " [   2  127    5 ...    0    0    0]\n",
      " [   2    7   36 ...    0    0    0]] <keras_preprocessing.text.Tokenizer object at 0x7f3319511970>\n",
      "\n",
      "-------------------------\n",
      "\n",
      "텐서의 갯수: 158876\n"
     ]
    }
   ],
   "source": [
    "#토큰화\n",
    "# 토큰화\n",
    "\n",
    "import tensorflow as tf\n",
    "import numpy as np\n",
    "\n",
    "def tokenize(corpus):\n",
    "    # 12000단어를 기억할 수 있는 tokenizer를 만들겁니다 (전체 단어의 수 12000개로 제한)\n",
    "    # 우리는 이미 문장을 정제했으니 filters가 필요없어요\n",
    "    # 12000단어에 포함되지 못한 단어는 '<unk>'로 바꿀거에요\n",
    "    tokenizer = tf.keras.preprocessing.text.Tokenizer(\n",
    "        num_words=12000, \n",
    "        filters=' ',\n",
    "        oov_token=\"<unk>\"\n",
    "    )\n",
    "\n",
    "    # corpus를 이용해 tokenizer 내부의 단어장을 완성합니다\n",
    "    # fit_on_texts는 리스트 형태로 결과를 반환\n",
    "    tokenizer.fit_on_texts(corpus)\n",
    "    # 준비한 tokenizer를 이용해 corpus를 Tensor로 변환\n",
    "    tensor = tokenizer.texts_to_sequences(corpus)   \n",
    " \n",
    "    # 입력 데이터의 시퀀스 길이를 일정하게 맞춰줍니다\n",
    "    # 만약 시퀀스가 짧다면 문장 뒤에 패딩을 붙여 길이를 맞춰줍니다.\n",
    "    # 문장 앞에 패딩을 붙여 길이를 맞추고 싶다면 padding='pre'를 사용합니다\n",
    "    tensor = tf.keras.preprocessing.sequence.pad_sequences(tensor, padding='post')  \n",
    "    \n",
    "    print(tensor,tokenizer)\n",
    "    return tensor, tokenizer\n",
    "\n",
    "tensor, tokenizer = tokenize(corpus)\n",
    "\n",
    "print('\\n-------------------------\\n')\n",
    "print('텐서의 갯수:', len(tensor))"
   ]
  },
  {
   "cell_type": "code",
   "execution_count": 6,
   "id": "33ab5127",
   "metadata": {},
   "outputs": [],
   "source": [
    "#평가 데이터셋 분리\n",
    "from sklearn.model_selection import train_test_split\n",
    "\n",
    "src_input = tensor[:, :-1]  # 행 전체, 마지막 열을 제외한 모든 열\n",
    "tgt_input = tensor[:, 1:]   # 행 전체, 첫번째 열을 제외한 모든 열 (<start>제외)\n",
    "\n",
    "enc_train, enc_val, dec_train, dec_val = train_test_split(\n",
    "    src_input, tgt_input,\n",
    "    random_state=2022,\n",
    "    test_size = 0.2\n",
    ")"
   ]
  },
  {
   "cell_type": "code",
   "execution_count": 7,
   "id": "5a8e9197",
   "metadata": {},
   "outputs": [
    {
     "name": "stdout",
     "output_type": "stream",
     "text": [
      "Source Train: (127100, 32)\n",
      "Target Train: (127100, 32)\n"
     ]
    }
   ],
   "source": [
    "# encoding, decoding의 약자인듯. 갑자기 변수명이 바뀌어서 헷갈렸다.\n",
    "print(\"Source Train:\", enc_train.shape)\n",
    "print(\"Target Train:\", dec_train.shape)"
   ]
  },
  {
   "cell_type": "code",
   "execution_count": 8,
   "id": "847b0a5c",
   "metadata": {},
   "outputs": [
    {
     "data": {
      "text/plain": [
       "<BatchDataset shapes: ((256, 32), (256, 32)), types: (tf.int32, tf.int32)>"
      ]
     },
     "execution_count": 8,
     "metadata": {},
     "output_type": "execute_result"
    }
   ],
   "source": [
    "# shuffle에서 쓰인다.\n",
    "# shuffle 함수는 고정된 버퍼 크기로 데이터를 섞는데, \n",
    "# 완전히 랜덤하게 섞기 위해서는 입력된 데이터 크기보다 큰 수를 입력해 주어야 한다.\n",
    "# 지금은 train 데이터셋 전체 갯수(127100)를 buffer_size로 설정했다.\n",
    "BUFFER_SIZE = len(enc_train)\n",
    "# batch_size : 한 번에 읽어올 데이터의 갯수\n",
    "BATCH_SIZE = 256\n",
    "# 여기서 정한 steps_per_epoch은 뒤에 사용되지 않았다.\n",
    "steps_per_epoch = len(enc_train) // BATCH_SIZE\n",
    "\n",
    "# tokenizer가 구축한 단어사전 내 12000개와, 여기 포함되지 않은 0:<pad>를 포함하여 7001개\n",
    "# 앞에서 num_words = 12000으로 정해주었음\n",
    "VOCAB_SIZE = tokenizer.num_words + 1\n",
    "\n",
    "# tf.data.Dataset.from_tensor_slices()를 이용해 corpus 텐서를 tf.data.Dataset객체로 변환\n",
    "# Premade Estimator를 사용하기 위해서는 feature 데이터와 label 데이터가 함께 전달하여 dataset을 생성해야 한다.\n",
    "train_dataset = tf.data.Dataset.from_tensor_slices((enc_train, dec_train)).shuffle(BUFFER_SIZE)\n",
    "# drop_remainder=True는 마지막 남은 데이터를 버린다는 옵션 설정\n",
    "# 127100 // 256 : 나머지 데이터는 버림\n",
    "train_dataset = train_dataset.batch(BATCH_SIZE, drop_remainder = True)\n",
    "train_dataset"
   ]
  },
  {
   "cell_type": "code",
   "execution_count": 9,
   "id": "cafe04b8",
   "metadata": {},
   "outputs": [
    {
     "data": {
      "text/plain": [
       "<BatchDataset shapes: ((256, 32), (256, 32)), types: (tf.int32, tf.int32)>"
      ]
     },
     "execution_count": 9,
     "metadata": {},
     "output_type": "execute_result"
    }
   ],
   "source": [
    "# validation 데이터셋도 텐서를 tf.data.Dataset 객체로 변환시켜준다.\n",
    "test_dataset = tf.data.Dataset.from_tensor_slices((enc_val, dec_val)).shuffle(BUFFER_SIZE)\n",
    "test_dataset = test_dataset.batch(BATCH_SIZE, drop_remainder = True)\n",
    "test_dataset"
   ]
  },
  {
   "cell_type": "code",
   "execution_count": 10,
   "id": "5cc382aa",
   "metadata": {},
   "outputs": [],
   "source": [
    "#인공지능 만들기\n",
    "\n",
    "class TextGenerator(tf.keras.Model):\n",
    "    def __init__(self, vocab_size, embedding_size, hidden_size):\n",
    "        super().__init__()\n",
    "        \n",
    "        # embedding_size : 워드벡터의 차원 수\n",
    "        self.embedding = tf.keras.layers.Embedding(vocab_size, embedding_size)\n",
    "        self.rnn_1 = tf.keras.layers.LSTM(hidden_size, return_sequences=True)\n",
    "        self.rnn_2 = tf.keras.layers.LSTM(hidden_size, return_sequences=True)\n",
    "        self.linear = tf.keras.layers.Dense(vocab_size)\n",
    "        \n",
    "    def call(self, x):\n",
    "        out = self.embedding(x)\n",
    "        out = self.rnn_1(out)\n",
    "        out = self.rnn_2(out)\n",
    "        out = self.linear(out)\n",
    "        \n",
    "        return out\n",
    "    \n",
    "embedding_size = 256\n",
    "hidden_size = 1024\n",
    "model = TextGenerator(tokenizer.num_words + 1, embedding_size , hidden_size)"
   ]
  },
  {
   "cell_type": "code",
   "execution_count": 11,
   "id": "91ddad55",
   "metadata": {},
   "outputs": [
    {
     "data": {
      "text/plain": [
       "<tf.Tensor: shape=(256, 32, 12001), dtype=float32, numpy=\n",
       "array([[[ 1.5552704e-04, -9.5453623e-05, -1.3263618e-04, ...,\n",
       "         -3.2901797e-05, -2.2219541e-05, -2.1839049e-04],\n",
       "        [ 2.5679107e-04, -4.4109158e-05, -9.2191258e-05, ...,\n",
       "         -1.5329766e-04, -2.1413939e-04, -4.0232309e-04],\n",
       "        [ 4.9953314e-04,  2.3725689e-04, -4.8546094e-04, ...,\n",
       "         -2.2333862e-04, -2.4159279e-04, -3.8534106e-04],\n",
       "        ...,\n",
       "        [ 5.2797832e-03, -2.1343639e-03,  7.7671901e-04, ...,\n",
       "          1.0734699e-03, -2.5683004e-04,  2.7400132e-05],\n",
       "        [ 5.2837920e-03, -2.1610572e-03,  8.0967211e-04, ...,\n",
       "          1.0805696e-03, -2.6492425e-04,  3.4303830e-05],\n",
       "        [ 5.2861250e-03, -2.1838974e-03,  8.3938532e-04, ...,\n",
       "          1.0865378e-03, -2.7285051e-04,  4.1585128e-05]],\n",
       "\n",
       "       [[ 1.5552704e-04, -9.5453623e-05, -1.3263618e-04, ...,\n",
       "         -3.2901797e-05, -2.2219541e-05, -2.1839049e-04],\n",
       "        [ 2.3428944e-04, -2.3839963e-04, -4.7958447e-04, ...,\n",
       "          1.0689471e-04, -1.9056142e-05, -1.8269314e-04],\n",
       "        [ 5.0521968e-04,  8.8274755e-05, -6.6682644e-04, ...,\n",
       "          7.7853554e-05, -1.3167500e-04, -1.3620695e-04],\n",
       "        ...,\n",
       "        [ 5.2510616e-03, -2.0118239e-03,  7.1643648e-04, ...,\n",
       "          9.4214862e-04, -2.6081593e-04,  5.8215206e-05],\n",
       "        [ 5.2623316e-03, -2.0597484e-03,  7.5647532e-04, ...,\n",
       "          9.6450438e-04, -2.7164965e-04,  5.4048727e-05],\n",
       "        [ 5.2703675e-03, -2.1005827e-03,  7.9264183e-04, ...,\n",
       "          9.8452577e-04, -2.8182942e-04,  5.2764568e-05]],\n",
       "\n",
       "       [[ 1.5552704e-04, -9.5453623e-05, -1.3263618e-04, ...,\n",
       "         -3.2901797e-05, -2.2219541e-05, -2.1839049e-04],\n",
       "        [ 3.1559225e-04, -1.1587556e-04, -2.4051516e-04, ...,\n",
       "         -2.5148844e-04, -2.2514765e-04, -2.7438687e-04],\n",
       "        [ 5.2794941e-05,  4.7057518e-05, -4.1122176e-04, ...,\n",
       "         -3.0208964e-04, -6.9879403e-04, -2.7918231e-04],\n",
       "        ...,\n",
       "        [ 5.2555837e-03, -1.9268113e-03,  5.8106595e-04, ...,\n",
       "          9.3224173e-04, -2.2922702e-04,  4.4114645e-06],\n",
       "        [ 5.2631386e-03, -1.9863821e-03,  6.3602015e-04, ...,\n",
       "          9.5071906e-04, -2.4352703e-04,  1.0818955e-05],\n",
       "        [ 5.2682096e-03, -2.0377841e-03,  6.8608182e-04, ...,\n",
       "          9.6775388e-04, -2.5651688e-04,  1.7972285e-05]],\n",
       "\n",
       "       ...,\n",
       "\n",
       "       [[ 1.5552704e-04, -9.5453623e-05, -1.3263618e-04, ...,\n",
       "         -3.2901797e-05, -2.2219541e-05, -2.1839049e-04],\n",
       "        [ 2.5679107e-04, -4.4109158e-05, -9.2191258e-05, ...,\n",
       "         -1.5329766e-04, -2.1413939e-04, -4.0232309e-04],\n",
       "        [ 7.8963167e-05,  6.7136352e-05, -2.1579703e-04, ...,\n",
       "          3.5444504e-05, -8.8618639e-05, -5.5876060e-04],\n",
       "        ...,\n",
       "        [ 5.2511701e-03, -2.0901312e-03,  7.7978958e-04, ...,\n",
       "          9.9655672e-04, -3.4368288e-04,  4.9429040e-05],\n",
       "        [ 5.2615963e-03, -2.1278951e-03,  8.1338972e-04, ...,\n",
       "          1.0145718e-03, -3.4387445e-04,  5.4489647e-05],\n",
       "        [ 5.2691065e-03, -2.1596630e-03,  8.4343390e-04, ...,\n",
       "          1.0300574e-03, -3.4409403e-04,  5.9977290e-05]],\n",
       "\n",
       "       [[ 1.5552704e-04, -9.5453623e-05, -1.3263618e-04, ...,\n",
       "         -3.2901797e-05, -2.2219541e-05, -2.1839049e-04],\n",
       "        [ 4.8104883e-04, -1.6049345e-04, -3.0320996e-04, ...,\n",
       "         -2.6793394e-04,  6.2749707e-05, -5.0050410e-04],\n",
       "        [ 8.1823702e-04, -4.6021657e-04, -3.1888593e-04, ...,\n",
       "         -4.5160620e-04,  1.2971376e-05, -8.6794270e-04],\n",
       "        ...,\n",
       "        [ 5.2851248e-03, -2.1483619e-03,  7.2768785e-04, ...,\n",
       "          9.6012925e-04, -3.0995216e-04,  4.2615269e-05],\n",
       "        [ 5.2859453e-03, -2.1738536e-03,  7.6810957e-04, ...,\n",
       "          9.8159059e-04, -3.1549964e-04,  4.4569137e-05],\n",
       "        [ 5.2858987e-03, -2.1955061e-03,  8.0442138e-04, ...,\n",
       "          1.0006098e-03, -3.2043501e-04,  4.8069305e-05]],\n",
       "\n",
       "       [[ 1.5552704e-04, -9.5453623e-05, -1.3263618e-04, ...,\n",
       "         -3.2901797e-05, -2.2219541e-05, -2.1839049e-04],\n",
       "        [ 4.0898801e-04, -3.9255698e-04, -1.4861210e-04, ...,\n",
       "         -9.3537084e-05, -1.5590311e-04, -5.4358691e-04],\n",
       "        [ 6.0420408e-04, -3.1192502e-04, -1.6322451e-04, ...,\n",
       "          2.0705466e-04, -3.3705021e-04, -6.3579000e-04],\n",
       "        ...,\n",
       "        [ 5.2520563e-03, -2.1300160e-03,  7.6916470e-04, ...,\n",
       "          1.0173315e-03, -3.1948599e-04,  5.0177830e-05],\n",
       "        [ 5.2544535e-03, -2.1595797e-03,  8.0558402e-04, ...,\n",
       "          1.0295103e-03, -3.2345144e-04,  5.1830339e-05],\n",
       "        [ 5.2562966e-03, -2.1847438e-03,  8.3807501e-04, ...,\n",
       "          1.0405589e-03, -3.2713689e-04,  5.4737571e-05]]], dtype=float32)>"
      ]
     },
     "execution_count": 11,
     "metadata": {},
     "output_type": "execute_result"
    }
   ],
   "source": [
    "for src_sample, tgt_sample in train_dataset.take(1):\n",
    "    break\n",
    "\n",
    "# 한 배치만 불러온 데이터를 모델에 넣어봅니다\n",
    "model(src_sample)"
   ]
  },
  {
   "cell_type": "code",
   "execution_count": 12,
   "id": "aabf4ac1",
   "metadata": {},
   "outputs": [
    {
     "name": "stdout",
     "output_type": "stream",
     "text": [
      "Model: \"text_generator\"\n",
      "_________________________________________________________________\n",
      "Layer (type)                 Output Shape              Param #   \n",
      "=================================================================\n",
      "embedding (Embedding)        multiple                  3072256   \n",
      "_________________________________________________________________\n",
      "lstm (LSTM)                  multiple                  5246976   \n",
      "_________________________________________________________________\n",
      "lstm_1 (LSTM)                multiple                  8392704   \n",
      "_________________________________________________________________\n",
      "dense (Dense)                multiple                  12301025  \n",
      "=================================================================\n",
      "Total params: 29,012,961\n",
      "Trainable params: 29,012,961\n",
      "Non-trainable params: 0\n",
      "_________________________________________________________________\n"
     ]
    }
   ],
   "source": [
    "model.summary()"
   ]
  },
  {
   "cell_type": "code",
   "execution_count": 13,
   "id": "3acac0fd",
   "metadata": {},
   "outputs": [
    {
     "name": "stdout",
     "output_type": "stream",
     "text": [
      "Epoch 1/10\n",
      "496/496 [==============================] - 217s 429ms/step - loss: 1.6397 - val_loss: 1.4061\n",
      "Epoch 2/10\n",
      "496/496 [==============================] - 223s 450ms/step - loss: 1.3506 - val_loss: 1.3215\n",
      "Epoch 3/10\n",
      "496/496 [==============================] - 222s 448ms/step - loss: 1.2762 - val_loss: 1.2710\n",
      "Epoch 4/10\n",
      "496/496 [==============================] - 223s 450ms/step - loss: 1.2194 - val_loss: 1.2344\n",
      "Epoch 5/10\n",
      "496/496 [==============================] - 223s 450ms/step - loss: 1.1690 - val_loss: 1.2032\n",
      "Epoch 6/10\n",
      "496/496 [==============================] - 224s 451ms/step - loss: 1.1229 - val_loss: 1.1782\n",
      "Epoch 7/10\n",
      "496/496 [==============================] - 223s 450ms/step - loss: 1.0806 - val_loss: 1.1581\n",
      "Epoch 8/10\n",
      "496/496 [==============================] - 223s 450ms/step - loss: 1.0409 - val_loss: 1.1402\n",
      "Epoch 9/10\n",
      "496/496 [==============================] - 224s 452ms/step - loss: 1.0037 - val_loss: 1.1250\n",
      "Epoch 10/10\n",
      "496/496 [==============================] - 223s 450ms/step - loss: 0.9686 - val_loss: 1.1125\n"
     ]
    },
    {
     "data": {
      "text/plain": [
       "<keras.callbacks.History at 0x7f32900203a0>"
      ]
     },
     "execution_count": 13,
     "metadata": {},
     "output_type": "execute_result"
    }
   ],
   "source": [
    "# optimizer는 loss를 최소화하는 w(가중치)를 찾는 것 (cs231n에 나온 내용)\n",
    "optimizer = tf.keras.optimizers.Adam()\n",
    "loss = tf.keras.losses.SparseCategoricalCrossentropy(\n",
    "    from_logits=True, reduction='none')\n",
    "\n",
    "# model.compile(loss, optimizer, metrics)\n",
    "model.compile(loss=loss, optimizer=optimizer)\n",
    "model.fit(train_dataset, validation_data = test_dataset, epochs=10)"
   ]
  },
  {
   "cell_type": "code",
   "execution_count": 14,
   "id": "fb1e74c0",
   "metadata": {},
   "outputs": [],
   "source": [
    "def generate_text(model, tokenizer, init_sentence=\"<start>\", max_len=20):\n",
    "    # 테스트를 위해서 입력받은 init_sentence도 일단 텐서로 변환합니다.\n",
    "    test_input = tokenizer.texts_to_sequences([init_sentence])\n",
    "    test_tensor = tf.convert_to_tensor(test_input, dtype=tf.int64)\n",
    "    end_token = tokenizer.word_index[\"<end>\"]\n",
    "    \n",
    "    # 텍스트를 실제로 생성할때는 루프를 돌면서 단어 하나씩 생성해야 합니다.\n",
    "    while True:\n",
    "        predict = model(test_tensor) # 입력받은 문장의 텐서를 입력합니다.\n",
    "        predict_word = tf.argmax(tf.nn.softmax(predict, axis=-1), axis=-1)[:, -1] # 우리 모델이 예측한 마지막 단어가 바로 새롭게 생성한 단어가 됩니다.\n",
    "        \n",
    "        # 우리 모델이 새롭계 예측한 단어를 입력 문장의 뒤에 붙여줍니다. \n",
    "        test_tensor = tf.concat([test_tensor, tf.expand_dims(predict_word, axis=0)], axis=-1)\n",
    "        \n",
    "        # 우리 모델이 <end>를 예측했거나, max_len에 도달하지 않았다면 while 루프를 돌면서 다음 단어를 예측해야합니다.\n",
    "        if predict_word.numpy()[0] == end_token:\n",
    "            break\n",
    "        if test_tensor.shape[1] >= max_len:\n",
    "            break\n",
    "    \n",
    "    generated = \"\"\n",
    "    \n",
    "    # 생성된 tensor 안에 있는 word index를 tokenizer.index_word 사전을 통해 실제 단어로 하나씩 변환합니다.\n",
    "    for word_index in test_tensor[0].numpy():\n",
    "        generated += tokenizer.index_word[word_index] + \" \"\n",
    "    \n",
    "    return generated # 이것이 최종적으로 모델이 생성한 자연어 문장입니다."
   ]
  },
  {
   "cell_type": "code",
   "execution_count": 15,
   "id": "e58d45e7",
   "metadata": {},
   "outputs": [
    {
     "data": {
      "text/plain": [
       "'<start> i love you <end> '"
      ]
     },
     "execution_count": 15,
     "metadata": {},
     "output_type": "execute_result"
    }
   ],
   "source": [
    "generate_text(model, tokenizer, init_sentence=\"<start> i love\", max_len=20)"
   ]
  },
  {
   "cell_type": "code",
   "execution_count": 16,
   "id": "c7e48a0d",
   "metadata": {},
   "outputs": [
    {
     "data": {
      "text/plain": [
       "'<start> if you want me to <end> '"
      ]
     },
     "execution_count": 16,
     "metadata": {},
     "output_type": "execute_result"
    }
   ],
   "source": [
    "generate_text(model, tokenizer, init_sentence=\"<start> if you\", max_len=20)"
   ]
  },
  {
   "cell_type": "code",
   "execution_count": 17,
   "id": "c8b211f2",
   "metadata": {},
   "outputs": [
    {
     "data": {
      "text/plain": [
       "'<start> i wonder if i could <end> '"
      ]
     },
     "execution_count": 17,
     "metadata": {},
     "output_type": "execute_result"
    }
   ],
   "source": [
    "generate_text(model, tokenizer, init_sentence=\"<start> i wonder\", max_len=20)"
   ]
  },
  {
   "cell_type": "code",
   "execution_count": 18,
   "id": "bd9b8b7c",
   "metadata": {},
   "outputs": [
    {
     "data": {
      "text/plain": [
       "'<start> i wanted to be a good time <end> '"
      ]
     },
     "execution_count": 18,
     "metadata": {},
     "output_type": "execute_result"
    }
   ],
   "source": [
    "generate_text(model, tokenizer, init_sentence=\"<start> i wanted\", max_len=20)"
   ]
  },
  {
   "cell_type": "code",
   "execution_count": 19,
   "id": "1f77766a",
   "metadata": {},
   "outputs": [
    {
     "data": {
      "text/plain": [
       "'<start> she loves me <end> '"
      ]
     },
     "execution_count": 19,
     "metadata": {},
     "output_type": "execute_result"
    }
   ],
   "source": [
    "generate_text(model, tokenizer, init_sentence=\"<start> she loves\", max_len=20)"
   ]
  },
  {
   "cell_type": "code",
   "execution_count": 20,
   "id": "2e241395",
   "metadata": {},
   "outputs": [
    {
     "data": {
      "text/plain": [
       "'<start> please give me a sign <end> '"
      ]
     },
     "execution_count": 20,
     "metadata": {},
     "output_type": "execute_result"
    }
   ],
   "source": [
    "generate_text(model, tokenizer, init_sentence=\"<start> please give \", max_len=20)"
   ]
  },
  {
   "cell_type": "code",
   "execution_count": 21,
   "id": "2cf1180f",
   "metadata": {},
   "outputs": [
    {
     "data": {
      "text/plain": [
       "'<start> if you want me to <end> '"
      ]
     },
     "execution_count": 21,
     "metadata": {},
     "output_type": "execute_result"
    }
   ],
   "source": [
    "generate_text(model, tokenizer, init_sentence=\"<start> if you want \", max_len=20)"
   ]
  },
  {
   "cell_type": "code",
   "execution_count": 22,
   "id": "30f4e0fe",
   "metadata": {},
   "outputs": [
    {
     "data": {
      "text/plain": [
       "'<start> say it all night <end> '"
      ]
     },
     "execution_count": 22,
     "metadata": {},
     "output_type": "execute_result"
    }
   ],
   "source": [
    "generate_text(model, tokenizer, init_sentence=\"<start> say \", max_len=20)"
   ]
  },
  {
   "cell_type": "code",
   "execution_count": null,
   "id": "a368b7c7",
   "metadata": {},
   "outputs": [],
   "source": []
  }
 ],
 "metadata": {
  "kernelspec": {
   "display_name": "Python 3 (ipykernel)",
   "language": "python",
   "name": "python3"
  },
  "language_info": {
   "codemirror_mode": {
    "name": "ipython",
    "version": 3
   },
   "file_extension": ".py",
   "mimetype": "text/x-python",
   "name": "python",
   "nbconvert_exporter": "python",
   "pygments_lexer": "ipython3",
   "version": "3.9.7"
  }
 },
 "nbformat": 4,
 "nbformat_minor": 5
}
