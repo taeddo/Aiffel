{
 "cells": [
  {
   "cell_type": "code",
   "execution_count": 2,
   "id": "562c8e05",
   "metadata": {},
   "outputs": [
    {
     "name": "stdout",
     "output_type": "stream",
     "text": [
      "ln: failed to create symbolic link '/aiffel/aiffel/sentiment_classification/data/ratings_test.txt': File exists\r\n",
      "ln: failed to create symbolic link '/aiffel/aiffel/sentiment_classification/data/ratings_train.txt': File exists\r\n"
     ]
    }
   ],
   "source": [
    "#데이터 다운로드 없이 Cloud shell에서 해당 파일의 심볼릭 링크를 연결해 주세요\n",
    "!ln -s ~/data/*.txt ~/aiffel/sentiment_classification/data"
   ]
  },
  {
   "cell_type": "code",
   "execution_count": 3,
   "id": "3ed73e3e",
   "metadata": {},
   "outputs": [
    {
     "data": {
      "text/html": [
       "<div>\n",
       "<style scoped>\n",
       "    .dataframe tbody tr th:only-of-type {\n",
       "        vertical-align: middle;\n",
       "    }\n",
       "\n",
       "    .dataframe tbody tr th {\n",
       "        vertical-align: top;\n",
       "    }\n",
       "\n",
       "    .dataframe thead th {\n",
       "        text-align: right;\n",
       "    }\n",
       "</style>\n",
       "<table border=\"1\" class=\"dataframe\">\n",
       "  <thead>\n",
       "    <tr style=\"text-align: right;\">\n",
       "      <th></th>\n",
       "      <th>id</th>\n",
       "      <th>document</th>\n",
       "      <th>label</th>\n",
       "    </tr>\n",
       "  </thead>\n",
       "  <tbody>\n",
       "    <tr>\n",
       "      <th>0</th>\n",
       "      <td>9976970</td>\n",
       "      <td>아 더빙.. 진짜 짜증나네요 목소리</td>\n",
       "      <td>0</td>\n",
       "    </tr>\n",
       "    <tr>\n",
       "      <th>1</th>\n",
       "      <td>3819312</td>\n",
       "      <td>흠...포스터보고 초딩영화줄....오버연기조차 가볍지 않구나</td>\n",
       "      <td>1</td>\n",
       "    </tr>\n",
       "    <tr>\n",
       "      <th>2</th>\n",
       "      <td>10265843</td>\n",
       "      <td>너무재밓었다그래서보는것을추천한다</td>\n",
       "      <td>0</td>\n",
       "    </tr>\n",
       "    <tr>\n",
       "      <th>3</th>\n",
       "      <td>9045019</td>\n",
       "      <td>교도소 이야기구먼 ..솔직히 재미는 없다..평점 조정</td>\n",
       "      <td>0</td>\n",
       "    </tr>\n",
       "    <tr>\n",
       "      <th>4</th>\n",
       "      <td>6483659</td>\n",
       "      <td>사이몬페그의 익살스런 연기가 돋보였던 영화!스파이더맨에서 늙어보이기만 했던 커스틴 ...</td>\n",
       "      <td>1</td>\n",
       "    </tr>\n",
       "  </tbody>\n",
       "</table>\n",
       "</div>"
      ],
      "text/plain": [
       "         id                                           document  label\n",
       "0   9976970                                아 더빙.. 진짜 짜증나네요 목소리      0\n",
       "1   3819312                  흠...포스터보고 초딩영화줄....오버연기조차 가볍지 않구나      1\n",
       "2  10265843                                  너무재밓었다그래서보는것을추천한다      0\n",
       "3   9045019                      교도소 이야기구먼 ..솔직히 재미는 없다..평점 조정      0\n",
       "4   6483659  사이몬페그의 익살스런 연기가 돋보였던 영화!스파이더맨에서 늙어보이기만 했던 커스틴 ...      1"
      ]
     },
     "execution_count": 3,
     "metadata": {},
     "output_type": "execute_result"
    }
   ],
   "source": [
    "# 1) 데이터 준비와 확인\n",
    "import pandas as pd\n",
    "\n",
    "# 데이터를 읽어봅시다. \n",
    "train_data = pd.read_table('~/aiffel/sentiment_classification/data/ratings_train.txt')\n",
    "test_data = pd.read_table('~/aiffel/sentiment_classification/data/ratings_test.txt')\n",
    "\n",
    "train_data.head()"
   ]
  },
  {
   "cell_type": "code",
   "execution_count": 5,
   "id": "ab0d04d0",
   "metadata": {},
   "outputs": [],
   "source": [
    "# 2) 데이터로더 구성\n",
    "'''\n",
    "데이터의 중복 제거\n",
    "NaN 결측치 제거\n",
    "한국어 토크나이저로 토큰화\n",
    "불용어(Stopwords) 제거\n",
    "사전word_to_index 구성\n",
    "텍스트 스트링을 사전 인덱스 스트링으로 변환\n",
    "X_train, y_train, X_test, y_test, word_to_index 리턴\n",
    "'''\n",
    "from konlpy.tag import Mecab # 토큰화 하는 라이브러리\n",
    "import numpy as np\n",
    "from collections import Counter\n",
    "\n",
    "tokenizer = Mecab() # 토크나이저 생성 # Mecab()은 형태소를 분석에 사용된다.\n",
    "stopwords = ['의','가','이','은','들','는','좀','잘','걍','과','도','를','으로','자','에','와','한','하다']\n",
    "\n",
    "def load_data(train_data, test_data, num_words=10000):\n",
    "\n",
    "    train_data.drop_duplicates(subset=['document'], inplace=True)       # (1)  \n",
    "    train_data = train_data.dropna(how = 'any') \n",
    "    test_data.drop_duplicates(subset=['document'], inplace=True)\n",
    "    test_data = test_data.dropna(how = 'any') \n",
    "\n",
    "    # (1)\n",
    "    # ['document']는 위의 표에서 댓글의 내용을 나타내는 시리즈(컬럼)이다.\n",
    "    # duplicates() : 중복 여부 불리언 값을 시리즈로 반환한다.\n",
    "    # drop.drop_dupicates() : 제거할 중복 값\n",
    "    # subset = ['col']\n",
    "    # keep='first' 중복 첫번째만 남기고 True를 반환, keep='last'마지막값을 제외하고 모두 True 반환\n",
    "    # kepp=False 는 중복되는 모든 값을 True 반환\n",
    "    # DataFrame.drop_duplicates(subset=['col'], keep='first', inplace=True)\n",
    "    \n",
    "    x_train = [] \n",
    "    for sentence in train_data['document']:\n",
    "        temp_X = tokenizer.morphs(sentence) # 토큰화\n",
    "        temp_X = [word for word in temp_X if not word in stopwords] # 불용어 제거\n",
    "        x_train.append(temp_X)\n",
    "\n",
    "    x_test = []\n",
    "    for sentence in test_data['document']:\n",
    "        temp_X = tokenizer.morphs(sentence) # 토큰화\n",
    "        temp_X = [word for word in temp_X if not word in stopwords] # 불용어 제거\n",
    "        x_test.append(temp_X)\n",
    "    \n",
    "    # x_train에 대한 라벨링 진행\n",
    "    words = np.concatenate(x_train).tolist() \n",
    "    counter = Counter(words)   # (2)\n",
    "    counter = counter.most_common(10000-4)  # (3)   \n",
    "    # pre_vocab = ['<PAD>', '<BOS>', '<UNK>', '<UNUSED>']  # (4)\n",
    "    vocab = [key for key, _ in counter]  # (5)\n",
    "    word_to_index = {word:(index+4) for index, word in enumerate(vocab)}  # (6)\n",
    "    \n",
    "    word_to_index[\"<PAD>\"] = 0\n",
    "    word_to_index[\"<BOS>\"] = 1\n",
    "    word_to_index[\"<UNK>\"] = 2  # unknown\n",
    "    word_to_index[\"<UNUSED>\"] = 3\n",
    "\n",
    "    # (2)\n",
    "    # collections.Counter(list) : list 요소들의 갯수를 딕셔너리 형태로 반환\n",
    "    # collections.Counter(list).most_common(n) : list의 요소를 세어, 최빈값 n개를 리스트에 담긴 튜플형태로 반환\n",
    "    # list.most_common() : 개수가 많은 순으로 정렬된 튜플 배열 리스트를 반환\n",
    "\n",
    "    # (3)\n",
    "    # 10000에서 4를 빼는 이유 : pre_vocab의 4개를 뺀 갯수\n",
    "    \n",
    "    # (4)\n",
    "    # 지금은 vocab과 분리 해 둔다. 후에 vocab앞에 넣어준다.\n",
    "    # 사실 지금 정의해 둘 필요는 없지만 어디에 뭐가 들어갈지 너어무 헷갈려서 미리 써둠\n",
    "\n",
    "    # (5)\n",
    "    # counter에 담긴 두 쌍의 튜플값에서 단어만 가지고 온다.\n",
    "    \n",
    "    # (6)\n",
    "    # enumerate(list) : index와 해당 요소를 반환\n",
    "    # (index+3) : 후에 vocab앞에 pre_vocab을 넣어야 하므로, 인덱스 번호를 4부터 시작하게 맞춰준다.\n",
    "        \n",
    "    def wordlist_to_indexlist(wordlist):\n",
    "        return [word_to_index[word] for word in wordlist if word in word_to_index]   \n",
    "        \n",
    "    x_train = list(map(wordlist_to_indexlist, x_train)) # (7)\n",
    "    x_test = list(map(wordlist_to_indexlist, x_test))\n",
    "\n",
    "    # (7)\n",
    "    # list(map(함수이름, 함수에 들어갈 인자)) : map으로 함수를 실행시켜서 list로 반환\n",
    "    # map(함수이름, 함수에 들어갈 인자) = 함수이름(인자)   \n",
    "    \n",
    "    y_train = np.array(list(train_data['label']))\n",
    "    y_test = np.array(list(test_data['label']))\n",
    "    \n",
    "    \n",
    "    index_to_word = {index:word for word, index in word_to_index.items()}\n",
    "        \n",
    "    return x_train, y_train, x_test, y_test, word_to_index, index_to_word\n",
    "            \n",
    "    \n",
    "x_train, y_train, x_test, y_test, word_to_index, index_to_word = load_data(train_data, test_data)\n",
    "\n",
    "# x_train, y_train, x_test, y_test, word_to_index, index_to_word을 모두 설정했다.\n",
    "\n",
    "# 문장 1개를 활용할 딕셔너리와 함께 주면, 단어 인덱스 리스트 벡터로 변환해 주는 함수입니다. \n",
    "# 단, 모든 문장은 <BOS>로 시작하는 것으로 합니다. \n",
    "def get_encoded_sentence(sentence, word_to_index):\n",
    "    return [word_to_index['<BOS>']]+[word_to_index[word] if word in word_to_index else word_to_index['<UNK>'] for word in sentence.split()]\n"
   ]
  },
  {
   "cell_type": "code",
   "execution_count": 6,
   "id": "58bb2a1e",
   "metadata": {},
   "outputs": [],
   "source": [
    "# 여러 개의 문장 리스트를 한꺼번에 단어 인덱스 리스트 벡터로 encode해 주는 함수입니다. \n",
    "def get_encoded_sentences(sentences, word_to_index):\n",
    "    return [get_encoded_sentence(sentence, word_to_index) for sentence in sentences]"
   ]
  },
  {
   "cell_type": "code",
   "execution_count": 11,
   "id": "052f84ef",
   "metadata": {},
   "outputs": [
    {
     "name": "stdout",
     "output_type": "stream",
     "text": [
      "진짜 짱 다 ♥\n",
      "라벨:  1\n"
     ]
    }
   ],
   "source": [
    "# 숫자 벡터로 encode된 문장을 원래대로 decode하는 함수입니다. \n",
    "def get_decoded_sentence(encoded_sentence, index_to_word):\n",
    "    return ' '.join(index_to_word[index] if index in index_to_word else '<UNK>' for index in encoded_sentence[1:])  #[1:]를 통해 <BOS>를 제외\n",
    "\n",
    "print(get_decoded_sentence(x_train[10], index_to_word))\n",
    "print('라벨: ', y_train[10])  # 1번째 리뷰데이터의 라벨"
   ]
  },
  {
   "cell_type": "code",
   "execution_count": 8,
   "id": "976d33da",
   "metadata": {},
   "outputs": [],
   "source": [
    "# 여러 개의 숫자 벡터로 encode된 문장을 한꺼번에 원래대로 decode하는 함수입니다. \n",
    "def get_decoded_sentences(encoded_sentences, index_to_word):\n",
    "    return [get_decoded_sentence(encoded_sentence, index_to_word) for encoded_sentence in encoded_sentences]"
   ]
  },
  {
   "cell_type": "code",
   "execution_count": 12,
   "id": "3fa1d839",
   "metadata": {},
   "outputs": [
    {
     "name": "stdout",
     "output_type": "stream",
     "text": [
      "문장길이 평균 :  15.26729941281567\n",
      "문장길이 최대 :  116\n",
      "문장길이 표준편차 :  12.314845334104783\n",
      "pad_sequences maxlen :  39\n",
      "전체 문장의 약 0.93퍼센트가 maxlen 설정값 이내에 포함됩니다.\n"
     ]
    }
   ],
   "source": [
    "# 3) 모델 구성을 위한 데이터 분석 및 가공\n",
    "'''\n",
    "데이터셋 내 문장 길이 분포\n",
    "적절한 최대 문장 길이 지정\n",
    "keras.preprocessing.sequence.pad_sequences 을 활용한 패딩 추가\n",
    "'''\n",
    "total_data_text = x_train + x_test\n",
    "# 텍스트데이터 문장길이의 리스트를 생성한 후\n",
    "num_tokens = [len(tokens) for tokens in total_data_text]\n",
    "num_tokens = np.array(num_tokens)\n",
    "# 문장길이의 평균값, 최대값, 표준편차를 계산해 본다. \n",
    "print('문장길이 평균 : ', np.mean(num_tokens))\n",
    "print('문장길이 최대 : ', np.max(num_tokens))\n",
    "print('문장길이 표준편차 : ', np.std(num_tokens))\n",
    "\n",
    "# 예를들어, 최대 길이를 (평균 + 2*표준편차)로 한다면,  \n",
    "max_tokens = np.mean(num_tokens) + 2 * np.std(num_tokens)\n",
    "maxlen = int(max_tokens)\n",
    "print('pad_sequences maxlen : ', maxlen)\n",
    "print('전체 문장의 약 %.2f퍼센트가 maxlen 설정값 이내에 포함됩니다.' % (np.sum(num_tokens < max_tokens) / len(num_tokens)))"
   ]
  },
  {
   "cell_type": "code",
   "execution_count": 13,
   "id": "d9b3723b",
   "metadata": {},
   "outputs": [
    {
     "data": {
      "image/png": "[encoded data removed]",
      "text/plain": [
       "<Figure size 432x288 with 1 Axes>"
      ]
     },
     "metadata": {
      "needs_background": "light"
     },
     "output_type": "display_data"
    }
   ],
   "source": [
    "# 리뷰 길이 분포 확인\n",
    "from matplotlib import pyplot as plt\n",
    "\n",
    "plt.hist(num_tokens, bins=50)\n",
    "plt.xlabel('length of samples')\n",
    "plt.ylabel('number of samples')\n",
    "plt.show()"
   ]
  },
  {
   "cell_type": "code",
   "execution_count": 14,
   "id": "48c8f563",
   "metadata": {},
   "outputs": [
    {
     "name": "stdout",
     "output_type": "stream",
     "text": [
      "(146182, 39)\n"
     ]
    }
   ],
   "source": [
    "import tensorflow as tf\n",
    "\n",
    "x_train = tf.keras.preprocessing.sequence.pad_sequences(x_train,\n",
    "                                                        value=word_to_index[\"<PAD>\"],\n",
    "                                                        padding='post', # 혹은 'pre'\n",
    "                                                        maxlen=maxlen)\n",
    "\n",
    "x_test = tf.keras.preprocessing.sequence.pad_sequences(x_test,\n",
    "                                                       value=word_to_index[\"<PAD>\"],\n",
    "                                                       padding='post', # 혹은 'pre'\n",
    "                                                       maxlen=maxlen)\n",
    "\n",
    "print(x_train.shape)"
   ]
  },
  {
   "cell_type": "code",
   "execution_count": 15,
   "id": "e75edcf5",
   "metadata": {},
   "outputs": [],
   "source": [
    "# 4) 모델 구성 및 validation set 구성\n",
    "#validation set은 5) 모델 학습때에 분리할 예정\n",
    "import tensorflow as tf"
   ]
  },
  {
   "cell_type": "code",
   "execution_count": 16,
   "id": "822b5280",
   "metadata": {},
   "outputs": [
    {
     "name": "stdout",
     "output_type": "stream",
     "text": [
      "Model: \"sequential\"\n",
      "_________________________________________________________________\n",
      "Layer (type)                 Output Shape              Param #   \n",
      "=================================================================\n",
      "embedding (Embedding)        (None, None, 36)          360000    \n",
      "_________________________________________________________________\n",
      "lstm (LSTM)                  (None, 16)                3392      \n",
      "_________________________________________________________________\n",
      "dense (Dense)                (None, 32)                544       \n",
      "_________________________________________________________________\n",
      "dense_1 (Dense)              (None, 8)                 264       \n",
      "_________________________________________________________________\n",
      "dense_2 (Dense)              (None, 1)                 9         \n",
      "=================================================================\n",
      "Total params: 364,209\n",
      "Trainable params: 364,209\n",
      "Non-trainable params: 0\n",
      "_________________________________________________________________\n"
     ]
    }
   ],
   "source": [
    "# RNN 모델\n",
    "# 임베딩사이즈는 (1, 10000, 4)이다.\n",
    "# 단어사전의 갯수 10000개, 단어 하나당 4차원 벡터\n",
    "# LSTM은 3차원을 입력값으로 받으므로, 3차원 배열로 임베딩 해준다.\n",
    "\n",
    "rnn_model = tf.keras.Sequential()\n",
    "rnn_model.add(tf.keras.layers.Embedding(10000, 36, input_shape=(None,)))\n",
    "rnn_model.add(tf.keras.layers.LSTM(16))\n",
    "rnn_model.add(tf.keras.layers.Dense(32, activation='relu'))\n",
    "rnn_model.add(tf.keras.layers.Dense(8, activation='relu'))\n",
    "rnn_model.add(tf.keras.layers.Dense(1, activation='sigmoid'))  # 최종 출력은 긍정/부정을 나타내는 1dim 입니다.\n",
    "\n",
    "rnn_model.summary()"
   ]
  },
  {
   "cell_type": "code",
   "execution_count": 17,
   "id": "ef9f65bd",
   "metadata": {},
   "outputs": [
    {
     "name": "stdout",
     "output_type": "stream",
     "text": [
      "Model: \"sequential_1\"\n",
      "_________________________________________________________________\n",
      "Layer (type)                 Output Shape              Param #   \n",
      "=================================================================\n",
      "embedding_1 (Embedding)      (None, None, 512)         5120000   \n",
      "_________________________________________________________________\n",
      "conv1d (Conv1D)              (None, None, 36)          55332     \n",
      "_________________________________________________________________\n",
      "max_pooling1d (MaxPooling1D) (None, None, 36)          0         \n",
      "_________________________________________________________________\n",
      "conv1d_1 (Conv1D)            (None, None, 32)          3488      \n",
      "_________________________________________________________________\n",
      "global_max_pooling1d (Global (None, 32)                0         \n",
      "_________________________________________________________________\n",
      "dense_3 (Dense)              (None, 16)                528       \n",
      "_________________________________________________________________\n",
      "dense_4 (Dense)              (None, 1)                 17        \n",
      "=================================================================\n",
      "Total params: 5,179,365\n",
      "Trainable params: 5,179,365\n",
      "Non-trainable params: 0\n",
      "_________________________________________________________________\n"
     ]
    }
   ],
   "source": [
    "# CNN 모델\n",
    "cnn_model = tf.keras.Sequential()\n",
    "cnn_model.add(tf.keras.layers.Embedding(10000, 512, input_shape=(None,)))\n",
    "cnn_model.add(tf.keras.layers.Conv1D(36, 3, activation='relu'))\n",
    "cnn_model.add(tf.keras.layers.MaxPooling1D(10))\n",
    "cnn_model.add(tf.keras.layers.Conv1D(32, 3, activation='relu'))\n",
    "cnn_model.add(tf.keras.layers.GlobalMaxPooling1D())\n",
    "cnn_model.add(tf.keras.layers.Dense(16, activation='relu'))\n",
    "cnn_model.add(tf.keras.layers.Dense(1, activation='sigmoid'))  # 최종 출력은 긍정/부정을 나타내는 1dim 입니다.\n",
    "\n",
    "cnn_model.summary()"
   ]
  },
  {
   "cell_type": "code",
   "execution_count": 18,
   "id": "4988c185",
   "metadata": {},
   "outputs": [
    {
     "name": "stdout",
     "output_type": "stream",
     "text": [
      "Model: \"sequential_2\"\n",
      "_________________________________________________________________\n",
      "Layer (type)                 Output Shape              Param #   \n",
      "=================================================================\n",
      "embedding_2 (Embedding)      (None, None, 32)          320000    \n",
      "_________________________________________________________________\n",
      "global_max_pooling1d_1 (Glob (None, 32)                0         \n",
      "_________________________________________________________________\n",
      "dense_5 (Dense)              (None, 16)                528       \n",
      "_________________________________________________________________\n",
      "dense_6 (Dense)              (None, 1)                 17        \n",
      "=================================================================\n",
      "Total params: 320,545\n",
      "Trainable params: 320,545\n",
      "Non-trainable params: 0\n",
      "_________________________________________________________________\n"
     ]
    }
   ],
   "source": [
    "# GlobalMaxPooling1D() 레이어 하나만 사용하는 방법\n",
    "# 전체 문장 중에서 단 하나의 가장 중요한 단어만 피처로 추출하여 그것으로 문장의 긍정/부정을 평가하는 방식\n",
    "GMP_model = tf.keras.Sequential()\n",
    "GMP_model.add(tf.keras.layers.Embedding(10000, 32, input_shape=(None,)))\n",
    "GMP_model.add(tf.keras.layers.GlobalMaxPooling1D())\n",
    "GMP_model.add(tf.keras.layers.Dense(16, activation='relu'))\n",
    "GMP_model.add(tf.keras.layers.Dense(1, activation='sigmoid'))  # 최종 출력은 긍정/부정을 나타내는 1dim 입니다.\n",
    "\n",
    "GMP_model.summary()"
   ]
  },
  {
   "cell_type": "code",
   "execution_count": 20,
   "id": "1e3c779f",
   "metadata": {},
   "outputs": [
    {
     "name": "stdout",
     "output_type": "stream",
     "text": [
      "학습용 데이터 전체 개수 : 146182\n",
      "학습용 데이터 개수 ; 102327.4\n",
      "검증용 데이터 개수 : 43854.6\n"
     ]
    },
    {
     "data": {
      "text/plain": [
       "'x_train과 x_val을 7:3 비율로 나누어서 학습과 검증을 반복하도록 설정\\n모델을 학습하기에 앞서, model.compile() 메서드를 통해서 학습방식에 대한 설정을 해야한다.\\n\\noptimizer(정규화기) : 최적화 알고리즘 설정\\nloss(손실함수) : 최적화에 사용되는 목적 함수\\nmetrics(평가지표) : 분류에서는 accuracy, 회귀에서는 mse, rmse, r2, mae, mspe, mape, msle 등을 사용\\nverbose = 학습 중 출력되는 문구를 설정\\n0 : 아무 것도 출력하지 않는다.\\n1 : 훈련의 진행도를 보여주는 진행 막대를 보여준다.\\n2 : 미니 배치마다 손실 정보를 출력한다.\\n'"
      ]
     },
     "execution_count": 20,
     "metadata": {},
     "output_type": "execute_result"
    }
   ],
   "source": [
    "# 5) 모델 훈련 개시\n",
    "print('학습용 데이터 전체 개수 :', len(x_train))\n",
    "print('학습용 데이터 개수 ;', len(x_train)*0.7)\n",
    "print('검증용 데이터 개수 :', len(x_train)*0.3)\n",
    "\n",
    "'''x_train과 x_val을 7:3 비율로 나누어서 학습과 검증을 반복하도록 설정\n",
    "모델을 학습하기에 앞서, model.compile() 메서드를 통해서 학습방식에 대한 설정을 해야한다.\n",
    "\n",
    "optimizer(정규화기) : 최적화 알고리즘 설정\n",
    "loss(손실함수) : 최적화에 사용되는 목적 함수\n",
    "metrics(평가지표) : 분류에서는 accuracy, 회귀에서는 mse, rmse, r2, mae, mspe, mape, msle 등을 사용\n",
    "verbose = 학습 중 출력되는 문구를 설정\n",
    "0 : 아무 것도 출력하지 않는다.\n",
    "1 : 훈련의 진행도를 보여주는 진행 막대를 보여준다.\n",
    "2 : 미니 배치마다 손실 정보를 출력한다.\n",
    "'''"
   ]
  },
  {
   "cell_type": "code",
   "execution_count": 21,
   "id": "011e067c",
   "metadata": {},
   "outputs": [
    {
     "name": "stdout",
     "output_type": "stream",
     "text": [
      "Epoch 1/20\n",
      "200/200 [==============================] - 21s 9ms/step - loss: 0.5502 - accuracy: 0.6935 - val_loss: 0.3839 - val_accuracy: 0.8353\n",
      "Epoch 2/20\n",
      "200/200 [==============================] - 1s 6ms/step - loss: 0.3418 - accuracy: 0.8545 - val_loss: 0.3658 - val_accuracy: 0.8384\n",
      "Epoch 3/20\n",
      "200/200 [==============================] - 1s 6ms/step - loss: 0.3121 - accuracy: 0.8692 - val_loss: 0.3511 - val_accuracy: 0.8451\n",
      "Epoch 4/20\n",
      "200/200 [==============================] - 1s 6ms/step - loss: 0.2945 - accuracy: 0.8758 - val_loss: 0.3517 - val_accuracy: 0.8471\n",
      "Epoch 5/20\n",
      "200/200 [==============================] - 1s 6ms/step - loss: 0.2773 - accuracy: 0.8817 - val_loss: 0.3752 - val_accuracy: 0.8379\n",
      "Epoch 6/20\n",
      "200/200 [==============================] - 1s 6ms/step - loss: 0.2609 - accuracy: 0.8857 - val_loss: 0.3752 - val_accuracy: 0.8482\n",
      "Epoch 7/20\n",
      "200/200 [==============================] - 1s 6ms/step - loss: 0.2496 - accuracy: 0.8893 - val_loss: 0.4085 - val_accuracy: 0.8481\n",
      "Epoch 8/20\n",
      "200/200 [==============================] - 1s 6ms/step - loss: 0.2377 - accuracy: 0.8932 - val_loss: 0.4360 - val_accuracy: 0.8473\n",
      "Epoch 9/20\n",
      "200/200 [==============================] - 1s 6ms/step - loss: 0.2290 - accuracy: 0.8947 - val_loss: 0.4441 - val_accuracy: 0.8482\n",
      "Epoch 10/20\n",
      "200/200 [==============================] - 1s 6ms/step - loss: 0.2193 - accuracy: 0.8985 - val_loss: 0.4606 - val_accuracy: 0.8475\n",
      "Epoch 11/20\n",
      "200/200 [==============================] - 1s 6ms/step - loss: 0.2127 - accuracy: 0.8994 - val_loss: 0.4754 - val_accuracy: 0.8472\n",
      "Epoch 12/20\n",
      "200/200 [==============================] - 1s 6ms/step - loss: 0.2055 - accuracy: 0.9015 - val_loss: 0.4793 - val_accuracy: 0.8483\n",
      "Epoch 13/20\n",
      "200/200 [==============================] - 1s 6ms/step - loss: 0.2019 - accuracy: 0.9027 - val_loss: 0.5077 - val_accuracy: 0.8493\n",
      "Epoch 14/20\n",
      "200/200 [==============================] - 1s 6ms/step - loss: 0.1920 - accuracy: 0.9063 - val_loss: 0.5030 - val_accuracy: 0.8453\n",
      "Epoch 15/20\n",
      "200/200 [==============================] - 1s 6ms/step - loss: 0.1872 - accuracy: 0.9080 - val_loss: 0.5038 - val_accuracy: 0.8485\n",
      "Epoch 16/20\n",
      "200/200 [==============================] - 1s 6ms/step - loss: 0.1800 - accuracy: 0.9101 - val_loss: 0.5260 - val_accuracy: 0.8497\n",
      "Epoch 17/20\n",
      "200/200 [==============================] - 1s 6ms/step - loss: 0.1727 - accuracy: 0.9131 - val_loss: 0.5410 - val_accuracy: 0.8489\n",
      "Epoch 18/20\n",
      "200/200 [==============================] - 1s 6ms/step - loss: 0.1662 - accuracy: 0.9155 - val_loss: 0.5587 - val_accuracy: 0.8494\n",
      "Epoch 19/20\n",
      "200/200 [==============================] - 1s 6ms/step - loss: 0.1610 - accuracy: 0.9176 - val_loss: 0.5581 - val_accuracy: 0.8475\n",
      "Epoch 20/20\n",
      "200/200 [==============================] - 1s 6ms/step - loss: 0.1551 - accuracy: 0.9209 - val_loss: 0.5628 - val_accuracy: 0.8398\n"
     ]
    }
   ],
   "source": [
    "rnn_model.compile(optimizer='adam',loss='binary_crossentropy', metrics=['accuracy'])\n",
    "rnn_history = rnn_model.fit(x_train, y_train, epochs=20, batch_size=512, validation_split=0.3, verbose=1)"
   ]
  },
  {
   "cell_type": "code",
   "execution_count": 22,
   "id": "5358cf0b",
   "metadata": {},
   "outputs": [
    {
     "name": "stdout",
     "output_type": "stream",
     "text": [
      "Epoch 1/20\n",
      "200/200 [==============================] - 13s 13ms/step - loss: 0.4254 - accuracy: 0.8027 - val_loss: 0.3483 - val_accuracy: 0.8488\n",
      "Epoch 2/20\n",
      "200/200 [==============================] - 2s 11ms/step - loss: 0.2890 - accuracy: 0.8801 - val_loss: 0.3366 - val_accuracy: 0.8554\n",
      "Epoch 3/20\n",
      "200/200 [==============================] - 2s 11ms/step - loss: 0.2141 - accuracy: 0.9168 - val_loss: 0.3638 - val_accuracy: 0.8523\n",
      "Epoch 4/20\n",
      "200/200 [==============================] - 2s 11ms/step - loss: 0.1401 - accuracy: 0.9500 - val_loss: 0.4390 - val_accuracy: 0.8432\n",
      "Epoch 5/20\n",
      "200/200 [==============================] - 2s 11ms/step - loss: 0.0869 - accuracy: 0.9712 - val_loss: 0.5076 - val_accuracy: 0.8392\n",
      "Epoch 6/20\n",
      "200/200 [==============================] - 2s 11ms/step - loss: 0.0577 - accuracy: 0.9814 - val_loss: 0.5882 - val_accuracy: 0.8370\n",
      "Epoch 7/20\n",
      "200/200 [==============================] - 2s 11ms/step - loss: 0.0426 - accuracy: 0.9858 - val_loss: 0.6639 - val_accuracy: 0.8356\n",
      "Epoch 8/20\n",
      "200/200 [==============================] - 2s 11ms/step - loss: 0.0334 - accuracy: 0.9892 - val_loss: 0.7529 - val_accuracy: 0.8342\n",
      "Epoch 9/20\n",
      "200/200 [==============================] - 2s 11ms/step - loss: 0.0300 - accuracy: 0.9895 - val_loss: 0.8282 - val_accuracy: 0.8326\n",
      "Epoch 10/20\n",
      "200/200 [==============================] - 2s 11ms/step - loss: 0.0295 - accuracy: 0.9894 - val_loss: 0.8769 - val_accuracy: 0.8324\n",
      "Epoch 11/20\n",
      "200/200 [==============================] - 2s 11ms/step - loss: 0.0293 - accuracy: 0.9891 - val_loss: 0.8604 - val_accuracy: 0.8318\n",
      "Epoch 12/20\n",
      "200/200 [==============================] - 2s 11ms/step - loss: 0.0288 - accuracy: 0.9894 - val_loss: 0.8781 - val_accuracy: 0.8337\n",
      "Epoch 13/20\n",
      "200/200 [==============================] - 2s 11ms/step - loss: 0.0254 - accuracy: 0.9907 - val_loss: 0.9206 - val_accuracy: 0.8282\n",
      "Epoch 14/20\n",
      "200/200 [==============================] - 2s 11ms/step - loss: 0.0207 - accuracy: 0.9921 - val_loss: 0.9939 - val_accuracy: 0.8314\n",
      "Epoch 15/20\n",
      "200/200 [==============================] - 2s 11ms/step - loss: 0.0163 - accuracy: 0.9940 - val_loss: 1.0202 - val_accuracy: 0.8304\n",
      "Epoch 16/20\n",
      "200/200 [==============================] - 2s 11ms/step - loss: 0.0141 - accuracy: 0.9945 - val_loss: 1.0978 - val_accuracy: 0.8306\n",
      "Epoch 17/20\n",
      "200/200 [==============================] - 2s 11ms/step - loss: 0.0149 - accuracy: 0.9945 - val_loss: 1.1091 - val_accuracy: 0.8285\n",
      "Epoch 18/20\n",
      "200/200 [==============================] - 2s 11ms/step - loss: 0.0192 - accuracy: 0.9924 - val_loss: 1.0951 - val_accuracy: 0.8266\n",
      "Epoch 19/20\n",
      "200/200 [==============================] - 2s 11ms/step - loss: 0.0222 - accuracy: 0.9914 - val_loss: 1.0385 - val_accuracy: 0.8331\n",
      "Epoch 20/20\n",
      "200/200 [==============================] - 2s 11ms/step - loss: 0.0171 - accuracy: 0.9931 - val_loss: 1.1405 - val_accuracy: 0.8276\n"
     ]
    }
   ],
   "source": [
    "cnn_model.compile(optimizer='adam',loss='binary_crossentropy', metrics=['accuracy'])\n",
    "cnn_history = cnn_model.fit(x_train, y_train, epochs=20, batch_size=512, validation_split=0.3, verbose=1)"
   ]
  },
  {
   "cell_type": "code",
   "execution_count": 23,
   "id": "332caa25",
   "metadata": {},
   "outputs": [
    {
     "name": "stdout",
     "output_type": "stream",
     "text": [
      "Epoch 1/20\n",
      "200/200 [==============================] - 1s 4ms/step - loss: 0.5609 - accuracy: 0.7438 - val_loss: 0.4086 - val_accuracy: 0.8241\n",
      "Epoch 2/20\n",
      "200/200 [==============================] - 1s 4ms/step - loss: 0.3543 - accuracy: 0.8490 - val_loss: 0.3610 - val_accuracy: 0.8400\n",
      "Epoch 3/20\n",
      "200/200 [==============================] - 1s 4ms/step - loss: 0.3046 - accuracy: 0.8727 - val_loss: 0.3564 - val_accuracy: 0.8454\n",
      "Epoch 4/20\n",
      "200/200 [==============================] - 1s 4ms/step - loss: 0.2742 - accuracy: 0.8876 - val_loss: 0.3602 - val_accuracy: 0.8454\n",
      "Epoch 5/20\n",
      "200/200 [==============================] - 1s 3ms/step - loss: 0.2503 - accuracy: 0.8991 - val_loss: 0.3687 - val_accuracy: 0.8451\n",
      "Epoch 6/20\n",
      "200/200 [==============================] - 1s 4ms/step - loss: 0.2290 - accuracy: 0.9091 - val_loss: 0.3818 - val_accuracy: 0.8430\n",
      "Epoch 7/20\n",
      "200/200 [==============================] - 1s 3ms/step - loss: 0.2100 - accuracy: 0.9189 - val_loss: 0.3989 - val_accuracy: 0.8412\n",
      "Epoch 8/20\n",
      "200/200 [==============================] - 1s 4ms/step - loss: 0.1924 - accuracy: 0.9276 - val_loss: 0.4162 - val_accuracy: 0.8390\n",
      "Epoch 9/20\n",
      "200/200 [==============================] - 1s 4ms/step - loss: 0.1767 - accuracy: 0.9347 - val_loss: 0.4370 - val_accuracy: 0.8371\n",
      "Epoch 10/20\n",
      "200/200 [==============================] - 1s 4ms/step - loss: 0.1622 - accuracy: 0.9412 - val_loss: 0.4598 - val_accuracy: 0.8347\n",
      "Epoch 11/20\n",
      "200/200 [==============================] - 1s 4ms/step - loss: 0.1489 - accuracy: 0.9473 - val_loss: 0.4844 - val_accuracy: 0.8312\n",
      "Epoch 12/20\n",
      "200/200 [==============================] - 1s 4ms/step - loss: 0.1370 - accuracy: 0.9524 - val_loss: 0.5080 - val_accuracy: 0.8303\n",
      "Epoch 13/20\n",
      "200/200 [==============================] - 1s 3ms/step - loss: 0.1259 - accuracy: 0.9574 - val_loss: 0.5343 - val_accuracy: 0.8276\n",
      "Epoch 14/20\n",
      "200/200 [==============================] - 1s 4ms/step - loss: 0.1159 - accuracy: 0.9611 - val_loss: 0.5584 - val_accuracy: 0.8259\n",
      "Epoch 15/20\n",
      "200/200 [==============================] - 1s 4ms/step - loss: 0.1070 - accuracy: 0.9644 - val_loss: 0.5868 - val_accuracy: 0.8248\n",
      "Epoch 16/20\n",
      "200/200 [==============================] - 1s 4ms/step - loss: 0.0986 - accuracy: 0.9686 - val_loss: 0.6092 - val_accuracy: 0.8244\n",
      "Epoch 17/20\n",
      "200/200 [==============================] - 1s 4ms/step - loss: 0.0913 - accuracy: 0.9712 - val_loss: 0.6374 - val_accuracy: 0.8231\n",
      "Epoch 18/20\n",
      "200/200 [==============================] - 1s 4ms/step - loss: 0.0842 - accuracy: 0.9738 - val_loss: 0.6634 - val_accuracy: 0.8194\n",
      "Epoch 19/20\n",
      "200/200 [==============================] - 1s 4ms/step - loss: 0.0783 - accuracy: 0.9761 - val_loss: 0.6972 - val_accuracy: 0.8192\n",
      "Epoch 20/20\n",
      "200/200 [==============================] - 1s 4ms/step - loss: 0.0726 - accuracy: 0.9779 - val_loss: 0.7201 - val_accuracy: 0.8174\n"
     ]
    }
   ],
   "source": [
    "GMP_model.compile(optimizer='adam',loss='binary_crossentropy', metrics=['accuracy'])\n",
    "GMP_history = GMP_model.fit(x_train, y_train, epochs=20, batch_size=512, validation_split=0.3, verbose=1)"
   ]
  },
  {
   "cell_type": "code",
   "execution_count": 24,
   "id": "12de6981",
   "metadata": {},
   "outputs": [
    {
     "name": "stdout",
     "output_type": "stream",
     "text": [
      "dict_keys(['loss', 'accuracy', 'val_loss', 'val_accuracy'])\n"
     ]
    },
    {
     "data": {
      "image/png": "[encoded data removed]",
      "text/plain": [
       "<Figure size 432x288 with 1 Axes>"
      ]
     },
     "metadata": {
      "needs_background": "light"
     },
     "output_type": "display_data"
    }
   ],
   "source": [
    "# 6) Loss, Accuracy 그래프 시각화\n",
    "# RNN\n",
    "rnn_history_dict = rnn_history.history\n",
    "print(rnn_history_dict.keys()) # epoch에 따른 그래프를 그려볼 수 있는 항목들\n",
    "\n",
    "import matplotlib.pyplot as plt\n",
    "\n",
    "acc = rnn_history_dict['accuracy']\n",
    "val_acc = rnn_history_dict['val_accuracy']\n",
    "loss = rnn_history_dict['loss']\n",
    "val_loss = rnn_history_dict['val_loss']\n",
    "\n",
    "epochs = range(1, len(acc) + 1)\n",
    "\n",
    "plt.plot(epochs, loss, 'r', label='Training loss')\n",
    "plt.plot(epochs, val_loss, 'b', label='Validation loss')\n",
    "plt.title('Training and validation loss')\n",
    "plt.xlabel('Epochs')\n",
    "plt.ylabel('Loss')\n",
    "plt.legend()\n",
    "\n",
    "plt.show()"
   ]
  },
  {
   "cell_type": "code",
   "execution_count": 25,
   "id": "e6409af4",
   "metadata": {},
   "outputs": [
    {
     "name": "stdout",
     "output_type": "stream",
     "text": [
      "dict_keys(['loss', 'accuracy', 'val_loss', 'val_accuracy'])\n"
     ]
    },
    {
     "data": {
      "image/png": "[encoded data removed]",
      "text/plain": [
       "<Figure size 432x288 with 1 Axes>"
      ]
     },
     "metadata": {
      "needs_background": "light"
     },
     "output_type": "display_data"
    }
   ],
   "source": [
    "# CNN\n",
    "cnn_history_dict = cnn_history.history\n",
    "print(cnn_history_dict.keys()) # epoch에 따른 그래프를 그려볼 수 있는 항목들\n",
    "\n",
    "import matplotlib.pyplot as plt\n",
    "\n",
    "acc = cnn_history_dict['accuracy']\n",
    "val_acc = cnn_history_dict['val_accuracy']\n",
    "loss = cnn_history_dict['loss']\n",
    "val_loss = cnn_history_dict['val_loss']\n",
    "\n",
    "epochs = range(1, len(acc) + 1)\n",
    "\n",
    "plt.plot(epochs, loss, 'r', label='Training loss')\n",
    "plt.plot(epochs, val_loss, 'b', label='Validation loss')\n",
    "plt.title('Training and validation loss')\n",
    "plt.xlabel('Epochs')\n",
    "plt.ylabel('Loss')\n",
    "plt.legend()\n",
    "\n",
    "plt.show()"
   ]
  },
  {
   "cell_type": "code",
   "execution_count": 26,
   "id": "002b3a3e",
   "metadata": {},
   "outputs": [
    {
     "name": "stdout",
     "output_type": "stream",
     "text": [
      "dict_keys(['loss', 'accuracy', 'val_loss', 'val_accuracy'])\n"
     ]
    },
    {
     "data": {
      "image/png": "[encoded data removed]",
      "text/plain": [
       "<Figure size 432x288 with 1 Axes>"
      ]
     },
     "metadata": {
      "needs_background": "light"
     },
     "output_type": "display_data"
    }
   ],
   "source": [
    "# GlobalMaxPooling1D()\n",
    "GMP_history_dict = GMP_history.history\n",
    "print(GMP_history_dict.keys()) # epoch에 따른 그래프를 그려볼 수 있는 항목들\n",
    "\n",
    "import matplotlib.pyplot as plt\n",
    "\n",
    "acc = GMP_history_dict['accuracy']\n",
    "val_acc = GMP_history_dict['val_accuracy']\n",
    "loss = GMP_history_dict['loss']\n",
    "val_loss = GMP_history_dict['val_loss']\n",
    "\n",
    "epochs = range(1, len(acc) + 1)\n",
    "\n",
    "plt.plot(epochs, loss, 'r', label='Training loss')\n",
    "plt.plot(epochs, val_loss, 'b', label='Validation loss')\n",
    "plt.title('Training and validation loss')\n",
    "plt.xlabel('Epochs')\n",
    "plt.ylabel('Loss')\n",
    "plt.legend()\n",
    "\n",
    "plt.show()"
   ]
  },
  {
   "cell_type": "code",
   "execution_count": 27,
   "id": "95be0e2f",
   "metadata": {},
   "outputs": [
    {
     "name": "stdout",
     "output_type": "stream",
     "text": [
      "1537/1537 - 3s - loss: 0.5688 - accuracy: 0.8358\n",
      "1537/1537 - 3s - loss: 1.1466 - accuracy: 0.8256\n",
      "1537/1537 - 2s - loss: 0.7127 - accuracy: 0.8176\n"
     ]
    }
   ],
   "source": [
    "results_1 = rnn_model.evaluate(x_test,  y_test, verbose=2)\n",
    "results_2 = cnn_model.evaluate(x_test,  y_test, verbose=2)\n",
    "results_3 = GMP_model.evaluate(x_test,  y_test, verbose=2)"
   ]
  },
  {
   "cell_type": "code",
   "execution_count": 29,
   "id": "4231735a",
   "metadata": {},
   "outputs": [
    {
     "name": "stdout",
     "output_type": "stream",
     "text": [
      "gensim                        4.1.2\r\n"
     ]
    }
   ],
   "source": [
    "# 7) 학습된 Embedding 레이어 분석\n",
    "!mkdir -p ~/aiffel/sentiment_classification/data\n",
    "!pip list | grep gensim"
   ]
  },
  {
   "cell_type": "code",
   "execution_count": 30,
   "id": "04395546",
   "metadata": {},
   "outputs": [
    {
     "name": "stdout",
     "output_type": "stream",
     "text": [
      "(10000, 36)\n"
     ]
    }
   ],
   "source": [
    "#RNN\n",
    "rnn_embedding_layer = rnn_model.layers[0]\n",
    "rnn_weights = rnn_embedding_layer.get_weights()[0]\n",
    "\n",
    "# shape: (vocab_size, embedding_dim)\n",
    "print(rnn_weights.shape)   "
   ]
  },
  {
   "cell_type": "code",
   "execution_count": 31,
   "id": "ac270a77",
   "metadata": {},
   "outputs": [
    {
     "data": {
      "text/plain": [
       "8"
      ]
     },
     "execution_count": 31,
     "metadata": {},
     "output_type": "execute_result"
    }
   ],
   "source": [
    "import os\n",
    "\n",
    "vocab_size = rnn_weights.shape[0]\n",
    "rnn_word_vector_dim = rnn_weights.shape[1]\n",
    "\n",
    "# 학습한 Embedding 파라미터를 파일에 써서 저장합니다. \n",
    "word2vec_file_path = os.getenv('HOME')+'/aiffel/sentiment_classification/data/word2vec.txt'\n",
    "f = open(word2vec_file_path, 'w')\n",
    "f.write('{} {}\\n'.format(vocab_size-4, rnn_word_vector_dim))"
   ]
  },
  {
   "cell_type": "code",
   "execution_count": 32,
   "id": "68a7db38",
   "metadata": {},
   "outputs": [],
   "source": [
    "# 단어 개수(에서 특수문자 4개는 제외하고)만큼의 워드 벡터를 파일에 기록합니다. \n",
    "rnn_vectors = rnn_model.get_weights()[0]\n",
    "\n",
    "for i in range(4, vocab_size):\n",
    "    f.write('{} {}\\n'.format(index_to_word[i], ' '.join(map(str, list(rnn_vectors[i, :])))))\n",
    "f.close()"
   ]
  },
  {
   "cell_type": "code",
   "execution_count": 33,
   "id": "11d6a8f6",
   "metadata": {},
   "outputs": [
    {
     "name": "stdout",
     "output_type": "stream",
     "text": [
      "(10000, 512)\n"
     ]
    }
   ],
   "source": [
    "#CNN\n",
    "cnn_embedding_layer = cnn_model.layers[0]\n",
    "cnn_weights = cnn_embedding_layer.get_weights()[0]\n",
    "\n",
    "# shape: (vocab_size, embedding_dim)\n",
    "print(cnn_weights.shape)    "
   ]
  },
  {
   "cell_type": "code",
   "execution_count": 34,
   "id": "f8f9fad3",
   "metadata": {},
   "outputs": [],
   "source": [
    "vocab_size = rnn_weights.shape[0]\n",
    "cnn_word_vector_dim = cnn_weights.shape[1]\n",
    "\n",
    "# 학습한 Embedding 파라미터를 파일에 써서 저장합니다. \n",
    "word2vec_file_path = os.getenv('HOME')+'/aiffel/sentiment_classification/data/word2vec.txt'\n",
    "f = open(word2vec_file_path, 'w')"
   ]
  },
  {
   "cell_type": "code",
   "execution_count": 35,
   "id": "246c25d2",
   "metadata": {},
   "outputs": [],
   "source": [
    "# 단어 개수(에서 특수문자 4개는 제외하고)만큼의 워드 벡터를 파일에 기록합니다. \n",
    "cnn_vectors = cnn_model.get_weights()[0]\n",
    "\n",
    "for i in range(4, vocab_size):\n",
    "    f.write('{} {}\\n'.format(index_to_word[i], ' '.join(map(str, list(cnn_vectors[i, :])))))\n",
    "f.close()"
   ]
  },
  {
   "cell_type": "code",
   "execution_count": 36,
   "id": "24a5db87",
   "metadata": {},
   "outputs": [
    {
     "name": "stdout",
     "output_type": "stream",
     "text": [
      "(10000, 32)\n"
     ]
    }
   ],
   "source": [
    "#GlobalMaxPooling1D()\n",
    "GMP_embedding_layer = GMP_model.layers[0]\n",
    "GMP_weights = GMP_embedding_layer.get_weights()[0]\n",
    "\n",
    "# shape: (vocab_size, embedding_dim)\n",
    "print(GMP_weights.shape)    "
   ]
  },
  {
   "cell_type": "code",
   "execution_count": 37,
   "id": "32fe93d7",
   "metadata": {},
   "outputs": [],
   "source": [
    "vocab_size = GMP_weights.shape[0]\n",
    "GMP_word_vector_dim = GMP_weights.shape[1]\n",
    "\n",
    "# 학습한 Embedding 파라미터를 파일에 써서 저장합니다. \n",
    "word2vec_file_path = os.getenv('HOME')+'/aiffel/sentiment_classification/data/word2vec.txt'\n",
    "f = open(word2vec_file_path, 'w')"
   ]
  },
  {
   "cell_type": "code",
   "execution_count": 38,
   "id": "897748ce",
   "metadata": {},
   "outputs": [],
   "source": [
    "# 단어 개수(에서 특수문자 4개는 제외하고)만큼의 워드 벡터를 파일에 기록합니다. \n",
    "GMP_vectors = GMP_model.get_weights()[0]\n",
    "\n",
    "for i in range(4, vocab_size):\n",
    "    f.write('{} {}\\n'.format(index_to_word[i], ' '.join(map(str, list(GMP_vectors[i, :])))))\n",
    "f.close()"
   ]
  },
  {
   "cell_type": "code",
   "execution_count": 41,
   "id": "a82e9504",
   "metadata": {},
   "outputs": [
    {
     "name": "stdout",
     "output_type": "stream",
     "text": [
      "absl-py==0.12.0\r\n",
      "aiohttp @ file:///home/conda/feedstock_root/build_artifacts/aiohttp_1637087032947/work\r\n",
      "aiosignal @ file:///home/conda/feedstock_root/build_artifacts/aiosignal_1636093929600/work\r\n",
      "albumentations==1.1.0\r\n",
      "antlr4-python3-runtime==4.8\r\n",
      "anyio @ file:///home/conda/feedstock_root/build_artifacts/anyio_1637703202493/work/dist\r\n",
      "appdirs==1.4.4\r\n",
      "argon2-cffi @ file:///home/conda/feedstock_root/build_artifacts/argon2-cffi_1636021379509/work\r\n",
      "astunparse==1.6.3\r\n",
      "async-generator==1.10\r\n",
      "async-timeout @ file:///home/conda/feedstock_root/build_artifacts/async-timeout_1637092647930/work\r\n",
      "attrs @ file:///home/conda/feedstock_root/build_artifacts/attrs_1620387926260/work\r\n",
      "audioread==2.1.9\r\n",
      "backcall @ file:///home/conda/feedstock_root/build_artifacts/backcall_1592338393461/work\r\n",
      "backports.functools-lru-cache @ file:///home/conda/feedstock_root/build_artifacts/backports.functools_lru_cache_1618230623929/work\r\n",
      "beautifulsoup4==4.6.0\r\n",
      "black==21.12b0\r\n",
      "bleach @ file:///home/conda/feedstock_root/build_artifacts/bleach_1629908509068/work\r\n",
      "branca==0.4.2\r\n",
      "brotlipy @ file:///home/conda/feedstock_root/build_artifacts/brotlipy_1636012194889/work\r\n",
      "cachetools==4.2.4\r\n",
      "certifi==2021.10.8\r\n",
      "cffi @ file:///home/conda/feedstock_root/build_artifacts/cffi_1636046055389/work\r\n",
      "chardet==3.0.4\r\n",
      "charset-normalizer @ file:///home/conda/feedstock_root/build_artifacts/charset-normalizer_1637858084653/work\r\n",
      "clang==5.0\r\n",
      "click==8.0.3\r\n",
      "click-plugins==1.1.1\r\n",
      "cligj==0.7.2\r\n",
      "cloudpickle==2.0.0\r\n",
      "cmake==3.21.3\r\n",
      "colorama @ file:///home/conda/feedstock_root/build_artifacts/colorama_1602866480661/work\r\n",
      "conda==4.11.0\r\n",
      "conda-build==3.21.7\r\n",
      "conda-package-handling @ file:///home/conda/feedstock_root/build_artifacts/conda-package-handling_1636021710069/work\r\n",
      "cryptography @ file:///home/conda/feedstock_root/build_artifacts/cryptography_1637648690905/work\r\n",
      "cssselect==1.1.0\r\n",
      "customized-konlpy==0.0.64\r\n",
      "cycler==0.11.0\r\n",
      "Cython==0.29.24\r\n",
      "dataclasses==0.6\r\n",
      "datasets==1.14.0\r\n",
      "debugpy @ file:///home/conda/feedstock_root/build_artifacts/debugpy_1636043249011/work\r\n",
      "decorator==4.4.2\r\n",
      "defusedxml @ file:///home/conda/feedstock_root/build_artifacts/defusedxml_1615232257335/work\r\n",
      "delayed==0.11.0b1\r\n",
      "Deprecated==1.2.13\r\n",
      "dill==0.3.4\r\n",
      "dlib==19.22.1\r\n",
      "docutils==0.18.1\r\n",
      "editdistance==0.6.0\r\n",
      "efficientnet==1.0.0\r\n",
      "efficientnet-pytorch==0.7.1\r\n",
      "entrypoints @ file:///home/conda/feedstock_root/build_artifacts/entrypoints_1605121927639/work/dist/entrypoints-0.3-py2.py3-none-any.whl\r\n",
      "essential-generators==1.0\r\n",
      "face-recognition==1.3.0\r\n",
      "face-recognition-models==0.3.0\r\n",
      "feedfinder2==0.0.4\r\n",
      "feedparser==6.0.8\r\n",
      "filelock @ file:///home/conda/feedstock_root/build_artifacts/filelock_1637070794272/work\r\n",
      "Fiona==1.8.20\r\n",
      "Flask==2.0.2\r\n",
      "flask-ngrok==0.0.25\r\n",
      "flatbuffers==1.12\r\n",
      "folium==0.12.1\r\n",
      "fonttools==4.28.3\r\n",
      "frozenlist @ file:///home/conda/feedstock_root/build_artifacts/frozenlist_1636286801527/work\r\n",
      "fsspec==2021.11.1\r\n",
      "future==0.18.2\r\n",
      "fvcore==0.1.5.post20211023\r\n",
      "gast==0.4.0\r\n",
      "gensim==4.1.2\r\n",
      "geopandas==0.10.1\r\n",
      "glob2==0.7\r\n",
      "google-api-core==2.2.2\r\n",
      "google-api-python-client==2.26.1\r\n",
      "google-auth==2.3.3\r\n",
      "google-auth-httplib2==0.1.0\r\n",
      "google-auth-oauthlib==0.4.6\r\n",
      "google-cloud-vision==2.5.0\r\n",
      "google-pasta==0.2.0\r\n",
      "googleapis-common-protos==1.53.0\r\n",
      "googletrans==3.0.0\r\n",
      "grpcio==1.42.0\r\n",
      "grpcio-status==1.42.0\r\n",
      "h11==0.9.0\r\n",
      "h2==3.2.0\r\n",
      "h3==3.7.3\r\n",
      "h5py==3.1.0\r\n",
      "hiredis==2.0.0\r\n",
      "hpack==3.0.0\r\n",
      "hstspreload==2021.12.1\r\n",
      "httpcore==0.9.1\r\n",
      "httplib2==0.20.2\r\n",
      "httpx==0.13.3\r\n",
      "huggingface-hub==0.0.19\r\n",
      "hydra-core==1.1.1\r\n",
      "hyperframe==5.2.0\r\n",
      "idna==2.10\r\n",
      "imageio==2.9.0\r\n",
      "imageio-ffmpeg==0.4.5\r\n",
      "imantics==0.1.12\r\n",
      "imbalanced-learn==0.8.1\r\n",
      "imgaug==0.4.0\r\n",
      "implicit==0.4.8\r\n",
      "importlib-metadata @ file:///home/conda/feedstock_root/build_artifacts/importlib-metadata_1636431527844/work\r\n",
      "importlib-resources @ file:///home/conda/feedstock_root/build_artifacts/importlib_resources_1635615662634/work\r\n",
      "iopath==0.1.9\r\n",
      "ipykernel @ file:///home/conda/feedstock_root/build_artifacts/ipykernel_1638555504864/work/dist/ipykernel-6.6.0-py3-none-any.whl\r\n",
      "ipython==7.28.0\r\n",
      "ipython-genutils==0.2.0\r\n",
      "ipywidgets @ file:///home/conda/feedstock_root/build_artifacts/ipywidgets_1631590360471/work\r\n",
      "itsdangerous==2.0.1\r\n",
      "jedi @ file:///home/conda/feedstock_root/build_artifacts/jedi_1637175083648/work\r\n",
      "jieba3k==0.35.1\r\n",
      "Jinja2 @ file:///home/conda/feedstock_root/build_artifacts/jinja2_1636510082894/work\r\n",
      "joblib==1.1.0\r\n",
      "JPype1==1.3.0\r\n",
      "jsonpickle==2.0.0\r\n",
      "jsonschema @ file:///home/conda/feedstock_root/build_artifacts/jsonschema_1636165360877/work\r\n",
      "jupyter-client @ file:///home/conda/feedstock_root/build_artifacts/jupyter_client_1637611911738/work\r\n",
      "jupyter-core @ file:///home/conda/feedstock_root/build_artifacts/jupyter_core_1636814260563/work\r\n",
      "jupyter-desktop-server @ file:///opt/install\r\n",
      "jupyter-server @ file:///home/conda/feedstock_root/build_artifacts/jupyter_server_1639084645710/work\r\n",
      "jupyter-server-proxy @ file:///home/conda/feedstock_root/build_artifacts/jupyter-server-proxy_1638279709332/work\r\n",
      "jupyterlab-pygments @ file:///home/conda/feedstock_root/build_artifacts/jupyterlab_pygments_1601375948261/work\r\n",
      "jupyterlab-widgets @ file:///home/conda/feedstock_root/build_artifacts/jupyterlab_widgets_1631590465624/work\r\n",
      "keras==2.6.0\r\n",
      "Keras-Applications==1.0.8\r\n",
      "keras-ocr==0.8.8\r\n",
      "Keras-Preprocessing==1.1.2\r\n",
      "kiwisolver==1.3.2\r\n",
      "konlpy==0.5.2\r\n",
      "labelme2coco==0.1.2\r\n",
      "libarchive-c @ file:///home/conda/feedstock_root/build_artifacts/python-libarchive-c_1637969547960/work/dist\r\n",
      "librosa==0.8.1\r\n",
      "lightgbm==3.3.0\r\n",
      "llvmlite==0.36.0\r\n",
      "lmdb==1.2.1\r\n",
      "loguru==0.5.3\r\n",
      "lxml==4.6.3\r\n",
      "Markdown==3.3.6\r\n",
      "MarkupSafe @ file:///home/conda/feedstock_root/build_artifacts/markupsafe_1635833544680/work\r\n",
      "matplotlib==3.4.3\r\n",
      "matplotlib-inline @ file:///home/conda/feedstock_root/build_artifacts/matplotlib-inline_1631080358261/work\r\n",
      "matplotlib-venn==0.11.6\r\n",
      "mecab-python===0.996-ko-0.9.2\r\n",
      "mido==1.2.10\r\n",
      "missingno==0.5.0\r\n",
      "mistune @ file:///home/conda/feedstock_root/build_artifacts/mistune_1635844679781/work\r\n",
      "moviepy==1.0.3\r\n",
      "msgpack==1.0.3\r\n",
      "multidict @ file:///home/conda/feedstock_root/build_artifacts/multidict_1636019096528/work\r\n",
      "multiprocess==0.70.12.2\r\n",
      "munch==2.5.0\r\n",
      "mypy-extensions==0.4.3\r\n",
      "nbclient @ file:///home/conda/feedstock_root/build_artifacts/nbclient_1637327213451/work\r\n",
      "nbconvert @ file:///home/conda/feedstock_root/build_artifacts/nbconvert_1636897222956/work\r\n",
      "nbformat @ file:///home/conda/feedstock_root/build_artifacts/nbformat_1617383142101/work\r\n",
      "nest-asyncio @ file:///home/conda/feedstock_root/build_artifacts/nest-asyncio_1638419302549/work\r\n",
      "networkx==2.6.3\r\n",
      "newspaper3k==0.2.8\r\n",
      "nltk==3.6.5\r\n",
      "notebook @ file:///home/conda/feedstock_root/build_artifacts/notebook_1608772651579/work\r\n",
      "numba==0.53.1\r\n",
      "numpy @ file:///home/conda/feedstock_root/build_artifacts/numpy_1636145338621/work\r\n",
      "oauthlib==3.1.1\r\n",
      "omegaconf==2.1.1\r\n",
      "opencv-contrib-python==4.5.3.56\r\n",
      "opencv-python==4.5.3.56\r\n",
      "opencv-python-headless==4.5.4.60\r\n",
      "opt-einsum==3.3.0\r\n",
      "outcome==1.1.0\r\n",
      "packaging @ file:///home/conda/feedstock_root/build_artifacts/packaging_1637239678211/work\r\n",
      "pandas==1.3.3\r\n",
      "pandocfilters @ file:///home/conda/feedstock_root/build_artifacts/pandocfilters_1631603243851/work\r\n",
      "parso @ file:///home/conda/feedstock_root/build_artifacts/parso_1638334955874/work\r\n",
      "pathspec==0.9.0\r\n",
      "patsy==0.5.2\r\n",
      "pexpect @ file:///home/conda/feedstock_root/build_artifacts/pexpect_1602535608087/work\r\n",
      "pickleshare @ file:///home/conda/feedstock_root/build_artifacts/pickleshare_1602536217715/work\r\n",
      "Pillow==8.3.2\r\n",
      "pixellib==0.7.1\r\n",
      "pkginfo @ file:///home/conda/feedstock_root/build_artifacts/pkginfo_1637342515370/work\r\n",
      "platformdirs==2.4.0\r\n",
      "pmdarima==1.8.3\r\n",
      "pooch==1.5.2\r\n",
      "portalocker==2.3.2\r\n",
      "proglog==0.1.9\r\n",
      "prometheus-client @ file:///home/conda/feedstock_root/build_artifacts/prometheus_client_1635538335951/work\r\n",
      "promise==2.3\r\n",
      "prompt-toolkit @ file:///home/conda/feedstock_root/build_artifacts/prompt-toolkit_1636045889479/work\r\n",
      "proto-plus==1.19.8\r\n",
      "protobuf==3.19.1\r\n",
      "psutil @ file:///home/conda/feedstock_root/build_artifacts/psutil_1635822677294/work\r\n",
      "ptyprocess @ file:///home/conda/feedstock_root/build_artifacts/ptyprocess_1609419310487/work/dist/ptyprocess-0.7.0-py2.py3-none-any.whl\r\n",
      "py4j==0.10.9\r\n",
      "pyarrow==6.0.1\r\n",
      "pyasn1==0.4.8\r\n",
      "pyasn1-modules==0.2.8\r\n",
      "pyclipper==1.3.0.post2\r\n",
      "pycosat @ file:///home/conda/feedstock_root/build_artifacts/pycosat_1636020362356/work\r\n",
      "pycparser @ file:///home/conda/feedstock_root/build_artifacts/pycparser_1636257122734/work\r\n",
      "pydot==1.4.2\r\n",
      "pydotplus==2.0.2\r\n",
      "Pygments @ file:///home/conda/feedstock_root/build_artifacts/pygments_1629119114968/work\r\n",
      "pyOpenSSL @ file:///home/conda/feedstock_root/build_artifacts/pyopenssl_1633192417276/work\r\n",
      "pyparsing @ file:///home/conda/feedstock_root/build_artifacts/pyparsing_1636757021002/work\r\n",
      "pyproj==3.2.1\r\n",
      "PyQt5==5.15.6\r\n",
      "PyQt5-Qt5==5.15.2\r\n",
      "PyQt5-sip==12.9.0\r\n",
      "pyrsistent @ file:///home/conda/feedstock_root/build_artifacts/pyrsistent_1636052584784/work\r\n",
      "PySocks @ file:///home/conda/feedstock_root/build_artifacts/pysocks_1635862404942/work\r\n",
      "pyspark==3.1.2\r\n",
      "pytesseract==0.3.8\r\n",
      "python-dateutil @ file:///home/conda/feedstock_root/build_artifacts/python-dateutil_1626286286081/work\r\n",
      "python-Levenshtein==0.12.2\r\n",
      "pytz @ file:///home/conda/feedstock_root/build_artifacts/pytz_1633452062248/work\r\n",
      "pyvis==0.1.9\r\n",
      "PyWavelets==1.2.0\r\n",
      "PyYAML @ file:///home/conda/feedstock_root/build_artifacts/pyyaml_1636139833192/work\r\n",
      "pyzmq @ file:///home/conda/feedstock_root/build_artifacts/pyzmq_1635877397296/work\r\n",
      "qudida==0.0.4\r\n",
      "ray==1.7.0\r\n",
      "redis==4.0.2\r\n",
      "regex==2021.11.10\r\n",
      "requests @ file:///home/conda/feedstock_root/build_artifacts/requests_1637771257551/work\r\n",
      "requests-file==1.5.1\r\n",
      "requests-oauthlib==1.3.0\r\n",
      "resampy==0.2.2\r\n",
      "rfc3986==1.5.0\r\n",
      "rsa==4.8\r\n",
      "ruamel-yaml-conda @ file:///home/conda/feedstock_root/build_artifacts/ruamel_yaml_1636009144459/work\r\n",
      "sacremoses==0.0.46\r\n",
      "scikit-image==0.18.3\r\n",
      "scikit-learn==1.0\r\n",
      "scipy==1.7.1\r\n",
      "seaborn==0.11.2\r\n",
      "selenium==4.0.0\r\n",
      "Send2Trash @ file:///home/conda/feedstock_root/build_artifacts/send2trash_1628511208346/work\r\n",
      "sentencepiece==0.1.96\r\n",
      "sgmllib3k==1.0.0\r\n",
      "Shapely==1.7.1\r\n",
      "simpervisor @ file:///home/conda/feedstock_root/build_artifacts/simpervisor_1609865618711/work\r\n",
      "six==1.16.0\r\n",
      "smart-open==5.2.1\r\n",
      "sniffio @ file:///home/conda/feedstock_root/build_artifacts/sniffio_1635844660462/work\r\n",
      "sortedcontainers==2.4.0\r\n",
      "SoundFile==0.10.3.post1\r\n",
      "soupsieve @ file:///home/conda/feedstock_root/build_artifacts/soupsieve_1638550740809/work\r\n",
      "soynlp==0.0.493\r\n",
      "statistics==1.0.3.5\r\n",
      "statsmodels==0.13.0\r\n",
      "summa==1.2.0\r\n",
      "tabulate==0.8.9\r\n",
      "tensorboard==2.7.0\r\n",
      "tensorboard-data-server==0.6.1\r\n",
      "tensorboard-plugin-wit==1.8.0\r\n",
      "tensorflow-addons==0.14.0\r\n",
      "tensorflow-datasets==4.4.0\r\n",
      "tensorflow-estimator==2.7.0\r\n",
      "tensorflow-gpu==2.6.0\r\n",
      "tensorflow-hub==0.12.0\r\n",
      "tensorflow-metadata==1.5.0\r\n",
      "termcolor==1.1.0\r\n",
      "terminado @ file:///home/conda/feedstock_root/build_artifacts/terminado_1636052205136/work\r\n",
      "testpath @ file:///home/conda/feedstock_root/build_artifacts/testpath_1621261527237/work\r\n",
      "threadpoolctl==3.0.0\r\n",
      "tifffile==2021.11.2\r\n",
      "tinysegmenter==0.3\r\n",
      "tldextract==3.1.2\r\n",
      "tokenizers==0.10.3\r\n",
      "tomli==1.2.2\r\n",
      "torch==1.9.1+cu111\r\n",
      "torchaudio==0.9.1\r\n",
      "torchvision==0.10.1+cu111\r\n",
      "tornado @ file:///home/conda/feedstock_root/build_artifacts/tornado_1635819584296/work\r\n",
      "tqdm @ file:///home/conda/feedstock_root/build_artifacts/tqdm_1632160078689/work\r\n",
      "traitlets @ file:///home/conda/feedstock_root/build_artifacts/traitlets_1635260543454/work\r\n",
      "transformers==4.11.3\r\n",
      "trio==0.19.0\r\n",
      "trio-websocket==0.9.2\r\n",
      "tweepy==3.10.0\r\n",
      "typeguard==2.13.2\r\n",
      "typing_extensions @ file:///home/conda/feedstock_root/build_artifacts/typing_extensions_1638334978229/work\r\n",
      "uritemplate==4.1.1\r\n",
      "urllib3 @ file:///home/conda/feedstock_root/build_artifacts/urllib3_1632350318291/work\r\n",
      "validators==0.18.2\r\n",
      "wcwidth @ file:///home/conda/feedstock_root/build_artifacts/wcwidth_1600965781394/work\r\n",
      "webencodings==0.5.1\r\n",
      "websocket-client @ file:///home/conda/feedstock_root/build_artifacts/websocket-client_1638949723239/work\r\n",
      "websockify @ file:///home/conda/feedstock_root/build_artifacts/websockify_1636279306203/work\r\n",
      "Werkzeug==2.0.2\r\n",
      "wget==3.2\r\n",
      "widgetsnbextension @ file:///home/conda/feedstock_root/build_artifacts/widgetsnbextension_1637174147962/work\r\n",
      "wordcloud==1.8.1\r\n",
      "wrapt==1.12.1\r\n",
      "wsproto==1.0.0\r\n",
      "xgboost==1.4.2\r\n",
      "xmljson==0.2.1\r\n",
      "xxhash==2.0.2\r\n",
      "yacs==0.1.8\r\n",
      "yarl @ file:///home/conda/feedstock_root/build_artifacts/yarl_1636046810561/work\r\n",
      "zipp @ file:///home/conda/feedstock_root/build_artifacts/zipp_1633302054558/work\r\n"
     ]
    }
   ],
   "source": [
    "# 8) 한국어 Word2Vec 임베딩 활용하여 성능 개선\n",
    "!pip freeze"
   ]
  },
  {
   "cell_type": "code",
   "execution_count": 42,
   "id": "25abb680",
   "metadata": {},
   "outputs": [
    {
     "name": "stdout",
     "output_type": "stream",
     "text": [
      "Found existing installation: gensim 4.1.2\n",
      "Uninstalling gensim-4.1.2:\n",
      "  Successfully uninstalled gensim-4.1.2\n",
      "\u001b[33mWARNING: Running pip as the 'root' user can result in broken permissions and conflicting behaviour with the system package manager. It is recommended to use a virtual environment instead: https://pip.pypa.io/warnings/venv\u001b[0m\n",
      "Collecting gensim==3.8.3\n",
      "  Downloading gensim-3.8.3.tar.gz (23.4 MB)\n",
      "     |████████████████████████████████| 23.4 MB 5.6 MB/s            \n",
      "\u001b[?25h  Preparing metadata (setup.py) ... \u001b[?25ldone\n",
      "\u001b[?25hRequirement already satisfied: numpy>=1.11.3 in /opt/conda/lib/python3.9/site-packages (from gensim==3.8.3) (1.21.4)\n",
      "Requirement already satisfied: scipy>=0.18.1 in /opt/conda/lib/python3.9/site-packages (from gensim==3.8.3) (1.7.1)\n",
      "Requirement already satisfied: six>=1.5.0 in /opt/conda/lib/python3.9/site-packages (from gensim==3.8.3) (1.16.0)\n",
      "Requirement already satisfied: smart_open>=1.8.1 in /opt/conda/lib/python3.9/site-packages (from gensim==3.8.3) (5.2.1)\n",
      "Building wheels for collected packages: gensim\n",
      "  Building wheel for gensim (setup.py) ... \u001b[?25ldone\n",
      "\u001b[?25h  Created wheel for gensim: filename=gensim-3.8.3-cp39-cp39-linux_x86_64.whl size=24328218 sha256=2a4b9c244bf8ec53d03bfc785b7aaf8c545bd9dbfaebded5a799c6d6ce785c2d\n",
      "  Stored in directory: /aiffel/.cache/pip/wheels/ca/5d/af/618594ec2f28608c1d6ee7d2b7e95a3e9b06551e3b80a491d6\n",
      "Successfully built gensim\n",
      "Installing collected packages: gensim\n",
      "Successfully installed gensim-3.8.3\n",
      "\u001b[33mWARNING: Running pip as the 'root' user can result in broken permissions and conflicting behaviour with the system package manager. It is recommended to use a virtual environment instead: https://pip.pypa.io/warnings/venv\u001b[0m\n"
     ]
    }
   ],
   "source": [
    "!pip uninstall gensim --yes\n",
    "!pip install gensim==3.8.3"
   ]
  },
  {
   "cell_type": "code",
   "execution_count": 56,
   "id": "f545d8be",
   "metadata": {},
   "outputs": [],
   "source": [
    "import os\n",
    "from gensim.models import Word2Vec"
   ]
  },
  {
   "cell_type": "code",
   "execution_count": 67,
   "id": "1554a712",
   "metadata": {},
   "outputs": [
    {
     "name": "stdout",
     "output_type": "stream",
     "text": [
      "Model: \"sequential_3\"\n",
      "_________________________________________________________________\n",
      "Layer (type)                 Output Shape              Param #   \n",
      "=================================================================\n",
      "embedding_3 (Embedding)      (None, 39, 200)           2000000   \n",
      "_________________________________________________________________\n",
      "lstm_1 (LSTM)                (None, 128)               168448    \n",
      "_________________________________________________________________\n",
      "dropout (Dropout)            (None, 128)               0         \n",
      "_________________________________________________________________\n",
      "dense_7 (Dense)              (None, 8)                 1032      \n",
      "_________________________________________________________________\n",
      "dropout_1 (Dropout)          (None, 8)                 0         \n",
      "_________________________________________________________________\n",
      "dense_8 (Dense)              (None, 1)                 9         \n",
      "=================================================================\n",
      "Total params: 2,169,489\n",
      "Trainable params: 2,169,489\n",
      "Non-trainable params: 0\n",
      "_________________________________________________________________\n"
     ]
    }
   ],
   "source": [
    "from tensorflow.keras.initializers import Constant\n",
    "\n",
    "# LSTM 레이어로 모델 설계\n",
    "model = tf.keras.Sequential()\n",
    "model.add(tf.keras.layers.Embedding(vocab_size, \n",
    "                                 word_vector_dim, \n",
    "                                 embeddings_initializer=Constant(embedding_matrix),  # 카피한 임베딩을 여기서 활용\n",
    "                                 input_length=maxlen, \n",
    "                                 trainable=True))   # trainable을 True로 주면 Fine-tuning\n",
    "model.add(tf.keras.layers.LSTM(128))  # LSTM state 벡터의 차원수 (변경가능)\n",
    "model.add(tf.keras.layers.Dropout(0.25))                    # Dropout 추가\n",
    "model.add(tf.keras.layers.Dense(8, activation='relu'))\n",
    "model.add(tf.keras.layers.Dropout(0.3))                     # Dropout 추가\n",
    "model.add(tf.keras.layers.Dense(1, activation='sigmoid'))  # 최종 출력은 긍정/부정을 나타내는 1dim\n",
    "model.summary()"
   ]
  },
  {
   "cell_type": "code",
   "execution_count": 68,
   "id": "1e14dc14",
   "metadata": {},
   "outputs": [
    {
     "name": "stdout",
     "output_type": "stream",
     "text": [
      "Epoch 1/5\n",
      "200/200 [==============================] - 4s 16ms/step - loss: 0.6935 - accuracy: 0.5009 - val_loss: 0.6931 - val_accuracy: 0.5018\n",
      "Epoch 2/5\n",
      "200/200 [==============================] - 3s 13ms/step - loss: 0.6929 - accuracy: 0.5012 - val_loss: 0.6925 - val_accuracy: 0.5018\n",
      "Epoch 3/5\n",
      "200/200 [==============================] - 3s 13ms/step - loss: 0.6922 - accuracy: 0.5047 - val_loss: 0.6916 - val_accuracy: 0.5085\n",
      "Epoch 4/5\n",
      "200/200 [==============================] - 3s 13ms/step - loss: 0.6904 - accuracy: 0.5130 - val_loss: 0.6933 - val_accuracy: 0.4982\n",
      "Epoch 5/5\n",
      "200/200 [==============================] - 3s 13ms/step - loss: 0.6932 - accuracy: 0.4961 - val_loss: 0.6931 - val_accuracy: 0.5018\n"
     ]
    }
   ],
   "source": [
    "# 학습의 진행\n",
    "model.compile(optimizer='adam', loss='binary_crossentropy', metrics=['accuracy'])\n",
    "\n",
    "history = model.fit(x_train,y_train, epochs=5, batch_size=512, validation_split=0.3, verbose=1)"
   ]
  },
  {
   "cell_type": "code",
   "execution_count": 69,
   "id": "9dc1bc6c",
   "metadata": {},
   "outputs": [
    {
     "name": "stdout",
     "output_type": "stream",
     "text": [
      "1537/1537 - 3s - loss: 0.6932 - accuracy: 0.4973\n"
     ]
    },
    {
     "data": {
      "text/plain": [
       "[0.6931515336036682, 0.4973045587539673]"
      ]
     },
     "execution_count": 69,
     "metadata": {},
     "output_type": "execute_result"
    }
   ],
   "source": [
    "results = model.evaluate(x_test,  y_test, verbose=2)\n",
    "results"
   ]
  },
  {
   "cell_type": "code",
   "execution_count": 70,
   "id": "8da6a074",
   "metadata": {},
   "outputs": [
    {
     "name": "stdout",
     "output_type": "stream",
     "text": [
      "dict_keys(['loss', 'accuracy', 'val_loss', 'val_accuracy'])\n"
     ]
    },
    {
     "data": {
      "image/png": "[encoded data removed]",
      "text/plain": [
       "<Figure size 432x288 with 1 Axes>"
      ]
     },
     "metadata": {
      "needs_background": "light"
     },
     "output_type": "display_data"
    }
   ],
   "source": [
    "history_dict = history.history\n",
    "print(history_dict.keys()) # epoch에 따른 그래프를 그려볼 수 있는 항목들\n",
    "\n",
    "import matplotlib.pyplot as plt\n",
    "\n",
    "acc = history_dict['accuracy']\n",
    "val_acc = history_dict['val_accuracy']\n",
    "loss = history_dict['loss']\n",
    "val_loss = history_dict['val_loss']\n",
    "\n",
    "epochs = range(1, len(acc) + 1)\n",
    "\n",
    "plt.plot(epochs, loss, 'r', label='Training loss')\n",
    "plt.plot(epochs, val_loss, 'b', label='Validation loss')\n",
    "plt.title('Training and validation loss')\n",
    "plt.xlabel('Epochs')\n",
    "plt.ylabel('Loss')\n",
    "plt.legend()\n",
    "\n",
    "plt.show()"
   ]
  },
  {
   "cell_type": "code",
   "execution_count": null,
   "id": "2ab78cd2",
   "metadata": {},
   "outputs": [],
   "source": []
  }
 ],
 "metadata": {
  "kernelspec": {
   "display_name": "Python 3 (ipykernel)",
   "language": "python",
   "name": "python3"
  },
  "language_info": {
   "codemirror_mode": {
    "name": "ipython",
    "version": 3
   },
   "file_extension": ".py",
   "mimetype": "text/x-python",
   "name": "python",
   "nbconvert_exporter": "python",
   "pygments_lexer": "ipython3",
   "version": "3.9.7"
  }
 },
 "nbformat": 4,
 "nbformat_minor": 5
}
